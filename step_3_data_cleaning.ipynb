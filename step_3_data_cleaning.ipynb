{
  "nbformat": 4,
  "nbformat_minor": 0,
  "metadata": {
    "colab": {
      "provenance": [],
      "mount_file_id": "1zBzaIX89b6YKl9vjbDF434M-NgnKN69a",
      "authorship_tag": "ABX9TyP09+4ExJ0pk2iZZDvVtohb",
      "include_colab_link": true
    },
    "kernelspec": {
      "name": "python3",
      "display_name": "Python 3"
    },
    "language_info": {
      "name": "python"
    }
  },
  "cells": [
    {
      "cell_type": "markdown",
      "metadata": {
        "id": "view-in-github",
        "colab_type": "text"
      },
      "source": [
        "<a href=\"https://colab.research.google.com/github/KarolMc/msc_dissertation/blob/main/step_3_data_cleaning.ipynb\" target=\"_parent\"><img src=\"https://colab.research.google.com/assets/colab-badge.svg\" alt=\"Open In Colab\"/></a>"
      ]
    },
    {
      "cell_type": "code",
      "execution_count": null,
      "metadata": {
        "id": "vB4bq8c6T0U6"
      },
      "outputs": [],
      "source": [
        "import pandas as pd\n",
        "\n",
        "import os\n",
        "\n",
        "import matplotlib.pyplot as plt\n",
        "\n",
        "import seaborn as sns\n",
        "\n",
        "import numpy as np"
      ]
    },
    {
      "cell_type": "code",
      "source": [
        "nhanes_lab_data = pd.read_csv('/content/drive/MyDrive/NHANES/merged_csv/merged_selected_lab_data.csv')\n",
        "\n",
        "nhanes_exam_data = pd.read_csv('/content/drive/MyDrive/NHANES/merged_csv/selected_exam_data.csv')"
      ],
      "metadata": {
        "id": "CAwWQ_23T7Ou"
      },
      "execution_count": null,
      "outputs": []
    },
    {
      "cell_type": "code",
      "source": [
        "nhanes_lab_data = nhanes_lab_data.drop(['Unnamed: 0'], axis = 1)"
      ],
      "metadata": {
        "id": "IlT0CwgqV3bf"
      },
      "execution_count": null,
      "outputs": []
    },
    {
      "cell_type": "code",
      "source": [
        "nhanes_lab_data['SEQN'].nunique()"
      ],
      "metadata": {
        "colab": {
          "base_uri": "https://localhost:8080/"
        },
        "id": "ISJ_7-hkVkkL",
        "outputId": "5858c5e1-c976-4674-ad78-f1d381fb7c0f"
      },
      "execution_count": null,
      "outputs": [
        {
          "output_type": "execute_result",
          "data": {
            "text/plain": [
              "50588"
            ]
          },
          "metadata": {},
          "execution_count": 4
        }
      ]
    },
    {
      "cell_type": "code",
      "source": [
        "nhanes_exam_data = nhanes_exam_data.drop('Unnamed: 0', axis = 1)\n",
        "\n",
        "nhanes_exam_data.head()"
      ],
      "metadata": {
        "id": "pS7DCendWY-s",
        "colab": {
          "base_uri": "https://localhost:8080/",
          "height": 300
        },
        "outputId": "94cc61a0-e449-4b51-e7f9-cb0e5157730b"
      },
      "execution_count": null,
      "outputs": [
        {
          "output_type": "execute_result",
          "data": {
            "text/plain": [
              "      SEQN  OHAROCDT  BMXWT  BMXHT  BMXBMI  BMXLEG  BMXARML  BMXARMC  \\\n",
              "0  41475.0       1.0  138.9  154.7   58.04    34.2     37.6     45.2   \n",
              "1  41476.0       1.0   22.0  120.4   15.18     NaN     25.1     17.1   \n",
              "2  41477.0       2.0   83.9  167.1   30.05    32.4     38.2     34.1   \n",
              "3  41479.0       1.0   65.7  154.4   27.56    33.3     34.1     33.2   \n",
              "4  41480.0       2.0   27.0  122.7   17.93     NaN     25.8     20.9   \n",
              "\n",
              "   BMXWAIST  BMXTRI  ...  BPXDI1 BPXSY2  BPXDI2  BPXSY3  BPXDI3  BPXSY4  \\\n",
              "0     156.3     0.0  ...    64.0  122.0    60.0   120.0    58.0     NaN   \n",
              "1      52.7    41.4  ...     NaN    NaN     NaN     NaN     NaN     NaN   \n",
              "2     109.5    41.4  ...    60.0  148.0    60.0   142.0    38.0     NaN   \n",
              "3      95.4    41.4  ...    70.0  108.0    66.0   106.0    66.0     NaN   \n",
              "4      60.3    41.4  ...     NaN    NaN     NaN     NaN     NaN     NaN   \n",
              "\n",
              "   BPXDI4  OHAROCGP  BMDBMIC  BMDAVSAD  \n",
              "0     NaN       NaN      NaN       NaN  \n",
              "1     NaN       NaN      NaN       NaN  \n",
              "2     NaN       NaN      NaN       NaN  \n",
              "3     NaN       NaN      NaN       NaN  \n",
              "4     NaN       NaN      NaN       NaN  \n",
              "\n",
              "[5 rows x 26 columns]"
            ],
            "text/html": [
              "\n",
              "  <div id=\"df-6d0f4461-0232-4b3a-8455-988eea23c073\">\n",
              "    <div class=\"colab-df-container\">\n",
              "      <div>\n",
              "<style scoped>\n",
              "    .dataframe tbody tr th:only-of-type {\n",
              "        vertical-align: middle;\n",
              "    }\n",
              "\n",
              "    .dataframe tbody tr th {\n",
              "        vertical-align: top;\n",
              "    }\n",
              "\n",
              "    .dataframe thead th {\n",
              "        text-align: right;\n",
              "    }\n",
              "</style>\n",
              "<table border=\"1\" class=\"dataframe\">\n",
              "  <thead>\n",
              "    <tr style=\"text-align: right;\">\n",
              "      <th></th>\n",
              "      <th>SEQN</th>\n",
              "      <th>OHAROCDT</th>\n",
              "      <th>BMXWT</th>\n",
              "      <th>BMXHT</th>\n",
              "      <th>BMXBMI</th>\n",
              "      <th>BMXLEG</th>\n",
              "      <th>BMXARML</th>\n",
              "      <th>BMXARMC</th>\n",
              "      <th>BMXWAIST</th>\n",
              "      <th>BMXTRI</th>\n",
              "      <th>...</th>\n",
              "      <th>BPXDI1</th>\n",
              "      <th>BPXSY2</th>\n",
              "      <th>BPXDI2</th>\n",
              "      <th>BPXSY3</th>\n",
              "      <th>BPXDI3</th>\n",
              "      <th>BPXSY4</th>\n",
              "      <th>BPXDI4</th>\n",
              "      <th>OHAROCGP</th>\n",
              "      <th>BMDBMIC</th>\n",
              "      <th>BMDAVSAD</th>\n",
              "    </tr>\n",
              "  </thead>\n",
              "  <tbody>\n",
              "    <tr>\n",
              "      <th>0</th>\n",
              "      <td>41475.0</td>\n",
              "      <td>1.0</td>\n",
              "      <td>138.9</td>\n",
              "      <td>154.7</td>\n",
              "      <td>58.04</td>\n",
              "      <td>34.2</td>\n",
              "      <td>37.6</td>\n",
              "      <td>45.2</td>\n",
              "      <td>156.3</td>\n",
              "      <td>0.0</td>\n",
              "      <td>...</td>\n",
              "      <td>64.0</td>\n",
              "      <td>122.0</td>\n",
              "      <td>60.0</td>\n",
              "      <td>120.0</td>\n",
              "      <td>58.0</td>\n",
              "      <td>NaN</td>\n",
              "      <td>NaN</td>\n",
              "      <td>NaN</td>\n",
              "      <td>NaN</td>\n",
              "      <td>NaN</td>\n",
              "    </tr>\n",
              "    <tr>\n",
              "      <th>1</th>\n",
              "      <td>41476.0</td>\n",
              "      <td>1.0</td>\n",
              "      <td>22.0</td>\n",
              "      <td>120.4</td>\n",
              "      <td>15.18</td>\n",
              "      <td>NaN</td>\n",
              "      <td>25.1</td>\n",
              "      <td>17.1</td>\n",
              "      <td>52.7</td>\n",
              "      <td>41.4</td>\n",
              "      <td>...</td>\n",
              "      <td>NaN</td>\n",
              "      <td>NaN</td>\n",
              "      <td>NaN</td>\n",
              "      <td>NaN</td>\n",
              "      <td>NaN</td>\n",
              "      <td>NaN</td>\n",
              "      <td>NaN</td>\n",
              "      <td>NaN</td>\n",
              "      <td>NaN</td>\n",
              "      <td>NaN</td>\n",
              "    </tr>\n",
              "    <tr>\n",
              "      <th>2</th>\n",
              "      <td>41477.0</td>\n",
              "      <td>2.0</td>\n",
              "      <td>83.9</td>\n",
              "      <td>167.1</td>\n",
              "      <td>30.05</td>\n",
              "      <td>32.4</td>\n",
              "      <td>38.2</td>\n",
              "      <td>34.1</td>\n",
              "      <td>109.5</td>\n",
              "      <td>41.4</td>\n",
              "      <td>...</td>\n",
              "      <td>60.0</td>\n",
              "      <td>148.0</td>\n",
              "      <td>60.0</td>\n",
              "      <td>142.0</td>\n",
              "      <td>38.0</td>\n",
              "      <td>NaN</td>\n",
              "      <td>NaN</td>\n",
              "      <td>NaN</td>\n",
              "      <td>NaN</td>\n",
              "      <td>NaN</td>\n",
              "    </tr>\n",
              "    <tr>\n",
              "      <th>3</th>\n",
              "      <td>41479.0</td>\n",
              "      <td>1.0</td>\n",
              "      <td>65.7</td>\n",
              "      <td>154.4</td>\n",
              "      <td>27.56</td>\n",
              "      <td>33.3</td>\n",
              "      <td>34.1</td>\n",
              "      <td>33.2</td>\n",
              "      <td>95.4</td>\n",
              "      <td>41.4</td>\n",
              "      <td>...</td>\n",
              "      <td>70.0</td>\n",
              "      <td>108.0</td>\n",
              "      <td>66.0</td>\n",
              "      <td>106.0</td>\n",
              "      <td>66.0</td>\n",
              "      <td>NaN</td>\n",
              "      <td>NaN</td>\n",
              "      <td>NaN</td>\n",
              "      <td>NaN</td>\n",
              "      <td>NaN</td>\n",
              "    </tr>\n",
              "    <tr>\n",
              "      <th>4</th>\n",
              "      <td>41480.0</td>\n",
              "      <td>2.0</td>\n",
              "      <td>27.0</td>\n",
              "      <td>122.7</td>\n",
              "      <td>17.93</td>\n",
              "      <td>NaN</td>\n",
              "      <td>25.8</td>\n",
              "      <td>20.9</td>\n",
              "      <td>60.3</td>\n",
              "      <td>41.4</td>\n",
              "      <td>...</td>\n",
              "      <td>NaN</td>\n",
              "      <td>NaN</td>\n",
              "      <td>NaN</td>\n",
              "      <td>NaN</td>\n",
              "      <td>NaN</td>\n",
              "      <td>NaN</td>\n",
              "      <td>NaN</td>\n",
              "      <td>NaN</td>\n",
              "      <td>NaN</td>\n",
              "      <td>NaN</td>\n",
              "    </tr>\n",
              "  </tbody>\n",
              "</table>\n",
              "<p>5 rows × 26 columns</p>\n",
              "</div>\n",
              "      <button class=\"colab-df-convert\" onclick=\"convertToInteractive('df-6d0f4461-0232-4b3a-8455-988eea23c073')\"\n",
              "              title=\"Convert this dataframe to an interactive table.\"\n",
              "              style=\"display:none;\">\n",
              "        \n",
              "  <svg xmlns=\"http://www.w3.org/2000/svg\" height=\"24px\"viewBox=\"0 0 24 24\"\n",
              "       width=\"24px\">\n",
              "    <path d=\"M0 0h24v24H0V0z\" fill=\"none\"/>\n",
              "    <path d=\"M18.56 5.44l.94 2.06.94-2.06 2.06-.94-2.06-.94-.94-2.06-.94 2.06-2.06.94zm-11 1L8.5 8.5l.94-2.06 2.06-.94-2.06-.94L8.5 2.5l-.94 2.06-2.06.94zm10 10l.94 2.06.94-2.06 2.06-.94-2.06-.94-.94-2.06-.94 2.06-2.06.94z\"/><path d=\"M17.41 7.96l-1.37-1.37c-.4-.4-.92-.59-1.43-.59-.52 0-1.04.2-1.43.59L10.3 9.45l-7.72 7.72c-.78.78-.78 2.05 0 2.83L4 21.41c.39.39.9.59 1.41.59.51 0 1.02-.2 1.41-.59l7.78-7.78 2.81-2.81c.8-.78.8-2.07 0-2.86zM5.41 20L4 18.59l7.72-7.72 1.47 1.35L5.41 20z\"/>\n",
              "  </svg>\n",
              "      </button>\n",
              "      \n",
              "  <style>\n",
              "    .colab-df-container {\n",
              "      display:flex;\n",
              "      flex-wrap:wrap;\n",
              "      gap: 12px;\n",
              "    }\n",
              "\n",
              "    .colab-df-convert {\n",
              "      background-color: #E8F0FE;\n",
              "      border: none;\n",
              "      border-radius: 50%;\n",
              "      cursor: pointer;\n",
              "      display: none;\n",
              "      fill: #1967D2;\n",
              "      height: 32px;\n",
              "      padding: 0 0 0 0;\n",
              "      width: 32px;\n",
              "    }\n",
              "\n",
              "    .colab-df-convert:hover {\n",
              "      background-color: #E2EBFA;\n",
              "      box-shadow: 0px 1px 2px rgba(60, 64, 67, 0.3), 0px 1px 3px 1px rgba(60, 64, 67, 0.15);\n",
              "      fill: #174EA6;\n",
              "    }\n",
              "\n",
              "    [theme=dark] .colab-df-convert {\n",
              "      background-color: #3B4455;\n",
              "      fill: #D2E3FC;\n",
              "    }\n",
              "\n",
              "    [theme=dark] .colab-df-convert:hover {\n",
              "      background-color: #434B5C;\n",
              "      box-shadow: 0px 1px 3px 1px rgba(0, 0, 0, 0.15);\n",
              "      filter: drop-shadow(0px 1px 2px rgba(0, 0, 0, 0.3));\n",
              "      fill: #FFFFFF;\n",
              "    }\n",
              "  </style>\n",
              "\n",
              "      <script>\n",
              "        const buttonEl =\n",
              "          document.querySelector('#df-6d0f4461-0232-4b3a-8455-988eea23c073 button.colab-df-convert');\n",
              "        buttonEl.style.display =\n",
              "          google.colab.kernel.accessAllowed ? 'block' : 'none';\n",
              "\n",
              "        async function convertToInteractive(key) {\n",
              "          const element = document.querySelector('#df-6d0f4461-0232-4b3a-8455-988eea23c073');\n",
              "          const dataTable =\n",
              "            await google.colab.kernel.invokeFunction('convertToInteractive',\n",
              "                                                     [key], {});\n",
              "          if (!dataTable) return;\n",
              "\n",
              "          const docLinkHtml = 'Like what you see? Visit the ' +\n",
              "            '<a target=\"_blank\" href=https://colab.research.google.com/notebooks/data_table.ipynb>data table notebook</a>'\n",
              "            + ' to learn more about interactive tables.';\n",
              "          element.innerHTML = '';\n",
              "          dataTable['output_type'] = 'display_data';\n",
              "          await google.colab.output.renderOutput(dataTable, element);\n",
              "          const docLink = document.createElement('div');\n",
              "          docLink.innerHTML = docLinkHtml;\n",
              "          element.appendChild(docLink);\n",
              "        }\n",
              "      </script>\n",
              "    </div>\n",
              "  </div>\n",
              "  "
            ]
          },
          "metadata": {},
          "execution_count": 5
        }
      ]
    },
    {
      "cell_type": "code",
      "source": [
        "nhanes_exam_data['SEQN'].nunique()"
      ],
      "metadata": {
        "colab": {
          "base_uri": "https://localhost:8080/"
        },
        "id": "cwi1SkgRWgUF",
        "outputId": "8c82b7e5-6f2f-47a0-88a3-6ad4acbcf920"
      },
      "execution_count": null,
      "outputs": [
        {
          "output_type": "execute_result",
          "data": {
            "text/plain": [
              "48710"
            ]
          },
          "metadata": {},
          "execution_count": 6
        }
      ]
    },
    {
      "cell_type": "code",
      "source": [
        "nhanes_raw_lab_exam = pd.merge(nhanes_lab_data, nhanes_exam_data, on='SEQN', how = 'inner')"
      ],
      "metadata": {
        "id": "SBU5frMCULe_"
      },
      "execution_count": null,
      "outputs": []
    },
    {
      "cell_type": "code",
      "source": [
        "nhanes_raw_lab_exam['SEQN'] = nhanes_raw_lab_exam['SEQN'].astype('int')"
      ],
      "metadata": {
        "id": "CyJqLMc1YLXe"
      },
      "execution_count": null,
      "outputs": []
    },
    {
      "cell_type": "code",
      "source": [
        "nhanes_raw_lab_exam.shape"
      ],
      "metadata": {
        "id": "QT_ap56EXYcB",
        "outputId": "4cb36536-6409-414d-b22e-2c6d6126cb50",
        "colab": {
          "base_uri": "https://localhost:8080/"
        }
      },
      "execution_count": null,
      "outputs": [
        {
          "output_type": "execute_result",
          "data": {
            "text/plain": [
              "(48710, 217)"
            ]
          },
          "metadata": {},
          "execution_count": 9
        }
      ]
    },
    {
      "cell_type": "code",
      "source": [
        "nhanes_raw_lab_exam = nhanes_raw_lab_exam.loc[nhanes_raw_lab_exam['RIDSTATR']== 2.0]"
      ],
      "metadata": {
        "id": "-qSSeOrCkULp"
      },
      "execution_count": null,
      "outputs": []
    },
    {
      "cell_type": "code",
      "source": [
        "nhanes_raw_lab_exam['RIDSTATR'].value_counts()"
      ],
      "metadata": {
        "colab": {
          "base_uri": "https://localhost:8080/"
        },
        "id": "QJEEFOQflSDF",
        "outputId": "185fa7aa-8957-49a2-8d10-ed263e82c238"
      },
      "execution_count": null,
      "outputs": [
        {
          "output_type": "execute_result",
          "data": {
            "text/plain": [
              "2.0    48710\n",
              "Name: RIDSTATR, dtype: int64"
            ]
          },
          "metadata": {},
          "execution_count": 11
        }
      ]
    },
    {
      "cell_type": "code",
      "source": [
        "col_list = nhanes_raw_lab_exam.columns"
      ],
      "metadata": {
        "id": "U2n5CP4iaK7N"
      },
      "execution_count": null,
      "outputs": []
    },
    {
      "cell_type": "code",
      "source": [
        "nhanes_raw_lab_exam.head()"
      ],
      "metadata": {
        "colab": {
          "base_uri": "https://localhost:8080/",
          "height": 300
        },
        "id": "4fdTV6SHZ97r",
        "outputId": "03f6039a-3303-4228-9e1a-7f035f96f0c1"
      },
      "execution_count": null,
      "outputs": [
        {
          "output_type": "execute_result",
          "data": {
            "text/plain": [
              "    SEQN  RIDSTATR  RIDAGEYR  Race_Hispanic_origin  DMDBORN2  DMDCITZN  \\\n",
              "0  41475       2.0      62.0                   5.0       1.0       1.0   \n",
              "1  41476       2.0       6.0                   5.0       1.0       1.0   \n",
              "2  41477       2.0      71.0                   3.0       1.0       1.0   \n",
              "3  41478       2.0       1.0                   3.0       1.0       1.0   \n",
              "4  41479       2.0      52.0                   1.0       2.0       1.0   \n",
              "\n",
              "   DMDEDUC3  DMDEDUC2  DMDMARTL  DMDHHSIZ  ...  BPXDI1  BPXSY2  BPXDI2  \\\n",
              "0       NaN       3.0       1.0       2.0  ...    64.0   122.0    60.0   \n",
              "1       0.0       NaN       NaN       6.0  ...     NaN     NaN     NaN   \n",
              "2       NaN       3.0       1.0       2.0  ...    60.0   148.0    60.0   \n",
              "3       NaN       NaN       NaN       4.0  ...     NaN     NaN     NaN   \n",
              "4       NaN       1.0       1.0       5.0  ...    70.0   108.0    66.0   \n",
              "\n",
              "   BPXSY3  BPXDI3  BPXSY4  BPXDI4  OHAROCGP  BMDBMIC  BMDAVSAD  \n",
              "0   120.0    58.0     NaN     NaN       NaN      NaN       NaN  \n",
              "1     NaN     NaN     NaN     NaN       NaN      NaN       NaN  \n",
              "2   142.0    38.0     NaN     NaN       NaN      NaN       NaN  \n",
              "3     NaN     NaN     NaN     NaN       NaN      NaN       NaN  \n",
              "4   106.0    66.0     NaN     NaN       NaN      NaN       NaN  \n",
              "\n",
              "[5 rows x 217 columns]"
            ],
            "text/html": [
              "\n",
              "  <div id=\"df-68d3049b-2f8f-4614-a251-4f115aed3220\">\n",
              "    <div class=\"colab-df-container\">\n",
              "      <div>\n",
              "<style scoped>\n",
              "    .dataframe tbody tr th:only-of-type {\n",
              "        vertical-align: middle;\n",
              "    }\n",
              "\n",
              "    .dataframe tbody tr th {\n",
              "        vertical-align: top;\n",
              "    }\n",
              "\n",
              "    .dataframe thead th {\n",
              "        text-align: right;\n",
              "    }\n",
              "</style>\n",
              "<table border=\"1\" class=\"dataframe\">\n",
              "  <thead>\n",
              "    <tr style=\"text-align: right;\">\n",
              "      <th></th>\n",
              "      <th>SEQN</th>\n",
              "      <th>RIDSTATR</th>\n",
              "      <th>RIDAGEYR</th>\n",
              "      <th>Race_Hispanic_origin</th>\n",
              "      <th>DMDBORN2</th>\n",
              "      <th>DMDCITZN</th>\n",
              "      <th>DMDEDUC3</th>\n",
              "      <th>DMDEDUC2</th>\n",
              "      <th>DMDMARTL</th>\n",
              "      <th>DMDHHSIZ</th>\n",
              "      <th>...</th>\n",
              "      <th>BPXDI1</th>\n",
              "      <th>BPXSY2</th>\n",
              "      <th>BPXDI2</th>\n",
              "      <th>BPXSY3</th>\n",
              "      <th>BPXDI3</th>\n",
              "      <th>BPXSY4</th>\n",
              "      <th>BPXDI4</th>\n",
              "      <th>OHAROCGP</th>\n",
              "      <th>BMDBMIC</th>\n",
              "      <th>BMDAVSAD</th>\n",
              "    </tr>\n",
              "  </thead>\n",
              "  <tbody>\n",
              "    <tr>\n",
              "      <th>0</th>\n",
              "      <td>41475</td>\n",
              "      <td>2.0</td>\n",
              "      <td>62.0</td>\n",
              "      <td>5.0</td>\n",
              "      <td>1.0</td>\n",
              "      <td>1.0</td>\n",
              "      <td>NaN</td>\n",
              "      <td>3.0</td>\n",
              "      <td>1.0</td>\n",
              "      <td>2.0</td>\n",
              "      <td>...</td>\n",
              "      <td>64.0</td>\n",
              "      <td>122.0</td>\n",
              "      <td>60.0</td>\n",
              "      <td>120.0</td>\n",
              "      <td>58.0</td>\n",
              "      <td>NaN</td>\n",
              "      <td>NaN</td>\n",
              "      <td>NaN</td>\n",
              "      <td>NaN</td>\n",
              "      <td>NaN</td>\n",
              "    </tr>\n",
              "    <tr>\n",
              "      <th>1</th>\n",
              "      <td>41476</td>\n",
              "      <td>2.0</td>\n",
              "      <td>6.0</td>\n",
              "      <td>5.0</td>\n",
              "      <td>1.0</td>\n",
              "      <td>1.0</td>\n",
              "      <td>0.0</td>\n",
              "      <td>NaN</td>\n",
              "      <td>NaN</td>\n",
              "      <td>6.0</td>\n",
              "      <td>...</td>\n",
              "      <td>NaN</td>\n",
              "      <td>NaN</td>\n",
              "      <td>NaN</td>\n",
              "      <td>NaN</td>\n",
              "      <td>NaN</td>\n",
              "      <td>NaN</td>\n",
              "      <td>NaN</td>\n",
              "      <td>NaN</td>\n",
              "      <td>NaN</td>\n",
              "      <td>NaN</td>\n",
              "    </tr>\n",
              "    <tr>\n",
              "      <th>2</th>\n",
              "      <td>41477</td>\n",
              "      <td>2.0</td>\n",
              "      <td>71.0</td>\n",
              "      <td>3.0</td>\n",
              "      <td>1.0</td>\n",
              "      <td>1.0</td>\n",
              "      <td>NaN</td>\n",
              "      <td>3.0</td>\n",
              "      <td>1.0</td>\n",
              "      <td>2.0</td>\n",
              "      <td>...</td>\n",
              "      <td>60.0</td>\n",
              "      <td>148.0</td>\n",
              "      <td>60.0</td>\n",
              "      <td>142.0</td>\n",
              "      <td>38.0</td>\n",
              "      <td>NaN</td>\n",
              "      <td>NaN</td>\n",
              "      <td>NaN</td>\n",
              "      <td>NaN</td>\n",
              "      <td>NaN</td>\n",
              "    </tr>\n",
              "    <tr>\n",
              "      <th>3</th>\n",
              "      <td>41478</td>\n",
              "      <td>2.0</td>\n",
              "      <td>1.0</td>\n",
              "      <td>3.0</td>\n",
              "      <td>1.0</td>\n",
              "      <td>1.0</td>\n",
              "      <td>NaN</td>\n",
              "      <td>NaN</td>\n",
              "      <td>NaN</td>\n",
              "      <td>4.0</td>\n",
              "      <td>...</td>\n",
              "      <td>NaN</td>\n",
              "      <td>NaN</td>\n",
              "      <td>NaN</td>\n",
              "      <td>NaN</td>\n",
              "      <td>NaN</td>\n",
              "      <td>NaN</td>\n",
              "      <td>NaN</td>\n",
              "      <td>NaN</td>\n",
              "      <td>NaN</td>\n",
              "      <td>NaN</td>\n",
              "    </tr>\n",
              "    <tr>\n",
              "      <th>4</th>\n",
              "      <td>41479</td>\n",
              "      <td>2.0</td>\n",
              "      <td>52.0</td>\n",
              "      <td>1.0</td>\n",
              "      <td>2.0</td>\n",
              "      <td>1.0</td>\n",
              "      <td>NaN</td>\n",
              "      <td>1.0</td>\n",
              "      <td>1.0</td>\n",
              "      <td>5.0</td>\n",
              "      <td>...</td>\n",
              "      <td>70.0</td>\n",
              "      <td>108.0</td>\n",
              "      <td>66.0</td>\n",
              "      <td>106.0</td>\n",
              "      <td>66.0</td>\n",
              "      <td>NaN</td>\n",
              "      <td>NaN</td>\n",
              "      <td>NaN</td>\n",
              "      <td>NaN</td>\n",
              "      <td>NaN</td>\n",
              "    </tr>\n",
              "  </tbody>\n",
              "</table>\n",
              "<p>5 rows × 217 columns</p>\n",
              "</div>\n",
              "      <button class=\"colab-df-convert\" onclick=\"convertToInteractive('df-68d3049b-2f8f-4614-a251-4f115aed3220')\"\n",
              "              title=\"Convert this dataframe to an interactive table.\"\n",
              "              style=\"display:none;\">\n",
              "        \n",
              "  <svg xmlns=\"http://www.w3.org/2000/svg\" height=\"24px\"viewBox=\"0 0 24 24\"\n",
              "       width=\"24px\">\n",
              "    <path d=\"M0 0h24v24H0V0z\" fill=\"none\"/>\n",
              "    <path d=\"M18.56 5.44l.94 2.06.94-2.06 2.06-.94-2.06-.94-.94-2.06-.94 2.06-2.06.94zm-11 1L8.5 8.5l.94-2.06 2.06-.94-2.06-.94L8.5 2.5l-.94 2.06-2.06.94zm10 10l.94 2.06.94-2.06 2.06-.94-2.06-.94-.94-2.06-.94 2.06-2.06.94z\"/><path d=\"M17.41 7.96l-1.37-1.37c-.4-.4-.92-.59-1.43-.59-.52 0-1.04.2-1.43.59L10.3 9.45l-7.72 7.72c-.78.78-.78 2.05 0 2.83L4 21.41c.39.39.9.59 1.41.59.51 0 1.02-.2 1.41-.59l7.78-7.78 2.81-2.81c.8-.78.8-2.07 0-2.86zM5.41 20L4 18.59l7.72-7.72 1.47 1.35L5.41 20z\"/>\n",
              "  </svg>\n",
              "      </button>\n",
              "      \n",
              "  <style>\n",
              "    .colab-df-container {\n",
              "      display:flex;\n",
              "      flex-wrap:wrap;\n",
              "      gap: 12px;\n",
              "    }\n",
              "\n",
              "    .colab-df-convert {\n",
              "      background-color: #E8F0FE;\n",
              "      border: none;\n",
              "      border-radius: 50%;\n",
              "      cursor: pointer;\n",
              "      display: none;\n",
              "      fill: #1967D2;\n",
              "      height: 32px;\n",
              "      padding: 0 0 0 0;\n",
              "      width: 32px;\n",
              "    }\n",
              "\n",
              "    .colab-df-convert:hover {\n",
              "      background-color: #E2EBFA;\n",
              "      box-shadow: 0px 1px 2px rgba(60, 64, 67, 0.3), 0px 1px 3px 1px rgba(60, 64, 67, 0.15);\n",
              "      fill: #174EA6;\n",
              "    }\n",
              "\n",
              "    [theme=dark] .colab-df-convert {\n",
              "      background-color: #3B4455;\n",
              "      fill: #D2E3FC;\n",
              "    }\n",
              "\n",
              "    [theme=dark] .colab-df-convert:hover {\n",
              "      background-color: #434B5C;\n",
              "      box-shadow: 0px 1px 3px 1px rgba(0, 0, 0, 0.15);\n",
              "      filter: drop-shadow(0px 1px 2px rgba(0, 0, 0, 0.3));\n",
              "      fill: #FFFFFF;\n",
              "    }\n",
              "  </style>\n",
              "\n",
              "      <script>\n",
              "        const buttonEl =\n",
              "          document.querySelector('#df-68d3049b-2f8f-4614-a251-4f115aed3220 button.colab-df-convert');\n",
              "        buttonEl.style.display =\n",
              "          google.colab.kernel.accessAllowed ? 'block' : 'none';\n",
              "\n",
              "        async function convertToInteractive(key) {\n",
              "          const element = document.querySelector('#df-68d3049b-2f8f-4614-a251-4f115aed3220');\n",
              "          const dataTable =\n",
              "            await google.colab.kernel.invokeFunction('convertToInteractive',\n",
              "                                                     [key], {});\n",
              "          if (!dataTable) return;\n",
              "\n",
              "          const docLinkHtml = 'Like what you see? Visit the ' +\n",
              "            '<a target=\"_blank\" href=https://colab.research.google.com/notebooks/data_table.ipynb>data table notebook</a>'\n",
              "            + ' to learn more about interactive tables.';\n",
              "          element.innerHTML = '';\n",
              "          dataTable['output_type'] = 'display_data';\n",
              "          await google.colab.output.renderOutput(dataTable, element);\n",
              "          const docLink = document.createElement('div');\n",
              "          docLink.innerHTML = docLinkHtml;\n",
              "          element.appendChild(docLink);\n",
              "        }\n",
              "      </script>\n",
              "    </div>\n",
              "  </div>\n",
              "  "
            ]
          },
          "metadata": {},
          "execution_count": 13
        }
      ]
    },
    {
      "cell_type": "code",
      "source": [
        "# Identify duplpicated SEQN entries (merging error)"
      ],
      "metadata": {
        "id": "2-SL0BE9EJVg"
      },
      "execution_count": null,
      "outputs": []
    },
    {
      "cell_type": "code",
      "source": [
        "dupes = nhanes_raw_lab_exam.loc[nhanes_raw_lab_exam.SEQN.duplicated(), :]\n",
        "\n",
        "seqns = dupes['SEQN'].to_list()\n"
      ],
      "metadata": {
        "id": "28Mo8WLbc1N6"
      },
      "execution_count": null,
      "outputs": []
    },
    {
      "cell_type": "code",
      "source": [
        "nhanes_raw_lab_exam =  nhanes_raw_lab_exam[~nhanes_raw_lab_exam.SEQN.isin(seqns)]"
      ],
      "metadata": {
        "id": "YrckxVZ6TNue"
      },
      "execution_count": null,
      "outputs": []
    },
    {
      "cell_type": "code",
      "source": [
        "nhanes_raw_lab_exam.shape"
      ],
      "metadata": {
        "colab": {
          "base_uri": "https://localhost:8080/"
        },
        "id": "WzGTqWR6TqP0",
        "outputId": "39f6158b-a31d-4d21-e4a5-e4ab57537d36"
      },
      "execution_count": null,
      "outputs": [
        {
          "output_type": "execute_result",
          "data": {
            "text/plain": [
              "(48710, 217)"
            ]
          },
          "metadata": {},
          "execution_count": 17
        }
      ]
    },
    {
      "cell_type": "code",
      "source": [
        "# Find columns with string values (all columns not to be included in the analysis/modelling)"
      ],
      "metadata": {
        "id": "pNmpPqG-mTyf"
      },
      "execution_count": null,
      "outputs": []
    },
    {
      "cell_type": "code",
      "source": [
        "string_cols = nhanes_raw_lab_exam.columns[nhanes_raw_lab_exam.dtypes=='object']"
      ],
      "metadata": {
        "id": "oiCT716ckty4"
      },
      "execution_count": null,
      "outputs": []
    },
    {
      "cell_type": "code",
      "source": [
        "string_cols"
      ],
      "metadata": {
        "colab": {
          "base_uri": "https://localhost:8080/"
        },
        "id": "dR_81PU5Dmk3",
        "outputId": "7850a42b-ea02-4b2b-e944-2c86536aeee4"
      },
      "execution_count": null,
      "outputs": [
        {
          "output_type": "execute_result",
          "data": {
            "text/plain": [
              "Index(['BMI_range'], dtype='object')"
            ]
          },
          "metadata": {},
          "execution_count": 20
        }
      ]
    },
    {
      "cell_type": "code",
      "source": [
        "# examining missing data"
      ],
      "metadata": {
        "id": "tE3-cA0mYw7t"
      },
      "execution_count": null,
      "outputs": []
    },
    {
      "cell_type": "code",
      "source": [
        "# Clean up country of birth"
      ],
      "metadata": {
        "id": "dGnt5RxfUqD-"
      },
      "execution_count": null,
      "outputs": []
    },
    {
      "cell_type": "code",
      "source": [
        "nhanes_raw_lab_exam['DMDBORN2'].value_counts()"
      ],
      "metadata": {
        "colab": {
          "base_uri": "https://localhost:8080/"
        },
        "id": "5Dzr6-x6Skpn",
        "outputId": "a4e70230-dc8e-4a17-e061-d9a402398342"
      },
      "execution_count": null,
      "outputs": [
        {
          "output_type": "execute_result",
          "data": {
            "text/plain": [
              "1.0    16406\n",
              "2.0     1496\n",
              "4.0     1078\n",
              "5.0     1024\n",
              "7.0       10\n",
              "9.0        1\n",
              "Name: DMDBORN2, dtype: int64"
            ]
          },
          "metadata": {},
          "execution_count": 23
        }
      ]
    },
    {
      "cell_type": "code",
      "source": [
        "nhanes_raw_lab_exam['DMDBORN4'].value_counts()"
      ],
      "metadata": {
        "colab": {
          "base_uri": "https://localhost:8080/"
        },
        "id": "TCnzHd8JStZh",
        "outputId": "95e48571-ea97-42c1-fe87-6658902cf194"
      },
      "execution_count": null,
      "outputs": [
        {
          "output_type": "execute_result",
          "data": {
            "text/plain": [
              "1.0     22712\n",
              "2.0      5972\n",
              "77.0        6\n",
              "99.0        5\n",
              "Name: DMDBORN4, dtype: int64"
            ]
          },
          "metadata": {},
          "execution_count": 24
        }
      ]
    },
    {
      "cell_type": "code",
      "source": [
        "nhanes_raw_lab_exam['Birth_country'] = nhanes_raw_lab_exam['DMDBORN2'].combine_first(nhanes_raw_lab_exam['DMDBORN4'])\n",
        "\n",
        "nhanes_raw_lab_exam['Birth_country'].value_counts()"
      ],
      "metadata": {
        "colab": {
          "base_uri": "https://localhost:8080/"
        },
        "id": "qv975gsWS_yp",
        "outputId": "e81be058-1bae-49fe-b5ed-3891c0e30e4e"
      },
      "execution_count": null,
      "outputs": [
        {
          "output_type": "execute_result",
          "data": {
            "text/plain": [
              "1.0     39118\n",
              "2.0      7468\n",
              "4.0      1078\n",
              "5.0      1024\n",
              "7.0        10\n",
              "77.0        6\n",
              "99.0        5\n",
              "9.0         1\n",
              "Name: Birth_country, dtype: int64"
            ]
          },
          "metadata": {},
          "execution_count": 25
        }
      ]
    },
    {
      "cell_type": "code",
      "source": [
        "nhanes_raw_lab_exam['Birth_country'] = nhanes_raw_lab_exam['Birth_country'].fillna(1.0)\n",
        "\n",
        "nhanes_raw_lab_exam['Birth_country'] = nhanes_raw_lab_exam['Birth_country'].replace([4.0, 5.0, 7.0, 9.0, 77.0, 99.0], 2.0)"
      ],
      "metadata": {
        "id": "76vJ3-twTQY7"
      },
      "execution_count": null,
      "outputs": []
    },
    {
      "cell_type": "code",
      "source": [
        "one_hot = pd.get_dummies(nhanes_raw_lab_exam['Birth_country'])\n",
        "\n",
        "one_hot.columns = ['Born_US', 'Born_non_US']"
      ],
      "metadata": {
        "id": "dqlgS7ZgTmjf"
      },
      "execution_count": null,
      "outputs": []
    },
    {
      "cell_type": "code",
      "source": [
        "\n",
        "# # # Drop column B as it is now encoded\n",
        "nhanes_raw_lab_exam = nhanes_raw_lab_exam.drop(['DMDBORN2', 'DMDBORN4', 'Birth_country'], axis = 1)\n",
        "# # # Join the encoded df\n",
        "nhanes_raw_lab_exam = nhanes_raw_lab_exam.join(one_hot)"
      ],
      "metadata": {
        "id": "eA6faIonUHAq"
      },
      "execution_count": null,
      "outputs": []
    },
    {
      "cell_type": "code",
      "source": [
        "nhanes_raw_lab_exam['Born_US'].value_counts()"
      ],
      "metadata": {
        "colab": {
          "base_uri": "https://localhost:8080/"
        },
        "id": "nzO6nKsIDuS6",
        "outputId": "7e897eea-374f-47d2-9da9-f6a4b35540d4"
      },
      "execution_count": null,
      "outputs": [
        {
          "output_type": "execute_result",
          "data": {
            "text/plain": [
              "1    39118\n",
              "0     9592\n",
              "Name: Born_US, dtype: int64"
            ]
          },
          "metadata": {},
          "execution_count": 29
        }
      ]
    },
    {
      "cell_type": "code",
      "source": [
        "#Clean up citizen status"
      ],
      "metadata": {
        "id": "sF1z44E3UvUx"
      },
      "execution_count": null,
      "outputs": []
    },
    {
      "cell_type": "code",
      "source": [
        "nhanes_raw_lab_exam['DMDCITZN'] = nhanes_raw_lab_exam['DMDCITZN'].fillna(1.0)\n",
        "\n",
        "nhanes_raw_lab_exam['DMDCITZN'] = nhanes_raw_lab_exam['DMDCITZN'].replace([7.0, 9.0], 2.0)"
      ],
      "metadata": {
        "id": "C-oeGlvQUvQC"
      },
      "execution_count": null,
      "outputs": []
    },
    {
      "cell_type": "code",
      "source": [
        "one_hot = pd.get_dummies(nhanes_raw_lab_exam['DMDCITZN'])\n",
        "\n",
        "one_hot.columns = ['US_citizen', 'Not_US_citizen']"
      ],
      "metadata": {
        "id": "oDJLYy1xVmQQ"
      },
      "execution_count": null,
      "outputs": []
    },
    {
      "cell_type": "code",
      "source": [
        "\n",
        "# # # Drop column B as it is now encoded\n",
        "nhanes_raw_lab_exam = nhanes_raw_lab_exam.drop(['DMDCITZN'], axis = 1)\n",
        "# # # Join the encoded df\n",
        "nhanes_raw_lab_exam = nhanes_raw_lab_exam.join(one_hot)"
      ],
      "metadata": {
        "id": "8nUNwx6OVmQQ"
      },
      "execution_count": null,
      "outputs": []
    },
    {
      "cell_type": "code",
      "source": [
        "#Clean up adult education"
      ],
      "metadata": {
        "id": "ath-B9wfVl5U"
      },
      "execution_count": null,
      "outputs": []
    },
    {
      "cell_type": "code",
      "source": [
        "nhanes_raw_lab_exam['DMDEDUC2'] = nhanes_raw_lab_exam['DMDEDUC2'].replace([7.0, 9.0], 2.0)"
      ],
      "metadata": {
        "id": "Bci2qGEhWfZc"
      },
      "execution_count": null,
      "outputs": []
    },
    {
      "cell_type": "code",
      "source": [
        "nhanes_raw_lab_exam['DMDEDUC2'] = nhanes_raw_lab_exam['DMDEDUC2'].fillna('Under_20')"
      ],
      "metadata": {
        "id": "h4LzbjKIWsMw"
      },
      "execution_count": null,
      "outputs": []
    },
    {
      "cell_type": "code",
      "source": [
        "nhanes_raw_lab_exam['DMDEDUC2'].value_counts()"
      ],
      "metadata": {
        "colab": {
          "base_uri": "https://localhost:8080/"
        },
        "id": "0uE_iQW3Wk4w",
        "outputId": "fd007d94-b007-441b-a55d-bad431ff426e"
      },
      "execution_count": null,
      "outputs": [
        {
          "output_type": "execute_result",
          "data": {
            "text/plain": [
              "Under_20    20563\n",
              "4.0          8099\n",
              "5.0          6392\n",
              "3.0          6363\n",
              "2.0          4174\n",
              "1.0          3119\n",
              "Name: DMDEDUC2, dtype: int64"
            ]
          },
          "metadata": {},
          "execution_count": 37
        }
      ]
    },
    {
      "cell_type": "code",
      "source": [
        "one_hot = pd.get_dummies(nhanes_raw_lab_exam['DMDEDUC2'])\n",
        "\n",
        "one_hot.columns = ['AdultEd_less9th_grade', 'AdultEd_9to11_grade', 'AdultEd_GED', 'AdultEd_Some_college', 'AdultEd_College_grad_or_above', 'AdultEd_Under_20']"
      ],
      "metadata": {
        "id": "kywU6xpUW1mF"
      },
      "execution_count": null,
      "outputs": []
    },
    {
      "cell_type": "code",
      "source": [
        "\n",
        "# # # Drop column B as it is now encoded\n",
        "nhanes_raw_lab_exam = nhanes_raw_lab_exam.drop(['DMDEDUC2'], axis = 1)\n",
        "# # # Join the encoded df\n",
        "nhanes_raw_lab_exam = nhanes_raw_lab_exam.join(one_hot)"
      ],
      "metadata": {
        "id": "pz3EJoQnXYg2"
      },
      "execution_count": null,
      "outputs": []
    },
    {
      "cell_type": "code",
      "source": [
        "# Clean up child education"
      ],
      "metadata": {
        "id": "WjWzmFjkXoXP"
      },
      "execution_count": null,
      "outputs": []
    },
    {
      "cell_type": "code",
      "source": [
        "nhanes_raw_lab_exam['DMDEDUC3'] = nhanes_raw_lab_exam['DMDEDUC3'].fillna('ChildEd_Adult')"
      ],
      "metadata": {
        "id": "AQ_yLkutX9RU"
      },
      "execution_count": null,
      "outputs": []
    },
    {
      "cell_type": "code",
      "source": [
        "nhanes_raw_lab_exam['DMDEDUC3'] = nhanes_raw_lab_exam['DMDEDUC3'].replace([1.0, 2.0, 3.0, 4.0, 5.0, 55.0], 'ChildEd_5thGrade_or_lower')\n",
        "\n",
        "nhanes_raw_lab_exam['DMDEDUC3'] = nhanes_raw_lab_exam['DMDEDUC3'].replace([6.0, 7.0, 8.0, 9.0, 66.0], 'ChildEd_6th_to_9thGrade')\n",
        "\n",
        "nhanes_raw_lab_exam['DMDEDUC3'] = nhanes_raw_lab_exam['DMDEDUC3'].replace([10.0, 11.0, 12.0], 'ChildEd_10th_to_12thGrade')\n",
        "\n",
        "nhanes_raw_lab_exam['DMDEDUC3'] = nhanes_raw_lab_exam['DMDEDUC3'].replace([13.0, 14.0, 15.0], 'ChildEd_HS_Grad')\n",
        "\n",
        "nhanes_raw_lab_exam['DMDEDUC3'] = nhanes_raw_lab_exam['DMDEDUC3'].replace([0, 5.397605346934028e-79], 'ChildEd_None_KG')\n",
        "\n",
        "\n",
        "nhanes_raw_lab_exam['DMDEDUC3'] = nhanes_raw_lab_exam['DMDEDUC3'].replace([99.0], 'ChildEd_6th_to_9thGrade')"
      ],
      "metadata": {
        "id": "k3vsTcbQX5uf"
      },
      "execution_count": null,
      "outputs": []
    },
    {
      "cell_type": "code",
      "source": [
        "nhanes_raw_lab_exam['DMDEDUC3'].value_counts()"
      ],
      "metadata": {
        "colab": {
          "base_uri": "https://localhost:8080/"
        },
        "id": "mXdasY9aZS4S",
        "outputId": "3cbeb7eb-55b6-41be-d81d-8c3265635a25"
      },
      "execution_count": null,
      "outputs": [
        {
          "output_type": "execute_result",
          "data": {
            "text/plain": [
              "ChildEd_Adult                36005\n",
              "ChildEd_5thGrade_or_lower     5288\n",
              "ChildEd_6th_to_9thGrade       3420\n",
              "ChildEd_10th_to_12thGrade     1817\n",
              "ChildEd_None_KG               1208\n",
              "ChildEd_HS_Grad                972\n",
              "Name: DMDEDUC3, dtype: int64"
            ]
          },
          "metadata": {},
          "execution_count": 43
        }
      ]
    },
    {
      "cell_type": "code",
      "source": [
        "one_hot = pd.get_dummies(nhanes_raw_lab_exam['DMDEDUC3'])\n",
        "\n",
        "# one_hot.columns = ['AdultEd_<9th_grade', 'AdultEd_9-11_grade', 'AdultEd_GED', 'AdultEd_Some_college', 'AdultEd_College_grad_or_above', 'AdultEd_Under_20']"
      ],
      "metadata": {
        "id": "f1FWjMw5ZpBl"
      },
      "execution_count": null,
      "outputs": []
    },
    {
      "cell_type": "code",
      "source": [
        "\n",
        "# # # Drop column B as it is now encoded\n",
        "nhanes_raw_lab_exam = nhanes_raw_lab_exam.drop(['DMDEDUC3'], axis = 1)\n",
        "# # # Join the encoded df\n",
        "nhanes_raw_lab_exam = nhanes_raw_lab_exam.join(one_hot)"
      ],
      "metadata": {
        "id": "MdYg4kt1Zo8l"
      },
      "execution_count": null,
      "outputs": []
    },
    {
      "cell_type": "code",
      "source": [
        "# Clean martial status"
      ],
      "metadata": {
        "id": "6oBm1BZwaTG6"
      },
      "execution_count": null,
      "outputs": []
    },
    {
      "cell_type": "code",
      "source": [
        "nhanes_raw_lab_exam['DMDMARTL'] = nhanes_raw_lab_exam['DMDMARTL'].fillna('Marital_Status_Child')"
      ],
      "metadata": {
        "id": "EksLb5J7af9G"
      },
      "execution_count": null,
      "outputs": []
    },
    {
      "cell_type": "code",
      "source": [
        "nhanes_raw_lab_exam['DMDMARTL'] = nhanes_raw_lab_exam['DMDMARTL'].replace([1.0], 'Marital_Status_Married')\n",
        "\n",
        "nhanes_raw_lab_exam['DMDMARTL'] = nhanes_raw_lab_exam['DMDMARTL'].replace([2.0], 'Marital_Status_Widowed')\n",
        "\n",
        "nhanes_raw_lab_exam['DMDMARTL'] = nhanes_raw_lab_exam['DMDMARTL'].replace([3.0], 'Marital_Status_Divorced')\n",
        "\n",
        "nhanes_raw_lab_exam['DMDMARTL'] = nhanes_raw_lab_exam['DMDMARTL'].replace([4.0], 'Marital_Status_Separated')\n",
        "nhanes_raw_lab_exam['DMDMARTL'] = nhanes_raw_lab_exam['DMDMARTL'].replace([5.0, 77.0, 99.0], 'Marital_Status_Never_Married')\n",
        "nhanes_raw_lab_exam['DMDMARTL'] = nhanes_raw_lab_exam['DMDMARTL'].replace([6.0], 'Marital_Status_Living_with_Partner')"
      ],
      "metadata": {
        "id": "fbIcsztbaf35"
      },
      "execution_count": null,
      "outputs": []
    },
    {
      "cell_type": "code",
      "source": [
        "nhanes_raw_lab_exam['DMDMARTL'].value_counts()"
      ],
      "metadata": {
        "colab": {
          "base_uri": "https://localhost:8080/"
        },
        "id": "1tt8DUs8af1R",
        "outputId": "e3d0c6a8-ba45-4af5-9755-1c517839f488"
      },
      "execution_count": null,
      "outputs": [
        {
          "output_type": "execute_result",
          "data": {
            "text/plain": [
              "Marital_Status_Child                  20563\n",
              "Marital_Status_Married                14382\n",
              "Marital_Status_Never_Married           5241\n",
              "Marital_Status_Divorced                3066\n",
              "Marital_Status_Widowed                 2284\n",
              "Marital_Status_Living_with_Partner     2216\n",
              "Marital_Status_Separated                958\n",
              "Name: DMDMARTL, dtype: int64"
            ]
          },
          "metadata": {},
          "execution_count": 49
        }
      ]
    },
    {
      "cell_type": "code",
      "source": [
        "one_hot = pd.get_dummies(nhanes_raw_lab_exam['DMDMARTL'])\n",
        "\n",
        "# # # Drop column B as it is now encoded\n",
        "nhanes_raw_lab_exam = nhanes_raw_lab_exam.drop(['DMDMARTL'], axis = 1)\n",
        "# # # Join the encoded df\n",
        "nhanes_raw_lab_exam = nhanes_raw_lab_exam.join(one_hot)"
      ],
      "metadata": {
        "id": "tAHRVjn2bf9F"
      },
      "execution_count": null,
      "outputs": []
    },
    {
      "cell_type": "code",
      "source": [
        "# Clean up household income"
      ],
      "metadata": {
        "id": "nGDoxYsWbpHk"
      },
      "execution_count": null,
      "outputs": []
    },
    {
      "cell_type": "code",
      "source": [
        "# nhanes_raw_lab_exam['INDFMIN2'] = nhanes_raw_lab_exam['INDFMIN2'].fillna('Family_income_25-35k')"
      ],
      "metadata": {
        "id": "u3pnXGPBbpBk"
      },
      "execution_count": null,
      "outputs": []
    },
    {
      "cell_type": "code",
      "source": [],
      "metadata": {
        "id": "3KcQsqJTqcXu"
      },
      "execution_count": null,
      "outputs": []
    },
    {
      "cell_type": "code",
      "source": [
        "nhanes_raw_lab_exam['INDFMPIR'].isna().sum()"
      ],
      "metadata": {
        "colab": {
          "base_uri": "https://localhost:8080/"
        },
        "id": "M-9IjRLSoHzD",
        "outputId": "e1b030d3-fee9-4445-df2c-dfdc534bd012"
      },
      "execution_count": null,
      "outputs": [
        {
          "output_type": "execute_result",
          "data": {
            "text/plain": [
              "4219"
            ]
          },
          "metadata": {},
          "execution_count": 53
        }
      ]
    },
    {
      "cell_type": "code",
      "source": [
        "def poverty_ratio(row):\n",
        "  if (row['INDFMPIR'] >= 0.0 and row['INDFMPIR']<=5.0):\n",
        "    return row['INDFMPIR']\n",
        "  elif (row['INDFMIN2'] == 12.0):\n",
        "    return nhanes_raw_lab_exam['INDFMPIR'].quantile(0.1)\n",
        "  elif (row['INDFMIN2'] == 13.0):\n",
        "    return nhanes_raw_lab_exam['INDFMPIR'].quantile(0.5)\n",
        "  else: \n",
        "    return nhanes_raw_lab_exam['INDFMPIR'].quantile(0.5)"
      ],
      "metadata": {
        "id": "fIAodW7Do2T7"
      },
      "execution_count": null,
      "outputs": []
    },
    {
      "cell_type": "code",
      "source": [
        "nhanes_raw_lab_exam['INDFMPIR'] = nhanes_raw_lab_exam.apply(lambda row : poverty_ratio(row), axis=1) "
      ],
      "metadata": {
        "id": "fnFkMTSvq6Mq"
      },
      "execution_count": null,
      "outputs": []
    },
    {
      "cell_type": "code",
      "source": [
        "nhanes_raw_lab_exam['INDFMPIR'].isna().sum()"
      ],
      "metadata": {
        "colab": {
          "base_uri": "https://localhost:8080/"
        },
        "id": "W_Ug2DmNrwKe",
        "outputId": "f5d7b576-bf3a-4110-ba9c-d9bf8bf12bc8"
      },
      "execution_count": null,
      "outputs": [
        {
          "output_type": "execute_result",
          "data": {
            "text/plain": [
              "0"
            ]
          },
          "metadata": {},
          "execution_count": 56
        }
      ]
    },
    {
      "cell_type": "code",
      "source": [
        "nhanes_raw_lab_exam['INDFMIN2'] = nhanes_raw_lab_exam['INDFMIN2'].replace([1.0], 'Family_income_less4999')\n",
        "\n",
        "nhanes_raw_lab_exam['INDFMIN2'] = nhanes_raw_lab_exam['INDFMIN2'].replace([2.0], 'Family_income_5-10k')\n",
        "\n",
        "nhanes_raw_lab_exam['INDFMIN2'] = nhanes_raw_lab_exam['INDFMIN2'].replace([3.0], 'Family_income_10-15k')\n",
        "\n",
        "nhanes_raw_lab_exam['INDFMIN2'] = nhanes_raw_lab_exam['INDFMIN2'].replace([4.0, 13.0], 'Family_income_15-20k')\n",
        "\n",
        "nhanes_raw_lab_exam['INDFMIN2'] = nhanes_raw_lab_exam['INDFMIN2'].replace([5.0, 12.0], 'Family_income_20-25k')\n",
        "\n",
        "nhanes_raw_lab_exam['INDFMIN2'] = nhanes_raw_lab_exam['INDFMIN2'].replace([6.0], 'Family_income_25-35k')\n",
        "\n",
        "nhanes_raw_lab_exam['INDFMIN2'] = nhanes_raw_lab_exam['INDFMIN2'].replace([7.0], 'Family_income_35-45k')\n",
        "\n",
        "nhanes_raw_lab_exam['INDFMIN2'] = nhanes_raw_lab_exam['INDFMIN2'].replace([8.0], 'Family_income_45-55k')\n",
        "\n",
        "nhanes_raw_lab_exam['INDFMIN2'] = nhanes_raw_lab_exam['INDFMIN2'].replace([9.0], 'Family_income_55-65k')\n",
        "\n",
        "nhanes_raw_lab_exam['INDFMIN2'] = nhanes_raw_lab_exam['INDFMIN2'].replace([10.0], 'Family_income_65-75k')\n",
        "\n",
        "nhanes_raw_lab_exam['INDFMIN2'] = nhanes_raw_lab_exam['INDFMIN2'].replace([14.0], 'Family_income_75-100k')\n",
        "\n",
        "nhanes_raw_lab_exam['INDFMIN2'] = nhanes_raw_lab_exam['INDFMIN2'].replace([15.0], 'Family_income_greater100k')\n",
        "\n",
        "\n",
        "nhanes_raw_lab_exam['INDFMIN2'] = nhanes_raw_lab_exam['INDFMIN2'].replace([77.0, 99.0], 'Family_income_25-35k')"
      ],
      "metadata": {
        "id": "BWCMgTb9dDs8"
      },
      "execution_count": null,
      "outputs": []
    },
    {
      "cell_type": "code",
      "source": [
        "nhanes_raw_lab_exam['INDFMIN2'] = nhanes_raw_lab_exam['INDFMIN2'].fillna('Family_income_25-35k')"
      ],
      "metadata": {
        "id": "l0-WRjEAUy7m"
      },
      "execution_count": null,
      "outputs": []
    },
    {
      "cell_type": "code",
      "source": [
        "nhanes_raw_lab_exam['INDFMIN2'].value_counts()"
      ],
      "metadata": {
        "colab": {
          "base_uri": "https://localhost:8080/"
        },
        "id": "_w-Zm8jcUTYD",
        "outputId": "a8b41d52-71fd-4848-92fc-589156d4f0d0"
      },
      "execution_count": null,
      "outputs": [
        {
          "output_type": "execute_result",
          "data": {
            "text/plain": [
              "Family_income_25-35k         8007\n",
              "Family_income_greater100k    6846\n",
              "Family_income_20-25k         5384\n",
              "Family_income_35-45k         4399\n",
              "Family_income_15-20k         4149\n",
              "Family_income_75-100k        3995\n",
              "Family_income_10-15k         3578\n",
              "Family_income_45-55k         3522\n",
              "Family_income_55-65k         2611\n",
              "Family_income_5-10k          2389\n",
              "Family_income_65-75k         2089\n",
              "Family_income_less4999       1741\n",
              "Name: INDFMIN2, dtype: int64"
            ]
          },
          "metadata": {},
          "execution_count": 59
        }
      ]
    },
    {
      "cell_type": "code",
      "source": [
        "one_hot = pd.get_dummies(nhanes_raw_lab_exam['INDFMIN2'])\n",
        "\n",
        "# # # Drop column B as it is now encoded\n",
        "nhanes_raw_lab_exam = nhanes_raw_lab_exam.drop(['INDFMIN2'], axis = 1)\n",
        "# # # Join the encoded df\n",
        "nhanes_raw_lab_exam = nhanes_raw_lab_exam.join(one_hot)"
      ],
      "metadata": {
        "id": "k3WZZ0Vsetfy"
      },
      "execution_count": null,
      "outputs": []
    },
    {
      "cell_type": "code",
      "source": [],
      "metadata": {
        "id": "CJrBghbfnl-r"
      },
      "execution_count": null,
      "outputs": []
    },
    {
      "cell_type": "code",
      "source": [
        "nhanes_raw_lab_exam['INDHHIN2'] = nhanes_raw_lab_exam['INDHHIN2'].replace([1.0], 'Household_income_less4999')\n",
        "\n",
        "nhanes_raw_lab_exam['INDHHIN2'] = nhanes_raw_lab_exam['INDHHIN2'].replace([2.0], 'Household_income_5-10k')\n",
        "\n",
        "nhanes_raw_lab_exam['INDHHIN2'] = nhanes_raw_lab_exam['INDHHIN2'].replace([3.0], 'Household_income_10-15k')\n",
        "\n",
        "nhanes_raw_lab_exam['INDHHIN2'] = nhanes_raw_lab_exam['INDHHIN2'].replace([4.0, 13.0], 'Household_income_15-20k')\n",
        "\n",
        "nhanes_raw_lab_exam['INDHHIN2'] = nhanes_raw_lab_exam['INDHHIN2'].replace([5.0, 12.0], 'Household_income_20-25k')\n",
        "\n",
        "nhanes_raw_lab_exam['INDHHIN2'] = nhanes_raw_lab_exam['INDHHIN2'].replace([6.0], 'Household_income_25-35k')\n",
        "\n",
        "nhanes_raw_lab_exam['INDHHIN2'] = nhanes_raw_lab_exam['INDHHIN2'].replace([7.0], 'Household_income_35-45k')\n",
        "\n",
        "nhanes_raw_lab_exam['INDHHIN2'] = nhanes_raw_lab_exam['INDHHIN2'].replace([8.0], 'Household_income_45-55k')\n",
        "\n",
        "nhanes_raw_lab_exam['INDHHIN2'] = nhanes_raw_lab_exam['INDHHIN2'].replace([9.0], 'Household_income_55-65k')\n",
        "\n",
        "nhanes_raw_lab_exam['INDHHIN2'] = nhanes_raw_lab_exam['INDHHIN2'].replace([10.0], 'Household_income_65-75k')\n",
        "\n",
        "nhanes_raw_lab_exam['INDHHIN2'] = nhanes_raw_lab_exam['INDHHIN2'].replace([14.0], 'Household_income_75-100k')\n",
        "\n",
        "nhanes_raw_lab_exam['INDHHIN2'] = nhanes_raw_lab_exam['INDHHIN2'].replace([15.0], 'Household_income_greater100k')\n",
        "\n",
        "\n",
        "nhanes_raw_lab_exam['INDHHIN2'] = nhanes_raw_lab_exam['INDHHIN2'].replace([77.0, 99.0], 'Household_income_25-35k')"
      ],
      "metadata": {
        "id": "koosATGGnmVd"
      },
      "execution_count": null,
      "outputs": []
    },
    {
      "cell_type": "code",
      "source": [
        "nhanes_raw_lab_exam['INDHHIN2'] = nhanes_raw_lab_exam['INDHHIN2'].fillna('Household_income_25-35k')"
      ],
      "metadata": {
        "id": "TmOVjfnJnmVe"
      },
      "execution_count": null,
      "outputs": []
    },
    {
      "cell_type": "code",
      "source": [
        "nhanes_raw_lab_exam['INDHHIN2'].value_counts()"
      ],
      "metadata": {
        "colab": {
          "base_uri": "https://localhost:8080/"
        },
        "outputId": "dc832052-9e50-4964-e213-c12547bb28a3",
        "id": "oHb0PXZVnmVe"
      },
      "execution_count": null,
      "outputs": [
        {
          "output_type": "execute_result",
          "data": {
            "text/plain": [
              "Household_income_25-35k         8099\n",
              "Household_income_greater100k    7210\n",
              "Household_income_20-25k         5642\n",
              "Household_income_35-45k         4464\n",
              "Household_income_75-100k        4208\n",
              "Household_income_15-20k         3994\n",
              "Household_income_45-55k         3590\n",
              "Household_income_10-15k         3317\n",
              "Household_income_55-65k         2683\n",
              "Household_income_65-75k         2168\n",
              "Household_income_5-10k          2108\n",
              "Household_income_less4999       1227\n",
              "Name: INDHHIN2, dtype: int64"
            ]
          },
          "metadata": {},
          "execution_count": 63
        }
      ]
    },
    {
      "cell_type": "code",
      "source": [
        "one_hot = pd.get_dummies(nhanes_raw_lab_exam['INDHHIN2'])\n",
        "\n",
        "# # # Drop column B as it is now encoded\n",
        "nhanes_raw_lab_exam = nhanes_raw_lab_exam.drop(['INDHHIN2'], axis = 1)\n",
        "# # # Join the encoded df\n",
        "nhanes_raw_lab_exam = nhanes_raw_lab_exam.join(one_hot)"
      ],
      "metadata": {
        "id": "DDpUDv2woCka"
      },
      "execution_count": null,
      "outputs": []
    },
    {
      "cell_type": "code",
      "source": [
        "# nhanes_raw_lab_exam['INDFMPIR'] = nhanes_raw_lab_exam['INDFMPIR'].fillna(nhanes_raw_lab_exam['INDFMPIR'].mean())"
      ],
      "metadata": {
        "id": "tV-AnQC9e6Rz"
      },
      "execution_count": null,
      "outputs": []
    },
    {
      "cell_type": "code",
      "source": [
        "#Clean up pregnancy status"
      ],
      "metadata": {
        "id": "WRWTAGahj4lN"
      },
      "execution_count": null,
      "outputs": []
    },
    {
      "cell_type": "code",
      "source": [
        "\n",
        "\n",
        "nhanes_raw_lab_exam['RIDEXPRG'] = nhanes_raw_lab_exam['RIDEXPRG'].fillna('Not_pregnant')\n",
        "\n",
        "nhanes_raw_lab_exam['RIDEXPRG'] = nhanes_raw_lab_exam['RIDEXPRG'].replace([1.0], 'Pregnant')\n",
        "\n",
        "nhanes_raw_lab_exam['RIDEXPRG'] = nhanes_raw_lab_exam['RIDEXPRG'].replace([2.0, 3.0], 'Not_pregnant')\n",
        "\n",
        "nhanes_raw_lab_exam['RIDEXPRG'].value_counts()"
      ],
      "metadata": {
        "colab": {
          "base_uri": "https://localhost:8080/"
        },
        "id": "ORRuVNF7jyfN",
        "outputId": "9394cef3-c083-4eaa-b893-b94de0feb6f2"
      },
      "execution_count": null,
      "outputs": [
        {
          "output_type": "execute_result",
          "data": {
            "text/plain": [
              "Not_pregnant    48393\n",
              "Pregnant          317\n",
              "Name: RIDEXPRG, dtype: int64"
            ]
          },
          "metadata": {},
          "execution_count": 67
        }
      ]
    },
    {
      "cell_type": "code",
      "source": [
        "one_hot = pd.get_dummies(nhanes_raw_lab_exam['RIDEXPRG'])\n",
        "\n",
        "# # # Drop column B as it is now encoded\n",
        "nhanes_raw_lab_exam = nhanes_raw_lab_exam.drop(['RIDEXPRG'], axis = 1)\n",
        "# # # Join the encoded df\n",
        "nhanes_raw_lab_exam = nhanes_raw_lab_exam.join(one_hot)"
      ],
      "metadata": {
        "id": "1qf4U0rKkd8-"
      },
      "execution_count": null,
      "outputs": []
    },
    {
      "cell_type": "code",
      "source": [
        "# Clean up race information"
      ],
      "metadata": {
        "id": "YjfKAmJpkpGR"
      },
      "execution_count": null,
      "outputs": []
    },
    {
      "cell_type": "code",
      "source": [
        "\n",
        "nhanes_raw_lab_exam['Race_Hispanic_origin'] = nhanes_raw_lab_exam['Race_Hispanic_origin'].replace([1.0], 'Race_Mexican_American')\n",
        "\n",
        "nhanes_raw_lab_exam['Race_Hispanic_origin'] = nhanes_raw_lab_exam['Race_Hispanic_origin'].replace([2.0], 'Race_Other_Hispanic')\n",
        "nhanes_raw_lab_exam['Race_Hispanic_origin'] = nhanes_raw_lab_exam['Race_Hispanic_origin'].replace([3.0], 'Race_Non_Hispanic_White')\n",
        "nhanes_raw_lab_exam['Race_Hispanic_origin'] = nhanes_raw_lab_exam['Race_Hispanic_origin'].replace([4.0], 'Race_Non_Hispanic_Black')\n",
        "\n",
        "nhanes_raw_lab_exam['Race_Hispanic_origin'] = nhanes_raw_lab_exam['Race_Hispanic_origin'].replace([6.0], 'Race_Non_Hispanic_Asian')\n",
        "nhanes_raw_lab_exam['Race_Hispanic_origin'] = nhanes_raw_lab_exam['Race_Hispanic_origin'].replace([5.0, 7.0], 'Race_Other/Multi_racial')\n",
        "\n"
      ],
      "metadata": {
        "id": "jrv2eUfam7PA"
      },
      "execution_count": null,
      "outputs": []
    },
    {
      "cell_type": "code",
      "source": [
        "one_hot = pd.get_dummies(nhanes_raw_lab_exam['Race_Hispanic_origin'])\n",
        "\n",
        "# # # Drop column B as it is now encoded\n",
        "nhanes_raw_lab_exam = nhanes_raw_lab_exam.drop(['Race_Hispanic_origin'], axis = 1)\n",
        "# # # Join the encoded df\n",
        "nhanes_raw_lab_exam = nhanes_raw_lab_exam.join(one_hot)"
      ],
      "metadata": {
        "id": "gbdvecgEoH1Q"
      },
      "execution_count": null,
      "outputs": []
    },
    {
      "cell_type": "code",
      "source": [
        "# Demo data to drop"
      ],
      "metadata": {
        "id": "B24FuZp2k7p0"
      },
      "execution_count": null,
      "outputs": []
    },
    {
      "cell_type": "code",
      "source": [
        "# Clean up lab data"
      ],
      "metadata": {
        "id": "bI5Fvq8Gvq8N"
      },
      "execution_count": null,
      "outputs": []
    },
    {
      "cell_type": "code",
      "source": [],
      "metadata": {
        "id": "1DAFZhsGzMVK"
      },
      "execution_count": null,
      "outputs": []
    },
    {
      "cell_type": "code",
      "execution_count": null,
      "metadata": {
        "id": "6ycTUp1a0wqy"
      },
      "outputs": [],
      "source": [
        "# replacing missing blood lead with median \n",
        "\n",
        "nhanes_raw_lab_exam['LBDBPBSI'] = np.where(nhanes_raw_lab_exam['LBDBPBLC'].values == 1, 0, nhanes_raw_lab_exam['LBDBPBSI'].values)\n",
        "\n",
        "nhanes_raw_lab_exam['LBDBPBSI'] = nhanes_raw_lab_exam['LBDBPBSI'].replace([2.0, 3.0, 66.0, 77.0, 99.0], nhanes_raw_lab_exam['LBDBPBSI'].median())\n",
        "nhanes_raw_lab_exam['LBDBPBSI'] = nhanes_raw_lab_exam['LBDBPBSI'].fillna(nhanes_raw_lab_exam['LBDBPBSI'].median())\n",
        "nhanes_raw_lab_exam = nhanes_raw_lab_exam.drop('LBDBPBLC', axis = 1)"
      ]
    },
    {
      "cell_type": "code",
      "execution_count": null,
      "metadata": {
        "id": "-tvC4BZ64Ebg"
      },
      "outputs": [],
      "source": [
        "# URDUP8LC\n",
        "\n",
        "\n",
        "nhanes_raw_lab_exam['URXUP8'] = np.where(nhanes_raw_lab_exam['URDUP8LC'].values == 1, 0, nhanes_raw_lab_exam['URXUP8'].values)\n",
        "\n",
        "nhanes_raw_lab_exam['URXUP8'] = nhanes_raw_lab_exam['URXUP8'].replace([2.0, 3.0, 66.0, 77.0, 99.0], nhanes_raw_lab_exam['URXUP8'].median())\n",
        "nhanes_raw_lab_exam['URXUP8'] = nhanes_raw_lab_exam['URXUP8'].fillna(nhanes_raw_lab_exam['URXUP8'].median())\n",
        "nhanes_raw_lab_exam = nhanes_raw_lab_exam.drop('URDUP8LC', axis = 1)"
      ]
    },
    {
      "cell_type": "code",
      "execution_count": null,
      "metadata": {
        "id": "Zx05z_dS7ydm"
      },
      "outputs": [],
      "source": []
    },
    {
      "cell_type": "code",
      "execution_count": null,
      "metadata": {
        "id": "WlAaHWFv57OX"
      },
      "outputs": [],
      "source": [
        "# URDNO3LC\n",
        "\n",
        "\n",
        "nhanes_raw_lab_exam['URXNO3'] = np.where(nhanes_raw_lab_exam['URDNO3LC'].values == 1, 0, nhanes_raw_lab_exam['URXUP8'].values)\n",
        "\n",
        "nhanes_raw_lab_exam['URXNO3'] = nhanes_raw_lab_exam['URXNO3'].replace([2.0, 3.0, 66.0, 77.0, 99.0], nhanes_raw_lab_exam['URXNO3'].median())\n",
        "nhanes_raw_lab_exam['URXNO3'] = nhanes_raw_lab_exam['URXNO3'].fillna(nhanes_raw_lab_exam['URXNO3'].median())\n",
        "nhanes_raw_lab_exam = nhanes_raw_lab_exam.drop('URDNO3LC', axis = 1)"
      ]
    },
    {
      "cell_type": "code",
      "execution_count": null,
      "metadata": {
        "id": "z61KlmzA8KSq"
      },
      "outputs": [],
      "source": [
        "# URDSCNLC\n",
        "\n",
        "\n",
        "nhanes_raw_lab_exam['URXSCN'] = np.where(nhanes_raw_lab_exam['URDSCNLC'].values == 1, 0, nhanes_raw_lab_exam['URXSCN'].values)\n",
        "\n",
        "nhanes_raw_lab_exam['URXSCN'] = nhanes_raw_lab_exam['URXSCN'].replace([2.0, 3.0, 66.0, 77.0, 99.0], nhanes_raw_lab_exam['URXSCN'].median())\n",
        "nhanes_raw_lab_exam['URXSCN'] = nhanes_raw_lab_exam['URXSCN'].fillna(nhanes_raw_lab_exam['URXSCN'].median())\n",
        "nhanes_raw_lab_exam = nhanes_raw_lab_exam.drop('URDSCNLC', axis = 1)"
      ]
    },
    {
      "cell_type": "code",
      "execution_count": null,
      "metadata": {
        "id": "-qKHdkxg8lIc"
      },
      "outputs": [],
      "source": [
        "# LBDCOTLC\n",
        "\n",
        "nhanes_raw_lab_exam['LBXCOT'] = np.where(nhanes_raw_lab_exam['LBDCOTLC'].values == 1, 0, nhanes_raw_lab_exam['LBXCOT'].values)\n",
        "nhanes_raw_lab_exam['LBXCOT'] = np.where(nhanes_raw_lab_exam['LBDCOTLC'].values == 2, nhanes_raw_lab_exam['LBXCOT'].max(), nhanes_raw_lab_exam['LBXCOT'].values)\n",
        "\n",
        "nhanes_raw_lab_exam['LBXCOT'] = nhanes_raw_lab_exam['LBXCOT'].replace([2.0, 3.0, 66.0, 77.0, 99.0], nhanes_raw_lab_exam['LBXCOT'].median())\n",
        "nhanes_raw_lab_exam['LBXCOT'] = nhanes_raw_lab_exam['LBXCOT'].fillna(nhanes_raw_lab_exam['LBXCOT'].median())\n",
        "nhanes_raw_lab_exam = nhanes_raw_lab_exam.drop('LBDCOTLC', axis = 1)"
      ]
    },
    {
      "cell_type": "code",
      "source": [
        "# multiple URXUCR\n",
        "\n",
        "to_investigate = nhanes_raw_lab_exam[['URXUCR', 'URXUCR_x', 'URXUCR_y']]\n",
        "\n",
        "# to_investigate['URXUCR'].isna().sum() #29689\n",
        "# to_investigate['URXUCR_x'].isna().sum() #16746\n",
        "# to_investigate['URXUCR_y'].isna().sum() #37969\n",
        "\n",
        "to_investigate['URXUCR_z'] = to_investigate['URXUCR_x'].combine_first(to_investigate['URXUCR_y'])\n",
        "to_investigate['URXUCR'] = to_investigate['URXUCR'].combine_first(to_investigate['URXUCR_z'])\n",
        "to_investigate['URXUCR'] = to_investigate['URXUCR'].fillna(to_investigate['URXUCR'].median())\n",
        "to_investigate = to_investigate.drop(['URXUCR_x', 'URXUCR_z', 'URXUCR_y'], axis = 1)\n",
        "\n",
        "to_investigate\n",
        "\n",
        "nhanes_raw_lab_exam = nhanes_raw_lab_exam.drop(['URXUCR', 'URXUCR_x', 'URXUCR_y'], axis = 1)\n",
        "nhanes_raw_lab_exam = nhanes_raw_lab_exam.join(to_investigate)"
      ],
      "metadata": {
        "colab": {
          "base_uri": "https://localhost:8080/"
        },
        "id": "Hsx54MMEsBe2",
        "outputId": "ffcd6008-dda6-45b1-ba40-64aff95f436c"
      },
      "execution_count": null,
      "outputs": [
        {
          "output_type": "stream",
          "name": "stderr",
          "text": [
            "<ipython-input-79-d501152a1045>:9: SettingWithCopyWarning: \n",
            "A value is trying to be set on a copy of a slice from a DataFrame.\n",
            "Try using .loc[row_indexer,col_indexer] = value instead\n",
            "\n",
            "See the caveats in the documentation: https://pandas.pydata.org/pandas-docs/stable/user_guide/indexing.html#returning-a-view-versus-a-copy\n",
            "  to_investigate['URXUCR_z'] = to_investigate['URXUCR_x'].combine_first(to_investigate['URXUCR_y'])\n",
            "<ipython-input-79-d501152a1045>:10: SettingWithCopyWarning: \n",
            "A value is trying to be set on a copy of a slice from a DataFrame.\n",
            "Try using .loc[row_indexer,col_indexer] = value instead\n",
            "\n",
            "See the caveats in the documentation: https://pandas.pydata.org/pandas-docs/stable/user_guide/indexing.html#returning-a-view-versus-a-copy\n",
            "  to_investigate['URXUCR'] = to_investigate['URXUCR'].combine_first(to_investigate['URXUCR_z'])\n",
            "<ipython-input-79-d501152a1045>:11: SettingWithCopyWarning: \n",
            "A value is trying to be set on a copy of a slice from a DataFrame.\n",
            "Try using .loc[row_indexer,col_indexer] = value instead\n",
            "\n",
            "See the caveats in the documentation: https://pandas.pydata.org/pandas-docs/stable/user_guide/indexing.html#returning-a-view-versus-a-copy\n",
            "  to_investigate['URXUCR'] = to_investigate['URXUCR'].fillna(to_investigate['URXUCR'].median())\n"
          ]
        }
      ]
    },
    {
      "cell_type": "code",
      "source": [
        "# URXUAS \n",
        "\n",
        "nhanes_raw_lab_exam['URXUAS'] = nhanes_raw_lab_exam['URXUAS'].fillna(nhanes_raw_lab_exam['URXUAS'].median())"
      ],
      "metadata": {
        "id": "vlea4Fomvm1H"
      },
      "execution_count": null,
      "outputs": []
    },
    {
      "cell_type": "code",
      "execution_count": null,
      "metadata": {
        "id": "LljoEzYh9GHc"
      },
      "outputs": [],
      "source": [
        "# URDNALLC\n",
        "\n",
        "# nhanes_raw_lab_exam['URXNAL'] = np.where(nhanes_raw_lab_exam[''].values == 1, 0, nhanes_raw_lab_exam['URXNAL'].values)\n",
        "\n",
        "# nhanes_raw_lab_exam['URXNAL'] = nhanes_raw_lab_exam['URXNAL'].replace([2.0, 3.0, 66.0, 77.0, 99.0], nhanes_raw_lab_exam['URXNAL'].median())\n",
        "# nhanes_raw_lab_exam['URXNAL'] = nhanes_raw_lab_exam['URXNAL'].fillna(nhanes_raw_lab_exam['URXNAL'].median())\n",
        "# nhanes_raw_lab_exam = nhanes_raw_lab_exam.drop('URDNALLC', axis = 1)"
      ]
    },
    {
      "cell_type": "code",
      "execution_count": null,
      "metadata": {
        "id": "Efpe96G2Lk4w"
      },
      "outputs": [],
      "source": [
        "# LBDVIDLC\n",
        "\n",
        "nhanes_raw_lab_exam['LBXVIDMS'] = np.where(nhanes_raw_lab_exam['LBDVIDLC'].values == 1, 0, nhanes_raw_lab_exam['LBXVIDMS'].values)\n",
        "\n",
        "nhanes_raw_lab_exam['LBXVIDMS'] = nhanes_raw_lab_exam['LBXVIDMS'].replace([2.0, 3.0, 66.0, 77.0, 99.0], nhanes_raw_lab_exam['LBXVIDMS'].median())\n",
        "nhanes_raw_lab_exam['LBXVIDMS'] = nhanes_raw_lab_exam['LBXVIDMS'].fillna(nhanes_raw_lab_exam['LBXVIDMS'].median())\n",
        "nhanes_raw_lab_exam = nhanes_raw_lab_exam.drop('LBDVIDLC', axis = 1)"
      ]
    },
    {
      "cell_type": "code",
      "execution_count": null,
      "metadata": {
        "id": "t0OyHzDsMLRX"
      },
      "outputs": [],
      "source": [
        "# LBDVD2LC\n",
        "\n",
        "nhanes_raw_lab_exam['LBXVD2MS'] = np.where(nhanes_raw_lab_exam['LBDVD2LC'].values == 1, 0, nhanes_raw_lab_exam['LBXVD2MS'].values)\n",
        "\n",
        "nhanes_raw_lab_exam['LBXVD2MS'] = nhanes_raw_lab_exam['LBXVD2MS'].replace([2.0, 3.0, 66.0, 77.0, 99.0], nhanes_raw_lab_exam['LBXVD2MS'].median())\n",
        "nhanes_raw_lab_exam['LBXVD2MS'] = nhanes_raw_lab_exam['LBXVD2MS'].fillna(nhanes_raw_lab_exam['LBXVD2MS'].median())\n",
        "nhanes_raw_lab_exam = nhanes_raw_lab_exam.drop('LBDVD2LC', axis = 1)"
      ]
    },
    {
      "cell_type": "code",
      "execution_count": null,
      "metadata": {
        "id": "gOuEvP1GMeZH"
      },
      "outputs": [],
      "source": [
        "# LBDVD3LC\n",
        "\n",
        "nhanes_raw_lab_exam['LBXVD3MS'] = np.where(nhanes_raw_lab_exam['LBDVD3LC'].values == 1, 0, nhanes_raw_lab_exam['LBXVD3MS'].values)\n",
        "\n",
        "nhanes_raw_lab_exam['LBXVD3MS'] = nhanes_raw_lab_exam['LBXVD3MS'].replace([2.0, 3.0, 66.0, 77.0, 99.0], nhanes_raw_lab_exam['LBXVD3MS'].median())\n",
        "nhanes_raw_lab_exam['LBXVD3MS'] = nhanes_raw_lab_exam['LBXVD3MS'].fillna(nhanes_raw_lab_exam['LBXVD3MS'].median())\n",
        "nhanes_raw_lab_exam = nhanes_raw_lab_exam.drop('LBDVD3LC', axis = 1)"
      ]
    },
    {
      "cell_type": "code",
      "execution_count": null,
      "metadata": {
        "id": "Y1CeZ7SkMtU5"
      },
      "outputs": [],
      "source": [
        "# LBDVE3LC\n",
        "\n",
        "\n",
        "nhanes_raw_lab_exam['LBXVE3MS'] = np.where(nhanes_raw_lab_exam['LBDVE3LC'].values == 1, 0, nhanes_raw_lab_exam['LBXVE3MS'].values)\n",
        "\n",
        "nhanes_raw_lab_exam['LBXVE3MS'] = nhanes_raw_lab_exam['LBXVE3MS'].replace([2.0, 3.0, 66.0, 77.0, 99.0], nhanes_raw_lab_exam['LBXVE3MS'].median())\n",
        "nhanes_raw_lab_exam['LBXVE3MS'] = nhanes_raw_lab_exam['LBXVE3MS'].fillna(nhanes_raw_lab_exam['LBXVE3MS'].median())\n",
        "nhanes_raw_lab_exam = nhanes_raw_lab_exam.drop('LBDVE3LC', axis = 1)"
      ]
    },
    {
      "cell_type": "code",
      "execution_count": null,
      "metadata": {
        "id": "akAKFNpsNAQr"
      },
      "outputs": [],
      "source": [
        "# LBDTHGLC\n",
        "\n",
        "\n",
        "nhanes_raw_lab_exam['LBDTHGSI'] = np.where(nhanes_raw_lab_exam['LBDTHGLC'].values == 1, 0, nhanes_raw_lab_exam['LBDTHGSI'].values)\n",
        "\n",
        "nhanes_raw_lab_exam['LBDTHGSI'] = nhanes_raw_lab_exam['LBDTHGSI'].replace([2.0, 3.0, 66.0, 77.0, 99.0], nhanes_raw_lab_exam['LBDTHGSI'].median())\n",
        "nhanes_raw_lab_exam['LBDTHGSI'] = nhanes_raw_lab_exam['LBDTHGSI'].fillna(nhanes_raw_lab_exam['LBDTHGSI'].median())\n",
        "nhanes_raw_lab_exam = nhanes_raw_lab_exam.drop('LBDTHGLC', axis = 1)"
      ]
    },
    {
      "cell_type": "code",
      "execution_count": null,
      "metadata": {
        "id": "2z2F-h43Nf7X"
      },
      "outputs": [],
      "source": [
        "# URDUBALC\n",
        "\n",
        "nhanes_raw_lab_exam['URXUBA'] = np.where(nhanes_raw_lab_exam['URDUBALC'].values == 1, 0, nhanes_raw_lab_exam['URXUBA'].values)\n",
        "\n",
        "nhanes_raw_lab_exam['URXUBA'] = nhanes_raw_lab_exam['URXUBA'].replace([2.0, 3.0, 66.0, 77.0, 99.0], nhanes_raw_lab_exam['URXUBA'].median())\n",
        "nhanes_raw_lab_exam['URXUBA'] = nhanes_raw_lab_exam['URXUBA'].fillna(nhanes_raw_lab_exam['URXUBA'].median())\n",
        "nhanes_raw_lab_exam = nhanes_raw_lab_exam.drop('URDUBALC', axis = 1)"
      ]
    },
    {
      "cell_type": "code",
      "execution_count": null,
      "metadata": {
        "id": "8Y5ZRqHONzqM"
      },
      "outputs": [],
      "source": [
        "# URDUCDLC\n",
        "\n",
        "nhanes_raw_lab_exam['URXUCD'] = np.where(nhanes_raw_lab_exam['URDUCDLC'].values == 1, 0, nhanes_raw_lab_exam['URXUCD'].values)\n",
        "\n",
        "nhanes_raw_lab_exam['URXUCD'] = nhanes_raw_lab_exam['URXUCD'].replace([2.0, 3.0, 66.0, 77.0, 99.0], nhanes_raw_lab_exam['URXUCD'].median())\n",
        "nhanes_raw_lab_exam['URXUCD'] = nhanes_raw_lab_exam['URXUCD'].fillna(nhanes_raw_lab_exam['URXUCD'].median())\n",
        "nhanes_raw_lab_exam = nhanes_raw_lab_exam.drop('URDUCDLC', axis = 1)"
      ]
    },
    {
      "cell_type": "code",
      "execution_count": null,
      "metadata": {
        "id": "iBHv4sIFOEYB"
      },
      "outputs": [],
      "source": [
        "# URDUCOLC\n",
        "\n",
        "nhanes_raw_lab_exam['URXUCO'] = np.where(nhanes_raw_lab_exam['URDUCOLC'].values == 1, 0, nhanes_raw_lab_exam['URXUCO'].values)\n",
        "\n",
        "nhanes_raw_lab_exam['URXUCO'] = nhanes_raw_lab_exam['URXUCO'].replace([2.0, 3.0, 66.0, 77.0, 99.0], nhanes_raw_lab_exam['URXUCO'].median())\n",
        "nhanes_raw_lab_exam['URXUCO'] = nhanes_raw_lab_exam['URXUCO'].fillna(nhanes_raw_lab_exam['URXUCO'].median())\n",
        "nhanes_raw_lab_exam = nhanes_raw_lab_exam.drop('URDUCOLC', axis = 1)"
      ]
    },
    {
      "cell_type": "code",
      "execution_count": null,
      "metadata": {
        "id": "GZD9mu-gOPva"
      },
      "outputs": [],
      "source": [
        "# URDUCSLC\n",
        "\n",
        "nhanes_raw_lab_exam['URXUCS'] = np.where(nhanes_raw_lab_exam['URDUCSLC'].values == 1, 0, nhanes_raw_lab_exam['URXUCS'].values)\n",
        "\n",
        "nhanes_raw_lab_exam['URXUCS'] = nhanes_raw_lab_exam['URXUCS'].replace([2.0, 3.0, 66.0, 77.0, 99.0], nhanes_raw_lab_exam['URXUCS'].median())\n",
        "nhanes_raw_lab_exam['URXUCS'] = nhanes_raw_lab_exam['URXUCS'].fillna(nhanes_raw_lab_exam['URXUCS'].median())\n",
        "nhanes_raw_lab_exam = nhanes_raw_lab_exam.drop('URDUCSLC', axis = 1)"
      ]
    },
    {
      "cell_type": "code",
      "execution_count": null,
      "metadata": {
        "id": "3t1xQebLOe4O"
      },
      "outputs": [],
      "source": [
        "# URDUMOLC\n",
        "\n",
        "nhanes_raw_lab_exam['URXUMO'] = np.where(nhanes_raw_lab_exam['URDUMOLC'].values == 1, 0, nhanes_raw_lab_exam['URXUMO'].values)\n",
        "\n",
        "nhanes_raw_lab_exam['URXUMO'] = nhanes_raw_lab_exam['URXUMO'].replace([2.0, 3.0, 66.0, 77.0, 99.0], nhanes_raw_lab_exam['URXUMO'].median())\n",
        "nhanes_raw_lab_exam['URXUMO'] = nhanes_raw_lab_exam['URXUMO'].fillna(nhanes_raw_lab_exam['URXUMO'].median())\n",
        "nhanes_raw_lab_exam = nhanes_raw_lab_exam.drop('URDUMOLC', axis = 1)"
      ]
    },
    {
      "cell_type": "code",
      "execution_count": null,
      "metadata": {
        "id": "uFZV-3kiOqS_"
      },
      "outputs": [],
      "source": [
        "# URDUPBLC\n",
        "\n",
        "\n",
        "nhanes_raw_lab_exam['URXUPB'] = np.where(nhanes_raw_lab_exam['URDUPBLC'].values == 1, 0, nhanes_raw_lab_exam['URXUPB'].values)\n",
        "\n",
        "nhanes_raw_lab_exam['URXUPB'] = nhanes_raw_lab_exam['URXUPB'].replace([2.0, 3.0, 66.0, 77.0, 99.0], nhanes_raw_lab_exam['URXUPB'].median())\n",
        "nhanes_raw_lab_exam['URXUPB'] = nhanes_raw_lab_exam['URXUPB'].fillna(nhanes_raw_lab_exam['URXUPB'].median())\n",
        "nhanes_raw_lab_exam = nhanes_raw_lab_exam.drop('URDUPBLC', axis = 1)"
      ]
    },
    {
      "cell_type": "code",
      "execution_count": null,
      "metadata": {
        "id": "K7uV3a0OO1y-"
      },
      "outputs": [],
      "source": [
        "# URDUSBLC\n",
        "\n",
        "nhanes_raw_lab_exam['URXUSB'] = np.where(nhanes_raw_lab_exam['URDUSBLC'].values == 1, 0, nhanes_raw_lab_exam['URXUSB'].values)\n",
        "\n",
        "nhanes_raw_lab_exam['URXUSB'] = nhanes_raw_lab_exam['URXUSB'].replace([2.0, 3.0, 66.0, 77.0, 99.0], nhanes_raw_lab_exam['URXUSB'].median())\n",
        "nhanes_raw_lab_exam['URXUSB'] = nhanes_raw_lab_exam['URXUSB'].fillna(nhanes_raw_lab_exam['URXUSB'].median())\n",
        "nhanes_raw_lab_exam = nhanes_raw_lab_exam.drop('URDUSBLC', axis = 1)"
      ]
    },
    {
      "cell_type": "code",
      "execution_count": null,
      "metadata": {
        "id": "ASKGvfDJO__W"
      },
      "outputs": [],
      "source": [
        "# URDUTLLC\n",
        "\n",
        "nhanes_raw_lab_exam['URXUTL'] = np.where(nhanes_raw_lab_exam['URDUTLLC'].values == 1, 0, nhanes_raw_lab_exam['URXUTL'].values)\n",
        "\n",
        "nhanes_raw_lab_exam['URXUTL'] = nhanes_raw_lab_exam['URXUTL'].replace([2.0, 3.0, 66.0, 77.0, 99.0], nhanes_raw_lab_exam['URXUTL'].median())\n",
        "nhanes_raw_lab_exam['URXUTL'] = nhanes_raw_lab_exam['URXUTL'].fillna(nhanes_raw_lab_exam['URXUTL'].median())\n",
        "nhanes_raw_lab_exam = nhanes_raw_lab_exam.drop('URDUTLLC', axis = 1)"
      ]
    },
    {
      "cell_type": "code",
      "execution_count": null,
      "metadata": {
        "id": "IVxxHI4WPNdp"
      },
      "outputs": [],
      "source": [
        "# URDUTULC\n",
        "\n",
        "nhanes_raw_lab_exam['URXUTU'] = np.where(nhanes_raw_lab_exam['URDUTULC'].values == 1, 0, nhanes_raw_lab_exam['URXUTU'].values)\n",
        "\n",
        "nhanes_raw_lab_exam['URXUTU'] = nhanes_raw_lab_exam['URXUTU'].replace([2.0, 3.0, 66.0, 77.0, 99.0], nhanes_raw_lab_exam['URXUTU'].median())\n",
        "nhanes_raw_lab_exam['URXUTU'] = nhanes_raw_lab_exam['URXUTU'].fillna(nhanes_raw_lab_exam['URXUTU'].median())\n",
        "nhanes_raw_lab_exam = nhanes_raw_lab_exam.drop('URDUTULC', axis = 1)"
      ]
    },
    {
      "cell_type": "code",
      "execution_count": null,
      "metadata": {
        "id": "tKPIYFmPPacr"
      },
      "outputs": [],
      "source": [
        "# URDUURLC\n",
        "\n",
        "nhanes_raw_lab_exam['URXUUR'] = np.where(nhanes_raw_lab_exam['URDUURLC'].values == 1, 0, nhanes_raw_lab_exam['URXUUR'].values)\n",
        "\n",
        "nhanes_raw_lab_exam['URXUUR'] = nhanes_raw_lab_exam['URXUUR'].replace([2.0, 3.0, 66.0, 77.0, 99.0], nhanes_raw_lab_exam['URXUUR'].median())\n",
        "nhanes_raw_lab_exam['URXUUR'] = nhanes_raw_lab_exam['URXUUR'].fillna(nhanes_raw_lab_exam['URXUUR'].median())\n",
        "nhanes_raw_lab_exam = nhanes_raw_lab_exam.drop('URDUURLC', axis = 1)"
      ]
    },
    {
      "cell_type": "code",
      "execution_count": null,
      "metadata": {
        "id": "B-q0HU5hPrZp"
      },
      "outputs": [],
      "source": [
        "# LBDBCDLC\n",
        "\n",
        "\n",
        "nhanes_raw_lab_exam['LBDBCDSI'] = np.where(nhanes_raw_lab_exam['LBDBCDLC'].values == 1, 0, nhanes_raw_lab_exam['LBDBCDSI'].values)\n",
        "\n",
        "nhanes_raw_lab_exam['LBDBCDSI'] = nhanes_raw_lab_exam['LBDBCDSI'].replace([2.0, 3.0, 66.0, 77.0, 99.0], nhanes_raw_lab_exam['LBDBCDSI'].median())\n",
        "nhanes_raw_lab_exam['LBDBCDSI'] = nhanes_raw_lab_exam['LBDBCDSI'].fillna(nhanes_raw_lab_exam['LBDBCDSI'].median())\n",
        "nhanes_raw_lab_exam = nhanes_raw_lab_exam.drop('LBDBCDLC', axis = 1)"
      ]
    },
    {
      "cell_type": "code",
      "execution_count": null,
      "metadata": {
        "id": "nOkQOW3YQBBD"
      },
      "outputs": [],
      "source": [
        "# # 'LBDBGELC' (Mercury already covered)\n",
        "\n",
        "\n",
        "# nhanes_raw_lab_exam['LBXBGE'] = np.where(nhanes_raw_lab_exam['LBDBGELC'].values == 1, 0, nhanes_raw_lab_exam['LBXBGE'].values)\n",
        "\n",
        "# nhanes_raw_lab_exam['LBXBGE'] = nhanes_raw_lab_exam['LBXBGE'].replace([2.0, 3.0, 66.0, 77.0, 99.0], nhanes_raw_lab_exam['LBXBGE'].median())\n",
        "# nhanes_raw_lab_exam['LBXBGE'] = nhanes_raw_lab_exam['LBXBGE'].fillna(nhanes_raw_lab_exam['LBXBGE'].median())\n",
        "# nhanes_raw_lab_exam = nhanes_raw_lab_exam.drop('LBDBGELC', axis = 1)\n",
        "\n",
        "\n"
      ]
    },
    {
      "cell_type": "code",
      "execution_count": null,
      "metadata": {
        "id": "ymZDiSfMRHsf"
      },
      "outputs": [],
      "source": [
        "# # LBDBGMLC (Mercury already covered)\n",
        "\n",
        "\n",
        "# nhanes_raw_lab_exam['LBXBGM'] = np.where(nhanes_raw_lab_exam['LBDBGMLC'].values == 1, 0, nhanes_raw_lab_exam['LBXBGM'].values)\n",
        "\n",
        "# nhanes_raw_lab_exam['LBXBGM'] = nhanes_raw_lab_exam['LBXBGM'].replace([2.0, 3.0, 66.0, 77.0, 99.0], nhanes_raw_lab_exam['LBXBGM'].median())\n",
        "# nhanes_raw_lab_exam['LBXBGM'] = nhanes_raw_lab_exam['LBXBGM'].fillna(nhanes_raw_lab_exam['LBXBGM'].median())\n",
        "# nhanes_raw_lab_exam = nhanes_raw_lab_exam.drop('LBDBGMLC', axis = 1)"
      ]
    },
    {
      "cell_type": "code",
      "execution_count": null,
      "metadata": {
        "id": "-qY9VwQtRV_H"
      },
      "outputs": [],
      "source": [
        "# LBDBSELC\n",
        "\n",
        "nhanes_raw_lab_exam['LBDBSESI'] = np.where(nhanes_raw_lab_exam['LBDBSELC'].values == 1, 0, nhanes_raw_lab_exam['LBDBSESI'].values)\n",
        "\n",
        "nhanes_raw_lab_exam['LBDBSESI'] = nhanes_raw_lab_exam['LBDBSESI'].replace([2.0, 3.0, 66.0, 77.0, 99.0], nhanes_raw_lab_exam['LBDBSESI'].median())\n",
        "nhanes_raw_lab_exam['LBDBSESI'] = nhanes_raw_lab_exam['LBDBSESI'].fillna(nhanes_raw_lab_exam['LBDBSESI'].median())\n",
        "nhanes_raw_lab_exam = nhanes_raw_lab_exam.drop('LBDBSELC', axis = 1)\n"
      ]
    },
    {
      "cell_type": "code",
      "execution_count": null,
      "metadata": {
        "id": "YhAIeSzPRkRv"
      },
      "outputs": [],
      "source": [
        "# LBDBMNLC\n",
        "\n",
        "\n",
        "nhanes_raw_lab_exam['LBDBMNSI'] = np.where(nhanes_raw_lab_exam['LBDBMNLC'].values == 1, 0, nhanes_raw_lab_exam['LBDBMNSI'].values)\n",
        "\n",
        "nhanes_raw_lab_exam['LBDBMNSI'] = nhanes_raw_lab_exam['LBDBMNSI'].replace([2.0, 3.0, 66.0, 77.0, 99.0], nhanes_raw_lab_exam['LBDBMNSI'].median())\n",
        "nhanes_raw_lab_exam['LBDBMNSI'] = nhanes_raw_lab_exam['LBDBMNSI'].fillna(nhanes_raw_lab_exam['LBDBMNSI'].median())\n",
        "nhanes_raw_lab_exam = nhanes_raw_lab_exam.drop('LBDBMNLC', axis = 1)"
      ]
    },
    {
      "cell_type": "markdown",
      "metadata": {
        "id": "0MqaEt8z75vw"
      },
      "source": []
    },
    {
      "cell_type": "code",
      "execution_count": null,
      "metadata": {
        "id": "1cXQ0rA6TrfJ"
      },
      "outputs": [],
      "source": [
        "# not using spirometry data\n",
        "# nhanes_raw_lab_exam['REQOXY'] = nhanes_raw_lab_exam['ENQ010_x'].combine_first(nhanes_raw_lab_exam['ENQ010_y'])"
      ]
    },
    {
      "cell_type": "code",
      "execution_count": null,
      "metadata": {
        "id": "meC6TT8gYfPr"
      },
      "outputs": [],
      "source": [
        "# nhanes_raw_lab_exam['REQOXY'] = nhanes_raw_lab_exam['REQOXY'].replace([2.0, 3.0, 7.0, 9.0, 66.0, 77.0, 99.0], 0)\n",
        "# nhanes_raw_lab_exam['REQOXY'] = nhanes_raw_lab_exam['REQOXY'].fillna(0)"
      ]
    },
    {
      "cell_type": "code",
      "execution_count": null,
      "metadata": {
        "id": "Ey_r1J7oSf0X"
      },
      "outputs": [],
      "source": [
        "# # to_drop = ['SDDSRVYR', 'RIDEXMON', 'RIDAGEEX', 'DMDYRSUS', 'DMDSCHOL', 'DMDHRGND', 'DMDHRAGE', 'DMDHRBR2', 'DMDHREDU',\n",
        "#        'DMDHRMAR', 'DMDHSEDU', 'SIALANG', 'SIAPROXY', 'SIAINTRP', 'FIALANG', 'FIAPROXY', 'FIAINTRP', 'MIALANG',\n",
        "#        'MIAPROXY', 'MIAINTRP', 'AIALANG', 'WTINT2YR', 'WTMEC2YR', 'SDMVPSU', 'OHDEXSTS_x', 'OHDRCSTS',\n",
        "#        'SDMVSTRA', 'WTSOG2YR', 'PHQ020', 'PHQ030', 'PHQ040', 'PHQ050', 'PHQ060','PHDSESN', \n",
        "#          'LBXVIDMS',  'LBXVD2MS',\n",
        "#         'LBXVD3MS',  'OHDEXSTS_y', 'OHDDESTS','DXARABV', 'DXATRTV',\n",
        "#          'ENXSTAT','ENQ010_y', 'ENQ020_y', 'ENQ040', 'ENQ050',\n",
        "#        'ENQ060', 'ENQ070', 'ENQ080', 'ENQ090', 'ENQ100_y', 'ENAATMPT', 'PEASCST1', 'PEASCTM1', 'MGDEXSTS', 'MGQ070', 'MGQ100', 'MGD130',\n",
        "#        'MGQ90DG', \n",
        "#        'ENXTR1G', 'ENXTR2G', 'BPQ150A', 'BPQ150B', 'BPQ150C','DXAHETV','DXALABV','DXALABV',\n",
        "#        'BPQ150D', 'BPAARM', 'DXAEXSTS', 'DXAHEBV','DXALATV','DXALLTV','DXATRBV','DXXVATV',\n",
        "#        'DXARATV','DXARLBV','DXARLTV','DXXANTV',\n",
        "#       'DXXGYTV', 'RIDRETH3', 'RIDEXAGM', 'DMDBORN4', 'AIALANGA', 'DMDHHSZA',\n",
        "#        'DMDHHSZB', 'DMDHHSZE', 'DMDHRBR4','ENQ020_x', 'SPQ020', 'SPQ040', 'SPQ060', 'SPQ100',\n",
        "#        'ENQ100_x', 'SPXNSTAT', 'SPXNFVC', 'SPXNEV', 'SPXNFEV5', 'SPXNFEV7',\n",
        "#        'SPXNFEV1', 'SPXNFEV3', 'SPXNFEV6', 'SPXNPEF', 'SPXNF257', 'SPXNFET', 'SPXNQFVC', 'SPXNQFV1', 'SPDNACC',\n",
        "#        'SPXNQEFF', 'SPDBRONC', 'SPXBQFVC', 'SPXBQFV1', 'SPXBQEFF', 'DMDBORN2']"
      ]
    },
    {
      "cell_type": "code",
      "source": [
        "nhanes_raw_lab_exam['SSKLOTH'] = nhanes_raw_lab_exam['SSKLOTH'].fillna(698.0)"
      ],
      "metadata": {
        "id": "ANj43zmhvXcl"
      },
      "execution_count": null,
      "outputs": []
    },
    {
      "cell_type": "code",
      "source": [
        "# Drop comment code features (not used)\n",
        "\n",
        "col_list = nhanes_raw_lab_exam.columns\n",
        "\n",
        "LC_list = [x for x in col_list if x[-2:]=='LC']\n",
        "\n",
        "nhanes_raw_lab_exam = nhanes_raw_lab_exam.drop(LC_list, axis = 1)"
      ],
      "metadata": {
        "id": "fkWVMShhwXNJ"
      },
      "execution_count": null,
      "outputs": []
    },
    {
      "cell_type": "code",
      "source": [
        "nhanes_raw_lab_exam.head()"
      ],
      "metadata": {
        "colab": {
          "base_uri": "https://localhost:8080/",
          "height": 300
        },
        "id": "REhxGADQUZwM",
        "outputId": "9715db24-f340-4d36-cc84-9634b951c9a2"
      },
      "execution_count": null,
      "outputs": [
        {
          "output_type": "execute_result",
          "data": {
            "text/plain": [
              "    SEQN  RIDSTATR  RIDAGEYR  DMDHHSIZ  DMDFMSIZ  INDFMPIR  LBXSF2SI  URXUMA  \\\n",
              "0  41475       2.0      62.0       2.0       2.0      1.83       NaN     7.9   \n",
              "1  41476       2.0       6.0       6.0       6.0      5.00       NaN     4.8   \n",
              "2  41477       2.0      71.0       2.0       2.0      1.50      0.52   160.3   \n",
              "3  41478       2.0       1.0       4.0       4.0      0.66      0.72     NaN   \n",
              "4  41479       2.0      52.0       5.0       5.0      2.20       NaN     5.3   \n",
              "\n",
              "   URXUMS   URXCRS  ...  Household_income_less4999  Not_pregnant  Pregnant  \\\n",
              "0     7.9   3978.0  ...                          0             1         0   \n",
              "1     4.8   6365.0  ...                          0             1         0   \n",
              "2   160.3  11934.0  ...                          0             1         0   \n",
              "3     NaN      NaN  ...                          0             1         0   \n",
              "4     5.3  10962.0  ...                          0             1         0   \n",
              "\n",
              "   Race_Mexican_American  Race_Non_Hispanic_Asian  Race_Non_Hispanic_Black  \\\n",
              "0                      0                        0                        0   \n",
              "1                      0                        0                        0   \n",
              "2                      0                        0                        0   \n",
              "3                      0                        0                        0   \n",
              "4                      1                        0                        0   \n",
              "\n",
              "   Race_Non_Hispanic_White  Race_Other/Multi_racial  Race_Other_Hispanic  \\\n",
              "0                        0                        1                    0   \n",
              "1                        0                        1                    0   \n",
              "2                        1                        0                    0   \n",
              "3                        1                        0                    0   \n",
              "4                        0                        0                    0   \n",
              "\n",
              "   URXUCR  \n",
              "0    45.0  \n",
              "1    72.0  \n",
              "2   135.0  \n",
              "3   108.0  \n",
              "4   124.0  \n",
              "\n",
              "[5 rows x 220 columns]"
            ],
            "text/html": [
              "\n",
              "  <div id=\"df-239269c3-4dd0-4ee0-88d5-de03852ffaf0\">\n",
              "    <div class=\"colab-df-container\">\n",
              "      <div>\n",
              "<style scoped>\n",
              "    .dataframe tbody tr th:only-of-type {\n",
              "        vertical-align: middle;\n",
              "    }\n",
              "\n",
              "    .dataframe tbody tr th {\n",
              "        vertical-align: top;\n",
              "    }\n",
              "\n",
              "    .dataframe thead th {\n",
              "        text-align: right;\n",
              "    }\n",
              "</style>\n",
              "<table border=\"1\" class=\"dataframe\">\n",
              "  <thead>\n",
              "    <tr style=\"text-align: right;\">\n",
              "      <th></th>\n",
              "      <th>SEQN</th>\n",
              "      <th>RIDSTATR</th>\n",
              "      <th>RIDAGEYR</th>\n",
              "      <th>DMDHHSIZ</th>\n",
              "      <th>DMDFMSIZ</th>\n",
              "      <th>INDFMPIR</th>\n",
              "      <th>LBXSF2SI</th>\n",
              "      <th>URXUMA</th>\n",
              "      <th>URXUMS</th>\n",
              "      <th>URXCRS</th>\n",
              "      <th>...</th>\n",
              "      <th>Household_income_less4999</th>\n",
              "      <th>Not_pregnant</th>\n",
              "      <th>Pregnant</th>\n",
              "      <th>Race_Mexican_American</th>\n",
              "      <th>Race_Non_Hispanic_Asian</th>\n",
              "      <th>Race_Non_Hispanic_Black</th>\n",
              "      <th>Race_Non_Hispanic_White</th>\n",
              "      <th>Race_Other/Multi_racial</th>\n",
              "      <th>Race_Other_Hispanic</th>\n",
              "      <th>URXUCR</th>\n",
              "    </tr>\n",
              "  </thead>\n",
              "  <tbody>\n",
              "    <tr>\n",
              "      <th>0</th>\n",
              "      <td>41475</td>\n",
              "      <td>2.0</td>\n",
              "      <td>62.0</td>\n",
              "      <td>2.0</td>\n",
              "      <td>2.0</td>\n",
              "      <td>1.83</td>\n",
              "      <td>NaN</td>\n",
              "      <td>7.9</td>\n",
              "      <td>7.9</td>\n",
              "      <td>3978.0</td>\n",
              "      <td>...</td>\n",
              "      <td>0</td>\n",
              "      <td>1</td>\n",
              "      <td>0</td>\n",
              "      <td>0</td>\n",
              "      <td>0</td>\n",
              "      <td>0</td>\n",
              "      <td>0</td>\n",
              "      <td>1</td>\n",
              "      <td>0</td>\n",
              "      <td>45.0</td>\n",
              "    </tr>\n",
              "    <tr>\n",
              "      <th>1</th>\n",
              "      <td>41476</td>\n",
              "      <td>2.0</td>\n",
              "      <td>6.0</td>\n",
              "      <td>6.0</td>\n",
              "      <td>6.0</td>\n",
              "      <td>5.00</td>\n",
              "      <td>NaN</td>\n",
              "      <td>4.8</td>\n",
              "      <td>4.8</td>\n",
              "      <td>6365.0</td>\n",
              "      <td>...</td>\n",
              "      <td>0</td>\n",
              "      <td>1</td>\n",
              "      <td>0</td>\n",
              "      <td>0</td>\n",
              "      <td>0</td>\n",
              "      <td>0</td>\n",
              "      <td>0</td>\n",
              "      <td>1</td>\n",
              "      <td>0</td>\n",
              "      <td>72.0</td>\n",
              "    </tr>\n",
              "    <tr>\n",
              "      <th>2</th>\n",
              "      <td>41477</td>\n",
              "      <td>2.0</td>\n",
              "      <td>71.0</td>\n",
              "      <td>2.0</td>\n",
              "      <td>2.0</td>\n",
              "      <td>1.50</td>\n",
              "      <td>0.52</td>\n",
              "      <td>160.3</td>\n",
              "      <td>160.3</td>\n",
              "      <td>11934.0</td>\n",
              "      <td>...</td>\n",
              "      <td>0</td>\n",
              "      <td>1</td>\n",
              "      <td>0</td>\n",
              "      <td>0</td>\n",
              "      <td>0</td>\n",
              "      <td>0</td>\n",
              "      <td>1</td>\n",
              "      <td>0</td>\n",
              "      <td>0</td>\n",
              "      <td>135.0</td>\n",
              "    </tr>\n",
              "    <tr>\n",
              "      <th>3</th>\n",
              "      <td>41478</td>\n",
              "      <td>2.0</td>\n",
              "      <td>1.0</td>\n",
              "      <td>4.0</td>\n",
              "      <td>4.0</td>\n",
              "      <td>0.66</td>\n",
              "      <td>0.72</td>\n",
              "      <td>NaN</td>\n",
              "      <td>NaN</td>\n",
              "      <td>NaN</td>\n",
              "      <td>...</td>\n",
              "      <td>0</td>\n",
              "      <td>1</td>\n",
              "      <td>0</td>\n",
              "      <td>0</td>\n",
              "      <td>0</td>\n",
              "      <td>0</td>\n",
              "      <td>1</td>\n",
              "      <td>0</td>\n",
              "      <td>0</td>\n",
              "      <td>108.0</td>\n",
              "    </tr>\n",
              "    <tr>\n",
              "      <th>4</th>\n",
              "      <td>41479</td>\n",
              "      <td>2.0</td>\n",
              "      <td>52.0</td>\n",
              "      <td>5.0</td>\n",
              "      <td>5.0</td>\n",
              "      <td>2.20</td>\n",
              "      <td>NaN</td>\n",
              "      <td>5.3</td>\n",
              "      <td>5.3</td>\n",
              "      <td>10962.0</td>\n",
              "      <td>...</td>\n",
              "      <td>0</td>\n",
              "      <td>1</td>\n",
              "      <td>0</td>\n",
              "      <td>1</td>\n",
              "      <td>0</td>\n",
              "      <td>0</td>\n",
              "      <td>0</td>\n",
              "      <td>0</td>\n",
              "      <td>0</td>\n",
              "      <td>124.0</td>\n",
              "    </tr>\n",
              "  </tbody>\n",
              "</table>\n",
              "<p>5 rows × 220 columns</p>\n",
              "</div>\n",
              "      <button class=\"colab-df-convert\" onclick=\"convertToInteractive('df-239269c3-4dd0-4ee0-88d5-de03852ffaf0')\"\n",
              "              title=\"Convert this dataframe to an interactive table.\"\n",
              "              style=\"display:none;\">\n",
              "        \n",
              "  <svg xmlns=\"http://www.w3.org/2000/svg\" height=\"24px\"viewBox=\"0 0 24 24\"\n",
              "       width=\"24px\">\n",
              "    <path d=\"M0 0h24v24H0V0z\" fill=\"none\"/>\n",
              "    <path d=\"M18.56 5.44l.94 2.06.94-2.06 2.06-.94-2.06-.94-.94-2.06-.94 2.06-2.06.94zm-11 1L8.5 8.5l.94-2.06 2.06-.94-2.06-.94L8.5 2.5l-.94 2.06-2.06.94zm10 10l.94 2.06.94-2.06 2.06-.94-2.06-.94-.94-2.06-.94 2.06-2.06.94z\"/><path d=\"M17.41 7.96l-1.37-1.37c-.4-.4-.92-.59-1.43-.59-.52 0-1.04.2-1.43.59L10.3 9.45l-7.72 7.72c-.78.78-.78 2.05 0 2.83L4 21.41c.39.39.9.59 1.41.59.51 0 1.02-.2 1.41-.59l7.78-7.78 2.81-2.81c.8-.78.8-2.07 0-2.86zM5.41 20L4 18.59l7.72-7.72 1.47 1.35L5.41 20z\"/>\n",
              "  </svg>\n",
              "      </button>\n",
              "      \n",
              "  <style>\n",
              "    .colab-df-container {\n",
              "      display:flex;\n",
              "      flex-wrap:wrap;\n",
              "      gap: 12px;\n",
              "    }\n",
              "\n",
              "    .colab-df-convert {\n",
              "      background-color: #E8F0FE;\n",
              "      border: none;\n",
              "      border-radius: 50%;\n",
              "      cursor: pointer;\n",
              "      display: none;\n",
              "      fill: #1967D2;\n",
              "      height: 32px;\n",
              "      padding: 0 0 0 0;\n",
              "      width: 32px;\n",
              "    }\n",
              "\n",
              "    .colab-df-convert:hover {\n",
              "      background-color: #E2EBFA;\n",
              "      box-shadow: 0px 1px 2px rgba(60, 64, 67, 0.3), 0px 1px 3px 1px rgba(60, 64, 67, 0.15);\n",
              "      fill: #174EA6;\n",
              "    }\n",
              "\n",
              "    [theme=dark] .colab-df-convert {\n",
              "      background-color: #3B4455;\n",
              "      fill: #D2E3FC;\n",
              "    }\n",
              "\n",
              "    [theme=dark] .colab-df-convert:hover {\n",
              "      background-color: #434B5C;\n",
              "      box-shadow: 0px 1px 3px 1px rgba(0, 0, 0, 0.15);\n",
              "      filter: drop-shadow(0px 1px 2px rgba(0, 0, 0, 0.3));\n",
              "      fill: #FFFFFF;\n",
              "    }\n",
              "  </style>\n",
              "\n",
              "      <script>\n",
              "        const buttonEl =\n",
              "          document.querySelector('#df-239269c3-4dd0-4ee0-88d5-de03852ffaf0 button.colab-df-convert');\n",
              "        buttonEl.style.display =\n",
              "          google.colab.kernel.accessAllowed ? 'block' : 'none';\n",
              "\n",
              "        async function convertToInteractive(key) {\n",
              "          const element = document.querySelector('#df-239269c3-4dd0-4ee0-88d5-de03852ffaf0');\n",
              "          const dataTable =\n",
              "            await google.colab.kernel.invokeFunction('convertToInteractive',\n",
              "                                                     [key], {});\n",
              "          if (!dataTable) return;\n",
              "\n",
              "          const docLinkHtml = 'Like what you see? Visit the ' +\n",
              "            '<a target=\"_blank\" href=https://colab.research.google.com/notebooks/data_table.ipynb>data table notebook</a>'\n",
              "            + ' to learn more about interactive tables.';\n",
              "          element.innerHTML = '';\n",
              "          dataTable['output_type'] = 'display_data';\n",
              "          await google.colab.output.renderOutput(dataTable, element);\n",
              "          const docLink = document.createElement('div');\n",
              "          docLink.innerHTML = docLinkHtml;\n",
              "          element.appendChild(docLink);\n",
              "        }\n",
              "      </script>\n",
              "    </div>\n",
              "  </div>\n",
              "  "
            ]
          },
          "metadata": {},
          "execution_count": 107
        }
      ]
    },
    {
      "cell_type": "code",
      "source": [
        "# ID null entries"
      ],
      "metadata": {
        "id": "8BoH2Sp9rPP_"
      },
      "execution_count": null,
      "outputs": []
    },
    {
      "cell_type": "code",
      "source": [
        "nhanes_raw_lab_exam['INDFMPIR'] = nhanes_raw_lab_exam['INDFMPIR'].fillna(nhanes_raw_lab_exam['INDFMPIR'].mean())"
      ],
      "metadata": {
        "id": "yi8NPHNMRtld"
      },
      "execution_count": null,
      "outputs": []
    },
    {
      "cell_type": "code",
      "source": [
        "# nhanes_raw_lab_exam['SSEBVIND'] = nhanes_raw_lab_exam['SSEBVIND'].fillna(nhanes_raw_lab_exam['SSEBVIND'].mean())"
      ],
      "metadata": {
        "id": "qboAHF7hXM8t"
      },
      "execution_count": null,
      "outputs": []
    },
    {
      "cell_type": "code",
      "source": [
        "nhanes_raw_lab_exam['LBXSF1SI'] = nhanes_raw_lab_exam['LBXSF1SI'].fillna(nhanes_raw_lab_exam['LBXSF1SI'].median())"
      ],
      "metadata": {
        "id": "2VmpmVhrXuAt"
      },
      "execution_count": null,
      "outputs": []
    },
    {
      "cell_type": "code",
      "source": [
        "nhanes_raw_lab_exam['URXUMA'] = nhanes_raw_lab_exam['URXUMA'].fillna(nhanes_raw_lab_exam['URXUMA'].median())"
      ],
      "metadata": {
        "id": "B3xVSEQ5YOs7"
      },
      "execution_count": null,
      "outputs": []
    },
    {
      "cell_type": "code",
      "source": [
        "nhanes_raw_lab_exam['URXUMS'] = nhanes_raw_lab_exam['URXUMS'].fillna(nhanes_raw_lab_exam['URXUMS'].median())"
      ],
      "metadata": {
        "id": "tHx0RNHNYpmD"
      },
      "execution_count": null,
      "outputs": []
    },
    {
      "cell_type": "code",
      "source": [
        "nhanes_raw_lab_exam['URXCRS'] = nhanes_raw_lab_exam['URXCRS'].fillna(7072.0) #nhanes_raw_lab_exam['URXCRS'].mode()"
      ],
      "metadata": {
        "id": "84bKO9dUYwxL"
      },
      "execution_count": null,
      "outputs": []
    },
    {
      "cell_type": "code",
      "source": [
        "\n",
        "nhanes_raw_lab_exam['LBDRPCR'] = nhanes_raw_lab_exam['LBDRPCR'].replace([1.0], 'HPV_positive')\n",
        "\n",
        "nhanes_raw_lab_exam['LBDRPCR'] = nhanes_raw_lab_exam['LBDRPCR'].replace([2.0, 3.0], 'HPV_negative')\n",
        "\n",
        "nhanes_raw_lab_exam['LBDRPCR'] = nhanes_raw_lab_exam['LBDRPCR'].fillna('HPV_not_applicable')\n",
        "\n",
        "\n",
        "one_hot = pd.get_dummies(nhanes_raw_lab_exam['LBDRPCR'])\n",
        "\n",
        "# # # Drop column B as it is now encoded\n",
        "nhanes_raw_lab_exam = nhanes_raw_lab_exam.drop(['LBDRPCR'], axis = 1)\n",
        "# # # Join the encoded df\n",
        "nhanes_raw_lab_exam = nhanes_raw_lab_exam.join(one_hot)"
      ],
      "metadata": {
        "id": "MD3n9Zz5aYoA"
      },
      "execution_count": null,
      "outputs": []
    },
    {
      "cell_type": "code",
      "source": [
        "# nhanes_raw_lab_exam['LBXH2RL'] = nhanes_raw_lab_exam['LBXH2RL'].fillna(nhanes_raw_lab_exam['LBXH2RL'].median())"
      ],
      "metadata": {
        "id": "ktYKuzoNbQDj"
      },
      "execution_count": null,
      "outputs": []
    },
    {
      "cell_type": "code",
      "source": [
        "nul_cols = list(nhanes_raw_lab_exam.columns[nhanes_raw_lab_exam.isnull().any()])\n"
      ],
      "metadata": {
        "id": "ofN5kWf1W0y2"
      },
      "execution_count": null,
      "outputs": []
    },
    {
      "cell_type": "code",
      "source": [
        "nul_cols"
      ],
      "metadata": {
        "colab": {
          "base_uri": "https://localhost:8080/"
        },
        "id": "_Ah6e9mSFeDr",
        "outputId": "0d671381-66ea-4762-ccc7-04216c93ddd1"
      },
      "execution_count": null,
      "outputs": [
        {
          "output_type": "execute_result",
          "data": {
            "text/plain": [
              "['LBXSF2SI',\n",
              " 'LBXWBCSI',\n",
              " 'LBXLYPCT',\n",
              " 'LBXMOPCT',\n",
              " 'LBXNEPCT',\n",
              " 'LBXEOPCT',\n",
              " 'LBXBAPCT',\n",
              " 'LBDLYMNO',\n",
              " 'LBDMONO',\n",
              " 'LBDNENO',\n",
              " 'LBDEONO',\n",
              " 'LBDBANO',\n",
              " 'LBXRBCSI',\n",
              " 'LBXHGB',\n",
              " 'LBXHCT',\n",
              " 'LBXMCVSI',\n",
              " 'LBXMCHSI',\n",
              " 'LBXMC',\n",
              " 'LBXRDW',\n",
              " 'LBXPLTSI',\n",
              " 'LBXMPSI',\n",
              " 'LBXGLU',\n",
              " 'LBDGLUSI',\n",
              " 'LBXIN',\n",
              " 'LBDINSI',\n",
              " 'URXUCL',\n",
              " 'LBXGLT',\n",
              " 'LBDGLTSI',\n",
              " 'URXUAS3',\n",
              " 'URXUAS5',\n",
              " 'URXUAB',\n",
              " 'URXUAC',\n",
              " 'URXUDMA',\n",
              " 'URXUMMA',\n",
              " 'URDUMMAL',\n",
              " 'URXUTM',\n",
              " 'URXUIO',\n",
              " 'LBXHE1',\n",
              " 'LBXHE2',\n",
              " 'LBXTC',\n",
              " 'LBDTCSI',\n",
              " 'LBDHDD',\n",
              " 'LBDHDDSI',\n",
              " 'LBXRBFSI',\n",
              " 'LBXFOLSI',\n",
              " 'LBXBCD',\n",
              " 'LBXBPB',\n",
              " 'LBXTHG',\n",
              " 'LBXHCR',\n",
              " 'LBXGH',\n",
              " 'LBXHBC',\n",
              " 'LBDHBG',\n",
              " 'LBDHD',\n",
              " 'LBXHA',\n",
              " 'LBDTRSI',\n",
              " 'LBDLDLSI',\n",
              " 'LBDAPBSI',\n",
              " 'URXUBE',\n",
              " 'URXUPT',\n",
              " 'LBDSALSI',\n",
              " 'LBXSATSI',\n",
              " 'LBXSASSI',\n",
              " 'LBXSAPSI',\n",
              " 'LBDSBUSI',\n",
              " 'LBDSCASI',\n",
              " 'LBDSCHSI',\n",
              " 'LBXSC3SI',\n",
              " 'LBDSCRSI',\n",
              " 'LBXSGTSI',\n",
              " 'LBDSGLSI',\n",
              " 'LBDSIRSI',\n",
              " 'LBXSLDSI',\n",
              " 'LBDSPHSI',\n",
              " 'LBDSTBSI',\n",
              " 'LBDSTPSI',\n",
              " 'LBDSTRSI',\n",
              " 'LBDSUASI',\n",
              " 'LBXSNASI',\n",
              " 'LBXSKSI',\n",
              " 'LBXSCLSI',\n",
              " 'LBXSOSSI',\n",
              " 'LBDSGBSI',\n",
              " 'URDACT',\n",
              " 'URXUMA2',\n",
              " 'URDUMA2S',\n",
              " 'URXUCR2',\n",
              " 'URDUCR2S',\n",
              " 'URDACT2',\n",
              " 'LBXHBS',\n",
              " 'LBDRFO',\n",
              " 'LBDRFOSI',\n",
              " 'LBXBSE',\n",
              " 'LBXBMN',\n",
              " 'LBDFOTSI',\n",
              " 'LBDFOT',\n",
              " 'LBXSF3SI',\n",
              " 'LBXSF4SI',\n",
              " 'LBXSF5SI',\n",
              " 'LBXSF6SI',\n",
              " 'OHAROCDT',\n",
              " 'BMXWT',\n",
              " 'BMXBMI',\n",
              " 'BMXLEG',\n",
              " 'BMXARML',\n",
              " 'BMXARMC',\n",
              " 'BMXWAIST',\n",
              " 'BMXTRI',\n",
              " 'BMXSUB',\n",
              " 'BPACSZ',\n",
              " 'BPXPLS',\n",
              " 'BPXPULS',\n",
              " 'BPXSY1',\n",
              " 'BPXDI1',\n",
              " 'BPXSY2',\n",
              " 'BPXDI2',\n",
              " 'BPXSY3',\n",
              " 'BPXDI3',\n",
              " 'BPXSY4',\n",
              " 'BPXDI4',\n",
              " 'OHAROCGP',\n",
              " 'BMDBMIC',\n",
              " 'BMDAVSAD']"
            ]
          },
          "metadata": {},
          "execution_count": 118
        }
      ]
    },
    {
      "cell_type": "code",
      "source": [
        "LBDR_list = [x for x in nul_cols if x[:4]=='LBDR']\n",
        "LBDR_list\n",
        "# LBDR_list = LBDR_list[:-7]\n",
        "# nhanes_raw_lab_exam = nhanes_raw_lab_exam.drop(LBDR_list, axis = 1)"
      ],
      "metadata": {
        "colab": {
          "base_uri": "https://localhost:8080/"
        },
        "id": "rxnCbQMfFay1",
        "outputId": "3097b82a-97b7-49ed-baa8-2968ca6dc77f"
      },
      "execution_count": null,
      "outputs": [
        {
          "output_type": "execute_result",
          "data": {
            "text/plain": [
              "['LBDRFO', 'LBDRFOSI']"
            ]
          },
          "metadata": {},
          "execution_count": 119
        }
      ]
    },
    {
      "cell_type": "code",
      "source": [
        "# folateforms"
      ],
      "metadata": {
        "id": "D9RWuKnUeZQL"
      },
      "execution_count": null,
      "outputs": []
    },
    {
      "cell_type": "code",
      "source": [
        "nhanes_raw_lab_exam['LBXSF2SI'] = nhanes_raw_lab_exam['LBXSF2SI'].fillna(nhanes_raw_lab_exam['LBXSF2SI'].median())"
      ],
      "metadata": {
        "id": "iqkLyiHheZLT"
      },
      "execution_count": null,
      "outputs": []
    },
    {
      "cell_type": "code",
      "source": [
        "# thyroid - dropped, only one third sampled"
      ],
      "metadata": {
        "id": "hIGLguKkgG3f"
      },
      "execution_count": null,
      "outputs": []
    },
    {
      "cell_type": "code",
      "source": [
        "# nhanes_raw_lab_exam['LBXATG'] = nhanes_raw_lab_exam['LBXATG'].fillna(nhanes_raw_lab_exam['LBXATG'].median())"
      ],
      "metadata": {
        "id": "neEjuarEeZIU"
      },
      "execution_count": null,
      "outputs": []
    },
    {
      "cell_type": "code",
      "source": [
        "# nhanes_raw_lab_exam['LBXT3F'] = nhanes_raw_lab_exam['LBXT3F'].fillna(nhanes_raw_lab_exam['LBXT3F'].median())"
      ],
      "metadata": {
        "id": "vh82IgoNgoFq"
      },
      "execution_count": null,
      "outputs": []
    },
    {
      "cell_type": "code",
      "source": [
        "# nhanes_raw_lab_exam['LBXT4F'] = nhanes_raw_lab_exam['LBXT4F'].fillna(nhanes_raw_lab_exam['LBXT4F'].median())\n",
        "# nhanes_raw_lab_exam['LBDT4FSI'] = nhanes_raw_lab_exam['LBDT4FSI'].fillna(nhanes_raw_lab_exam['LBDT4FSI'].median())\n",
        "# nhanes_raw_lab_exam['LBXTGN'] = nhanes_raw_lab_exam['LBXTGN'].fillna(nhanes_raw_lab_exam['LBXTGN'].median())\n",
        "# nhanes_raw_lab_exam['LBDTGNSI'] = nhanes_raw_lab_exam['LBDTGNSI'].fillna(nhanes_raw_lab_exam['LBDTGNSI'].median())\n",
        "# nhanes_raw_lab_exam['LBXTSH1'] = nhanes_raw_lab_exam['LBXTSH1'].fillna(nhanes_raw_lab_exam['LBXTSH1'].median())\n",
        "# nhanes_raw_lab_exam['LBDTSH1S'] = nhanes_raw_lab_exam['LBDTSH1S'].fillna(nhanes_raw_lab_exam['LBDTSH1S'].median())\n",
        "\n",
        "# nhanes_raw_lab_exam['LBXTPO'] = nhanes_raw_lab_exam['LBXTPO'].fillna(nhanes_raw_lab_exam['LBXTPO'].median())\n",
        "# nhanes_raw_lab_exam['LBXTT3'] = nhanes_raw_lab_exam['LBXTT3'].fillna(nhanes_raw_lab_exam['LBXTT3'].median())\n",
        "# nhanes_raw_lab_exam['LBDTT3SI'] = nhanes_raw_lab_exam['LBDTT3SI'].fillna(nhanes_raw_lab_exam['LBDTT3SI'].median())\n",
        "\n",
        "# nhanes_raw_lab_exam['LBXTT4'] = nhanes_raw_lab_exam['LBXTT4'].fillna(nhanes_raw_lab_exam['LBXTT4'].median())"
      ],
      "metadata": {
        "id": "Ro5VzFfng1w5"
      },
      "execution_count": null,
      "outputs": []
    },
    {
      "cell_type": "code",
      "source": [
        "\n",
        "nhanes_raw_lab_exam['LBXHCR'] = nhanes_raw_lab_exam['LBXHCR'].replace([1.0], 'HCV_positive')\n",
        "\n",
        "nhanes_raw_lab_exam['LBXHCR'] = nhanes_raw_lab_exam['LBXHCR'].replace([2.0, 3.0], 'HCV_negative')\n",
        "\n",
        "nhanes_raw_lab_exam['LBXHCR'] = nhanes_raw_lab_exam['LBXHCR'].fillna('HCV_negative')\n",
        "\n",
        "\n",
        "one_hot = pd.get_dummies(nhanes_raw_lab_exam['LBXHCR'])\n",
        "\n",
        "# # # Drop column B as it is now encoded\n",
        "nhanes_raw_lab_exam = nhanes_raw_lab_exam.drop(['LBXHCR'], axis = 1)\n",
        "# # # Join the encoded df\n",
        "nhanes_raw_lab_exam = nhanes_raw_lab_exam.join(one_hot)"
      ],
      "metadata": {
        "id": "QeaXY_H5i77R"
      },
      "execution_count": null,
      "outputs": []
    },
    {
      "cell_type": "code",
      "source": [
        "\n",
        "nhanes_raw_lab_exam['URXUCL'] = nhanes_raw_lab_exam['URXUCL'].replace([1.0], 'chlamydia_positive')\n",
        "\n",
        "nhanes_raw_lab_exam['URXUCL'] = nhanes_raw_lab_exam['URXUCL'].replace([2.0, 3.0], 'chlamydia_negative')\n",
        "\n",
        "nhanes_raw_lab_exam['URXUCL'] = nhanes_raw_lab_exam['URXUCL'].fillna('chlamydia_negative')\n",
        "\n",
        "\n",
        "one_hot = pd.get_dummies(nhanes_raw_lab_exam['URXUCL'])\n",
        "\n",
        "# # # Drop column B as it is now encoded\n",
        "nhanes_raw_lab_exam = nhanes_raw_lab_exam.drop(['URXUCL'], axis = 1)\n",
        "# # # Join the encoded df\n",
        "nhanes_raw_lab_exam = nhanes_raw_lab_exam.join(one_hot)"
      ],
      "metadata": {
        "id": "R_A7IZGEkj_H"
      },
      "execution_count": null,
      "outputs": []
    },
    {
      "cell_type": "code",
      "source": [
        "\n",
        "nhanes_raw_lab_exam['LBXHE1'] = nhanes_raw_lab_exam['LBXHE1'].replace([1.0], 'HSV1_positive')\n",
        "\n",
        "nhanes_raw_lab_exam['LBXHE1'] = nhanes_raw_lab_exam['LBXHE1'].replace([2.0, 3.0], 'HSV1_negative')\n",
        "\n",
        "nhanes_raw_lab_exam['LBXHE1'] = nhanes_raw_lab_exam['LBXHE1'].fillna('HSV1_negative')\n",
        "\n",
        "\n",
        "one_hot = pd.get_dummies(nhanes_raw_lab_exam['LBXHE1'])\n",
        "\n",
        "# # # Drop column B as it is now encoded\n",
        "nhanes_raw_lab_exam = nhanes_raw_lab_exam.drop(['LBXHE1'], axis = 1)\n",
        "# # # Join the encoded df\n",
        "nhanes_raw_lab_exam = nhanes_raw_lab_exam.join(one_hot)\n",
        "\n",
        "\n"
      ],
      "metadata": {
        "id": "Ve4VkPMmk5CT"
      },
      "execution_count": null,
      "outputs": []
    },
    {
      "cell_type": "code",
      "source": [
        "\n",
        "nhanes_raw_lab_exam['LBXHE2'] = nhanes_raw_lab_exam['LBXHE2'].replace([1.0], 'HSV2_positive')\n",
        "\n",
        "nhanes_raw_lab_exam['LBXHE2'] = nhanes_raw_lab_exam['LBXHE2'].replace([0], 'HSV2_negative')\n",
        "\n",
        "nhanes_raw_lab_exam['LBXHE2'] = nhanes_raw_lab_exam['LBXHE2'].fillna('HSV2_negative')\n",
        "\n",
        "\n",
        "one_hot = pd.get_dummies(nhanes_raw_lab_exam['LBXHE2'])\n",
        "\n",
        "# # # Drop column B as it is now encoded\n",
        "nhanes_raw_lab_exam = nhanes_raw_lab_exam.drop(['LBXHE2'], axis = 1)\n",
        "# # # Join the encoded df\n",
        "nhanes_raw_lab_exam = nhanes_raw_lab_exam.join(one_hot)"
      ],
      "metadata": {
        "id": "pH1H9L0vmcPg"
      },
      "execution_count": null,
      "outputs": []
    },
    {
      "cell_type": "code",
      "source": [
        "nhanes_raw_lab_exam['LBXHA'] = nhanes_raw_lab_exam['LBXHA'].replace([1.0], 'HEPA_positive')\n",
        "\n",
        "nhanes_raw_lab_exam['LBXHA'] = nhanes_raw_lab_exam['LBXHA'].replace([2.0, 3.0], 'HEPA_negative')\n",
        "\n",
        "nhanes_raw_lab_exam['LBXHA'] = nhanes_raw_lab_exam['LBXHA'].fillna('HEPA_negative')\n",
        "\n",
        "\n",
        "one_hot = pd.get_dummies(nhanes_raw_lab_exam['LBXHA'])\n",
        "\n",
        "# # # Drop column B as it is now encoded\n",
        "nhanes_raw_lab_exam = nhanes_raw_lab_exam.drop(['LBXHA'], axis = 1)\n",
        "# # # Join the encoded df\n",
        "nhanes_raw_lab_exam = nhanes_raw_lab_exam.join(one_hot)"
      ],
      "metadata": {
        "id": "DVoc0xuOmoS4"
      },
      "execution_count": null,
      "outputs": []
    },
    {
      "cell_type": "code",
      "source": [
        "nhanes_raw_lab_exam['LBXHBC'] = nhanes_raw_lab_exam['LBXHBC'].replace([1.0], 'HEPB_positive')\n",
        "\n",
        "nhanes_raw_lab_exam['LBXHBC'] = nhanes_raw_lab_exam['LBXHBC'].replace([2.0, 3.0], 'HEPB_negative')\n",
        "\n",
        "nhanes_raw_lab_exam['LBXHBC'] = nhanes_raw_lab_exam['LBXHBC'].fillna('HEPB_negative')\n",
        "\n",
        "\n",
        "one_hot = pd.get_dummies(nhanes_raw_lab_exam['LBXHBC'])\n",
        "\n",
        "# # # Drop column B as it is now encoded\n",
        "nhanes_raw_lab_exam = nhanes_raw_lab_exam.drop(['LBXHBC'], axis = 1)\n",
        "# # # Join the encoded df\n",
        "nhanes_raw_lab_exam = nhanes_raw_lab_exam.join(one_hot)"
      ],
      "metadata": {
        "id": "tGyIjXoLp3Jp"
      },
      "execution_count": null,
      "outputs": []
    },
    {
      "cell_type": "code",
      "source": [
        "nhanes_raw_lab_exam['LBDHD'] = nhanes_raw_lab_exam['LBDHD'].replace([1.0], 'HEPD_positive')\n",
        "\n",
        "nhanes_raw_lab_exam['LBDHD'] = nhanes_raw_lab_exam['LBDHD'].replace([2.0, 3.0], 'HEPD_negative')\n",
        "\n",
        "nhanes_raw_lab_exam['LBDHD'] = nhanes_raw_lab_exam['LBDHD'].fillna('HEPD_negative')\n",
        "\n",
        "\n",
        "one_hot = pd.get_dummies(nhanes_raw_lab_exam['LBDHD'])\n",
        "\n",
        "# # # Drop column B as it is now encoded\n",
        "nhanes_raw_lab_exam = nhanes_raw_lab_exam.drop(['LBDHD'], axis = 1)\n",
        "# # # Join the encoded df\n",
        "nhanes_raw_lab_exam = nhanes_raw_lab_exam.join(one_hot)"
      ],
      "metadata": {
        "id": "cV0AIo-dqGah"
      },
      "execution_count": null,
      "outputs": []
    },
    {
      "cell_type": "code",
      "source": [
        "# biochemistry\n",
        "\n",
        "biolist = ['LBDSALSI', 'LBXSATSI', 'LBXSASSI', 'LBXSAPSI',\n",
        "       'LBDSBUSI', 'LBDSCASI', 'LBDSCHSI',\n",
        "       'LBXSC3SI', 'LBDSCRSI', 'LBXSGTSI', 'LBDSGLSI',\n",
        "        'LBDSIRSI', 'LBXSLDSI', 'LBDSPHSI', \n",
        "       'LBDSTBSI',  'LBDSTPSI',  'LBDSTRSI', \n",
        "       'LBDSUASI', 'LBXSNASI', 'LBXSKSI', 'LBXSCLSI', 'LBXSOSSI',\n",
        "       'LBDSGBSI']\n",
        "\n",
        "\n",
        "for item in biolist:\n",
        "  nhanes_raw_lab_exam[item] = nhanes_raw_lab_exam[item].fillna(nhanes_raw_lab_exam[item].median())\n"
      ],
      "metadata": {
        "id": "3nWGkOreqsVg"
      },
      "execution_count": null,
      "outputs": []
    },
    {
      "cell_type": "code",
      "source": [
        "chol_list = ['LBDHDD', 'LBDHDDSI', 'LBDTCSI', 'LBXTC', 'LBDTRSI', 'LBDLDLSI']\n",
        "\n",
        "for item in chol_list:\n",
        "  nhanes_raw_lab_exam[item] = nhanes_raw_lab_exam[item].fillna(nhanes_raw_lab_exam[item].median())"
      ],
      "metadata": {
        "id": "G-VgXyMJ4_nO"
      },
      "execution_count": null,
      "outputs": []
    },
    {
      "cell_type": "code",
      "source": [
        "nhanes_raw_lab_exam['LBXCOT'].isna().sum()"
      ],
      "metadata": {
        "colab": {
          "base_uri": "https://localhost:8080/"
        },
        "id": "MQbJl8KN5XDA",
        "outputId": "40c31fc1-0424-4f4c-ac05-920cc130e482"
      },
      "execution_count": null,
      "outputs": [
        {
          "output_type": "execute_result",
          "data": {
            "text/plain": [
              "0"
            ]
          },
          "metadata": {},
          "execution_count": 135
        }
      ]
    },
    {
      "cell_type": "code",
      "source": [
        "nhanes_raw_lab_exam['LBXGH'] = nhanes_raw_lab_exam['LBXGH'].fillna(nhanes_raw_lab_exam['LBXGH'].median())"
      ],
      "metadata": {
        "id": "PQGd1KW2nGb5"
      },
      "execution_count": null,
      "outputs": []
    },
    {
      "cell_type": "code",
      "source": [
        "#blood count data\n",
        "\n",
        "nhanes_raw_lab_exam['LBDBANO'] = nhanes_raw_lab_exam['LBDBANO'].fillna(nhanes_raw_lab_exam['LBDBANO'].median())\n",
        "nhanes_raw_lab_exam['LBDEONO'] = nhanes_raw_lab_exam['LBDEONO'].fillna(nhanes_raw_lab_exam['LBDEONO'].median())\n",
        "nhanes_raw_lab_exam['LBDLYMNO'] = nhanes_raw_lab_exam['LBDLYMNO'].fillna(nhanes_raw_lab_exam['LBDLYMNO'].median())\n",
        "nhanes_raw_lab_exam['LBDMONO'] = nhanes_raw_lab_exam['LBDMONO'].fillna(nhanes_raw_lab_exam['LBDMONO'].median())\n",
        "nhanes_raw_lab_exam['LBDNENO'] = nhanes_raw_lab_exam['LBDNENO'].fillna(nhanes_raw_lab_exam['LBDNENO'].median())\n",
        "nhanes_raw_lab_exam['LBXBAPCT'] = nhanes_raw_lab_exam['LBXBAPCT'].fillna(nhanes_raw_lab_exam['LBXBAPCT'].median())\n",
        "nhanes_raw_lab_exam['LBXEOPCT'] = nhanes_raw_lab_exam['LBXEOPCT'].fillna(nhanes_raw_lab_exam['LBXEOPCT'].median())\n",
        "nhanes_raw_lab_exam['LBXHCT'] = nhanes_raw_lab_exam['LBXHCT'].fillna(nhanes_raw_lab_exam['LBXHCT'].median())\n",
        "nhanes_raw_lab_exam['LBXHGB'] = nhanes_raw_lab_exam['LBXHGB'].fillna(nhanes_raw_lab_exam['LBXHGB'].median())\n",
        "nhanes_raw_lab_exam['LBXLYPCT'] = nhanes_raw_lab_exam['LBXLYPCT'].fillna(nhanes_raw_lab_exam['LBXLYPCT'].median())\n",
        "nhanes_raw_lab_exam['LBXMC'] = nhanes_raw_lab_exam['LBXMC'].fillna(nhanes_raw_lab_exam['LBXMC'].median())\n",
        "nhanes_raw_lab_exam['LBXMCHSI'] = nhanes_raw_lab_exam['LBXMCHSI'].fillna(nhanes_raw_lab_exam['LBXMCHSI'].median())\n",
        "nhanes_raw_lab_exam['LBXMCVSI'] = nhanes_raw_lab_exam['LBXMCVSI'].fillna(nhanes_raw_lab_exam['LBXMCVSI'].median())\n",
        "nhanes_raw_lab_exam['LBXMOPCT'] = nhanes_raw_lab_exam['LBXMOPCT'].fillna(nhanes_raw_lab_exam['LBXMOPCT'].median())\n",
        "nhanes_raw_lab_exam['LBXMPSI'] = nhanes_raw_lab_exam['LBXMPSI'].fillna(nhanes_raw_lab_exam['LBXMPSI'].median())\n",
        "nhanes_raw_lab_exam['LBXNEPCT'] = nhanes_raw_lab_exam['LBXNEPCT'].fillna(nhanes_raw_lab_exam['LBXNEPCT'].median())\n",
        "nhanes_raw_lab_exam['LBXPLTSI'] = nhanes_raw_lab_exam['LBXPLTSI'].fillna(nhanes_raw_lab_exam['LBXPLTSI'].median())\n",
        "nhanes_raw_lab_exam['LBXRBCSI'] = nhanes_raw_lab_exam['LBXRBCSI'].fillna(nhanes_raw_lab_exam['LBXRBCSI'].median())\n",
        "nhanes_raw_lab_exam['LBXRDW'] = nhanes_raw_lab_exam['LBXRDW'].fillna(nhanes_raw_lab_exam['LBXRDW'].median())\n",
        "nhanes_raw_lab_exam['LBXWBCSI'] = nhanes_raw_lab_exam['LBXWBCSI'].fillna(nhanes_raw_lab_exam['LBXWBCSI'].median())\n"
      ],
      "metadata": {
        "id": "9m1KWZqgneOU"
      },
      "execution_count": null,
      "outputs": []
    },
    {
      "cell_type": "code",
      "source": [
        "\n",
        "nhanes_raw_lab_exam['URDACT'] = nhanes_raw_lab_exam['URDACT'].fillna(nhanes_raw_lab_exam['URDACT'].median())\n"
      ],
      "metadata": {
        "id": "8JV2czIypOCA"
      },
      "execution_count": null,
      "outputs": []
    },
    {
      "cell_type": "code",
      "source": [
        "# PSA not measured after 2011\n",
        "# nhanes_raw_lab_exam['LBXP1'] = nhanes_raw_lab_exam['LBXP1'].fillna(0)\n",
        "# nhanes_raw_lab_exam['LBXP2'] = nhanes_raw_lab_exam['LBXP2'].fillna(0)"
      ],
      "metadata": {
        "id": "OIb_vdwWwaPS"
      },
      "execution_count": null,
      "outputs": []
    },
    {
      "cell_type": "code",
      "source": [
        "# replacing missing blood mercury with median \n",
        "\n",
        "\n",
        "nhanes_raw_lab_exam['LBDTHGSI'] = nhanes_raw_lab_exam['LBDTHGSI'].replace([2.0, 3.0, 66.0, 77.0, 99.0], nhanes_raw_lab_exam['LBDTHGSI'].median())\n",
        "nhanes_raw_lab_exam['LBDTHGSI'] = nhanes_raw_lab_exam['LBDTHGSI'].fillna(nhanes_raw_lab_exam['LBDTHGSI'].median())\n"
      ],
      "metadata": {
        "id": "nFemI1-PykLv"
      },
      "execution_count": null,
      "outputs": []
    },
    {
      "cell_type": "code",
      "source": [],
      "metadata": {
        "id": "LGcS8_5Sy2pl"
      },
      "execution_count": null,
      "outputs": []
    },
    {
      "cell_type": "code",
      "source": [],
      "metadata": {
        "id": "qCH30wsfH5Qj"
      },
      "execution_count": null,
      "outputs": []
    },
    {
      "cell_type": "code",
      "source": [
        "missing_data = pd.DataFrame({'total_missing': nhanes_raw_lab_exam.isnull().sum(), '%_missing': (nhanes_raw_lab_exam.isnull().sum()/48473)*100}) \n",
        "missing_data.sort_values(by = ['%_missing'], ascending = False)\n",
        "\n",
        "high_missing = missing_data[missing_data['%_missing'] >= 75]\n",
        "\n",
        "high_missing_features = list(high_missing.index)"
      ],
      "metadata": {
        "id": "1QV8mjVJjmAl"
      },
      "execution_count": null,
      "outputs": []
    },
    {
      "cell_type": "code",
      "source": [
        "high_missing_features"
      ],
      "metadata": {
        "colab": {
          "base_uri": "https://localhost:8080/"
        },
        "id": "D41RMBLB3JVA",
        "outputId": "f15a6f70-9c7b-4ff3-ffae-4c5e919c9fa3"
      },
      "execution_count": null,
      "outputs": [
        {
          "output_type": "execute_result",
          "data": {
            "text/plain": [
              "['LBXGLT',\n",
              " 'LBDGLTSI',\n",
              " 'URXUTM',\n",
              " 'URXUBE',\n",
              " 'URXUPT',\n",
              " 'URXUMA2',\n",
              " 'URDUMA2S',\n",
              " 'URXUCR2',\n",
              " 'URDUCR2S',\n",
              " 'URDACT2',\n",
              " 'LBDFOTSI',\n",
              " 'LBDFOT',\n",
              " 'LBXSF3SI',\n",
              " 'LBXSF4SI',\n",
              " 'LBXSF5SI',\n",
              " 'LBXSF6SI',\n",
              " 'BPXSY4',\n",
              " 'BPXDI4',\n",
              " 'OHAROCGP',\n",
              " 'BMDBMIC']"
            ]
          },
          "metadata": {},
          "execution_count": 142
        }
      ]
    },
    {
      "cell_type": "code",
      "source": [
        "#Exam feature cleaning"
      ],
      "metadata": {
        "id": "AlnClwVK36ft"
      },
      "execution_count": null,
      "outputs": []
    },
    {
      "cell_type": "code",
      "source": [
        "\n",
        "nhanes_raw_lab_exam['OHAROCDT'] = nhanes_raw_lab_exam['OHAROCDT'].replace([1.0], 'Decayed_teeth')\n",
        "\n",
        "nhanes_raw_lab_exam['OHAROCDT'] = nhanes_raw_lab_exam['OHAROCDT'].replace([2.0, 9.0], 'No_decayed_teeth')\n",
        "\n",
        "nhanes_raw_lab_exam['OHAROCDT'] = nhanes_raw_lab_exam['OHAROCDT'].fillna('No_decayed_teeth')\n",
        "\n",
        "\n",
        "one_hot = pd.get_dummies(nhanes_raw_lab_exam['OHAROCDT'])\n",
        "\n",
        "# # # Drop column B as it is now encoded\n",
        "nhanes_raw_lab_exam = nhanes_raw_lab_exam.drop(['OHAROCDT'], axis = 1)\n",
        "# # # Join the encoded df\n",
        "nhanes_raw_lab_exam = nhanes_raw_lab_exam.join(one_hot)"
      ],
      "metadata": {
        "id": "FlEqpnfc39bO"
      },
      "execution_count": null,
      "outputs": []
    },
    {
      "cell_type": "code",
      "source": [
        "\n",
        "\n",
        "\n",
        "nhanes_raw_lab_exam['OHAROCGP'] = nhanes_raw_lab_exam['OHAROCGP'].replace([1.0], 'Gum_disease')\n",
        "\n",
        "nhanes_raw_lab_exam['OHAROCGP'] = nhanes_raw_lab_exam['OHAROCGP'].replace([2.0], 'No_gum_disease')\n",
        "\n",
        "nhanes_raw_lab_exam['OHAROCGP'] = nhanes_raw_lab_exam['OHAROCGP'].fillna('No_gum_disease')\n",
        "\n",
        "\n",
        "one_hot = pd.get_dummies(nhanes_raw_lab_exam['OHAROCGP'])\n",
        "\n",
        "# # # Drop column B as it is now encoded\n",
        "nhanes_raw_lab_exam = nhanes_raw_lab_exam.drop(['OHAROCGP'], axis = 1)\n",
        "# # # Join the encoded df\n",
        "nhanes_raw_lab_exam = nhanes_raw_lab_exam.join(one_hot)"
      ],
      "metadata": {
        "id": "TLBtVyki_GcO"
      },
      "execution_count": null,
      "outputs": []
    },
    {
      "cell_type": "code",
      "source": [
        "\n",
        "\n",
        "\n",
        "nhanes_raw_lab_exam['BPACSZ'] = nhanes_raw_lab_exam['BPACSZ'].replace([1.0], 'BPCuff_infant')\n",
        "\n",
        "nhanes_raw_lab_exam['BPACSZ'] = nhanes_raw_lab_exam['BPACSZ'].replace([2.0], 'BPCuff_Child')\n",
        "\n",
        "nhanes_raw_lab_exam['BPACSZ'] = nhanes_raw_lab_exam['BPACSZ'].replace([3.0], 'BPCuff_Adult')\n",
        "\n",
        "nhanes_raw_lab_exam['BPACSZ'] = nhanes_raw_lab_exam['BPACSZ'].replace([4.0], 'BPCuff_Large')\n",
        "\n",
        "nhanes_raw_lab_exam['BPACSZ'] = nhanes_raw_lab_exam['BPACSZ'].replace([5.0], 'BPCuff_Thigh')\n",
        "\n",
        "nhanes_raw_lab_exam['BPACSZ'] = nhanes_raw_lab_exam['BPACSZ'].fillna('BPCuff_Adult')\n",
        "\n",
        "\n",
        "one_hot = pd.get_dummies(nhanes_raw_lab_exam['BPACSZ'])\n",
        "\n",
        "# # # Drop column B as it is now encoded\n",
        "nhanes_raw_lab_exam = nhanes_raw_lab_exam.drop(['BPACSZ'], axis = 1)\n",
        "# # # Join the encoded df\n",
        "nhanes_raw_lab_exam = nhanes_raw_lab_exam.join(one_hot)"
      ],
      "metadata": {
        "id": "lXy69phi79K6"
      },
      "execution_count": null,
      "outputs": []
    },
    {
      "cell_type": "code",
      "source": [
        "\n",
        "nhanes_raw_lab_exam['BPXPULS'] = nhanes_raw_lab_exam['BPXPULS'].replace([1.0], 'Pulse_regular')\n",
        "\n",
        "nhanes_raw_lab_exam['BPXPULS'] = nhanes_raw_lab_exam['BPXPULS'].replace([2.0], 'Pulse_irregular')\n",
        "\n",
        "nhanes_raw_lab_exam['BPXPULS'] = nhanes_raw_lab_exam['BPXPULS'].fillna('Pulse_regular')\n",
        "\n",
        "\n",
        "one_hot = pd.get_dummies(nhanes_raw_lab_exam['BPXPULS'])\n",
        "\n",
        "# # # Drop column B as it is now encoded\n",
        "nhanes_raw_lab_exam = nhanes_raw_lab_exam.drop(['BPXPULS'], axis = 1)\n",
        "# # # Join the encoded df\n",
        "nhanes_raw_lab_exam = nhanes_raw_lab_exam.join(one_hot)"
      ],
      "metadata": {
        "id": "dbhP_Lp48qNX"
      },
      "execution_count": null,
      "outputs": []
    },
    {
      "cell_type": "code",
      "source": [
        "nhanes_raw_lab_exam['BPXSY1'] = nhanes_raw_lab_exam['BPXSY1'].fillna(nhanes_raw_lab_exam['BPXSY1'].median())\n",
        "nhanes_raw_lab_exam['BPXDI1'] = nhanes_raw_lab_exam['BPXDI1'].fillna(nhanes_raw_lab_exam['BPXDI1'].median())"
      ],
      "metadata": {
        "id": "aQpz8Qyb87wk"
      },
      "execution_count": null,
      "outputs": []
    },
    {
      "cell_type": "code",
      "source": [
        "nhanes_raw_lab_exam['BMXWT'] = nhanes_raw_lab_exam['BMXWT'].fillna(nhanes_raw_lab_exam['BMXWT'].median())\n",
        "nhanes_raw_lab_exam['BMXHT'] = nhanes_raw_lab_exam['BMXHT'].fillna(nhanes_raw_lab_exam['BMXHT'].median())\n",
        "\n",
        "nhanes_raw_lab_exam['BMXBMI'] = nhanes_raw_lab_exam['BMXBMI'].fillna(nhanes_raw_lab_exam['BMXBMI'].median())\n",
        "\n",
        "\n",
        "nhanes_raw_lab_exam['BMXLEG'] = nhanes_raw_lab_exam['BMXLEG'].fillna(nhanes_raw_lab_exam['BMXLEG'].median())\n",
        "nhanes_raw_lab_exam['BMXARML'] = nhanes_raw_lab_exam['BMXARML'].fillna(nhanes_raw_lab_exam['BMXARML'].median())\n",
        "nhanes_raw_lab_exam['BMXARMC'] = nhanes_raw_lab_exam['BMXARMC'].fillna(nhanes_raw_lab_exam['BMXARMC'].median())\n",
        "nhanes_raw_lab_exam['BMXWAIST'] = nhanes_raw_lab_exam['BMXWAIST'].fillna(nhanes_raw_lab_exam['BMXWAIST'].median())\n",
        "\n",
        "nhanes_raw_lab_exam['BMDAVSAD'] = nhanes_raw_lab_exam['BMDAVSAD'].fillna(nhanes_raw_lab_exam['BMDAVSAD'].median())\n",
        "nhanes_raw_lab_exam['BMXWAIST'] = nhanes_raw_lab_exam['BMXWAIST'].fillna(nhanes_raw_lab_exam['BMXWAIST'].median())\n",
        "nhanes_raw_lab_exam['BMXWAIST'] = nhanes_raw_lab_exam['BMXWAIST'].fillna(nhanes_raw_lab_exam['BMXWAIST'].median())"
      ],
      "metadata": {
        "id": "BEAo28mH9vNr"
      },
      "execution_count": null,
      "outputs": []
    },
    {
      "cell_type": "code",
      "source": [
        "nhanes_raw_lab_exam['BMDBMIC'] = nhanes_raw_lab_exam['BMDBMIC'].replace([1.0], 'BMI_Underweight')\n",
        "\n",
        "nhanes_raw_lab_exam['BMDBMIC'] = nhanes_raw_lab_exam['BMDBMIC'].replace([2.0], 'BMI_Healthy')\n",
        "\n",
        "nhanes_raw_lab_exam['BMDBMIC'] = nhanes_raw_lab_exam['BMDBMIC'].replace([3.0], 'BMI_Overweight')\n",
        "\n",
        "nhanes_raw_lab_exam['BMDBMIC'] = nhanes_raw_lab_exam['BMDBMIC'].replace([4.0], 'BMI_Obese')\n",
        "\n",
        "\n",
        "\n"
      ],
      "metadata": {
        "id": "-rGEmiahCkIU"
      },
      "execution_count": null,
      "outputs": []
    },
    {
      "cell_type": "code",
      "source": [
        "test_BMI = nhanes_raw_lab_exam['BMI_range']\n",
        "\n",
        "test_BMI['BMI_Adult_Child_Combi'] = test_BMI.combine_first(nhanes_raw_lab_exam['BMDBMIC'])\n",
        "\n",
        "# test_BMI.value_counts()\n",
        "\n",
        "one_hot = pd.get_dummies(test_BMI['BMI_Adult_Child_Combi'])\n",
        "\n",
        "nhanes_raw_lab_exam = nhanes_raw_lab_exam.join(one_hot)"
      ],
      "metadata": {
        "colab": {
          "base_uri": "https://localhost:8080/"
        },
        "id": "1xCVihoP6GQv",
        "outputId": "5f403e91-1805-4ef2-a6c9-e430376f90d6"
      },
      "execution_count": null,
      "outputs": [
        {
          "output_type": "stream",
          "name": "stderr",
          "text": [
            "<ipython-input-151-7dc2b7dba2b1>:3: SettingWithCopyWarning: \n",
            "A value is trying to be set on a copy of a slice from a DataFrame\n",
            "\n",
            "See the caveats in the documentation: https://pandas.pydata.org/pandas-docs/stable/user_guide/indexing.html#returning-a-view-versus-a-copy\n",
            "  test_BMI['BMI_Adult_Child_Combi'] = test_BMI.combine_first(nhanes_raw_lab_exam['BMDBMIC'])\n"
          ]
        }
      ]
    },
    {
      "cell_type": "code",
      "source": [
        "nhanes_raw_lab_exam = nhanes_raw_lab_exam.drop(['BMI_range', 'BMDBMIC'], axis =1)"
      ],
      "metadata": {
        "id": "CHSHyLyI725M"
      },
      "execution_count": null,
      "outputs": []
    },
    {
      "cell_type": "code",
      "source": [],
      "metadata": {
        "id": "CoLM-gFs8g4e"
      },
      "execution_count": null,
      "outputs": []
    },
    {
      "cell_type": "code",
      "source": [
        "nhanes_raw_lab_exam['URXUAS3'] = nhanes_raw_lab_exam['URXUAS3'].fillna(nhanes_raw_lab_exam['URXUAS3'].quantile(0.1))\n",
        "nhanes_raw_lab_exam['URXUAS5'] = nhanes_raw_lab_exam['URXUAS5'].fillna(nhanes_raw_lab_exam['URXUAS5'].quantile(0.1))\n",
        "nhanes_raw_lab_exam['URXUAB'] = nhanes_raw_lab_exam['URXUAB'].fillna(nhanes_raw_lab_exam['URXUAB'].quantile(0.1))\n",
        "nhanes_raw_lab_exam['URXUAC'] = nhanes_raw_lab_exam['URXUAC'].fillna(nhanes_raw_lab_exam['URXUAC'].quantile(0.1))\n",
        "nhanes_raw_lab_exam['URXUDMA'] = nhanes_raw_lab_exam['URXUDMA'].fillna(nhanes_raw_lab_exam['URXUDMA'].quantile(0.1))\n",
        "nhanes_raw_lab_exam['URXUMMA'] = nhanes_raw_lab_exam['URXUMMA'].fillna(nhanes_raw_lab_exam['URXUMMA'].quantile(0.1))\n",
        "nhanes_raw_lab_exam['URDUMMAL'] = nhanes_raw_lab_exam['URDUMMAL'].fillna(nhanes_raw_lab_exam['URDUMMAL'].quantile(0.1))\n",
        "nhanes_raw_lab_exam['URXUTM'] = nhanes_raw_lab_exam['URXUTM'].fillna(nhanes_raw_lab_exam['URXUTM'].quantile(0.1))\n",
        "\n"
      ],
      "metadata": {
        "id": "5YC6pKcLw83a"
      },
      "execution_count": null,
      "outputs": []
    },
    {
      "cell_type": "code",
      "source": [
        "nhanes_raw_lab_exam['URXUIO'] = nhanes_raw_lab_exam['URXUIO'].fillna(nhanes_raw_lab_exam['URXUIO'].quantile(0.5))"
      ],
      "metadata": {
        "id": "kz2eZ665zjtk"
      },
      "execution_count": null,
      "outputs": []
    },
    {
      "cell_type": "code",
      "source": [
        "nhanes_raw_lab_exam['LBXRBFSI'] = nhanes_raw_lab_exam['LBXRBFSI'].fillna(nhanes_raw_lab_exam['LBXRBFSI'].median())\n",
        "nhanes_raw_lab_exam['LBXFOLSI'] = nhanes_raw_lab_exam['LBXFOLSI'].fillna(nhanes_raw_lab_exam['LBXFOLSI'].median())"
      ],
      "metadata": {
        "id": "CxeKMX5dz1Ey"
      },
      "execution_count": null,
      "outputs": []
    },
    {
      "cell_type": "code",
      "source": [
        "nhanes_raw_lab_exam['LBXBCD'] = nhanes_raw_lab_exam['LBXBCD'].fillna(nhanes_raw_lab_exam['LBXBCD'].median())\n",
        "nhanes_raw_lab_exam['LBXBPB'] = nhanes_raw_lab_exam['LBXBPB'].fillna(nhanes_raw_lab_exam['LBXBPB'].median())\n",
        "nhanes_raw_lab_exam['LBXTHG'] = nhanes_raw_lab_exam['LBXTHG'].fillna(nhanes_raw_lab_exam['LBXTHG'].median())"
      ],
      "metadata": {
        "id": "vFCVXpW-0xvS"
      },
      "execution_count": null,
      "outputs": []
    },
    {
      "cell_type": "code",
      "source": [
        "nhanes_raw_lab_exam['LBDRFOSI'] = nhanes_raw_lab_exam['LBDRFOSI'].fillna(nhanes_raw_lab_exam['LBDRFOSI'].median())"
      ],
      "metadata": {
        "id": "uWx2sV7l1bjY"
      },
      "execution_count": null,
      "outputs": []
    },
    {
      "cell_type": "code",
      "source": [
        "nhanes_raw_lab_exam['LBXSF3SI'] = nhanes_raw_lab_exam['LBXSF3SI'].fillna(nhanes_raw_lab_exam['LBXSF3SI'].median())\n",
        "nhanes_raw_lab_exam['LBXSF4SI'] = nhanes_raw_lab_exam['LBXSF4SI'].fillna(nhanes_raw_lab_exam['LBXSF4SI'].median())\n",
        "nhanes_raw_lab_exam['LBXSF5SI'] = nhanes_raw_lab_exam['LBXSF5SI'].fillna(nhanes_raw_lab_exam['LBXSF5SI'].median())\n",
        "nhanes_raw_lab_exam['LBXSF6SI'] = nhanes_raw_lab_exam['LBXSF6SI'].fillna(nhanes_raw_lab_exam['LBXSF6SI'].median())"
      ],
      "metadata": {
        "id": "SLbW-Qs52x3t"
      },
      "execution_count": null,
      "outputs": []
    },
    {
      "cell_type": "code",
      "source": [
        "\n",
        "nhanes_raw_lab_exam['BPXPLS'] = nhanes_raw_lab_exam['BPXPLS'].fillna(nhanes_raw_lab_exam['BPXPLS'].median())"
      ],
      "metadata": {
        "id": "fFMVIP8m4go6"
      },
      "execution_count": null,
      "outputs": []
    },
    {
      "cell_type": "code",
      "source": [
        "glucose_data = ['LBDGLUSI', 'LBXIN', 'LBDINSI', 'LBDGLTSI']\n",
        "\n"
      ],
      "metadata": {
        "id": "Xf3TVY2g8H2o"
      },
      "execution_count": null,
      "outputs": []
    },
    {
      "cell_type": "code",
      "source": [
        "to_drop = ['URXUMA2', 'URDUMA2S', 'URXUCR2', \n",
        "           'BPXSY2', 'BPXDI2', 'BPXSY3', \n",
        "           'BPXDI3', 'BPXSY4', 'BPXDI4', \n",
        "           'URDUCR2S', 'URDACT2', 'LBDHBG', \n",
        "           'BMXTRI', 'BMXSUB', 'LBDAPBSI', \n",
        "           'URXUPT', 'LBDFOT', 'URXUBE', \n",
        "           'LBXHBS', 'LBDRFO', 'LBXBSE', \n",
        "           'LBXBMN', 'LBDFOTSI']"
      ],
      "metadata": {
        "id": "gauaIzTN8_at"
      },
      "execution_count": null,
      "outputs": []
    },
    {
      "cell_type": "code",
      "source": [
        "nhanes_raw_lab_exam = nhanes_raw_lab_exam.drop(glucose_data, axis =1)\n",
        "nhanes_raw_lab_exam = nhanes_raw_lab_exam.drop(to_drop, axis =1)"
      ],
      "metadata": {
        "id": "LAHvXJfq8JFy"
      },
      "execution_count": null,
      "outputs": []
    },
    {
      "cell_type": "code",
      "source": [
        "missing_data = pd.DataFrame({'total_missing': nhanes_raw_lab_exam.isnull().sum(), '%_missing': (nhanes_raw_lab_exam.isnull().sum()/48473)*100}) \n",
        "missing_data.sort_values(by = ['%_missing'], ascending = False)\n",
        "\n",
        "high_missing = missing_data[missing_data['%_missing'] >= 75]\n",
        "\n",
        "high_missing_features = list(high_missing.index)"
      ],
      "metadata": {
        "id": "j2gXKs6bCkZq"
      },
      "execution_count": null,
      "outputs": []
    },
    {
      "cell_type": "code",
      "source": [
        "high_missing_features"
      ],
      "metadata": {
        "colab": {
          "base_uri": "https://localhost:8080/"
        },
        "outputId": "68d797d5-f13e-4e74-f58d-967273b94a0b",
        "id": "tWGHCSl-CkZq"
      },
      "execution_count": null,
      "outputs": [
        {
          "output_type": "execute_result",
          "data": {
            "text/plain": [
              "['LBXGLT']"
            ]
          },
          "metadata": {},
          "execution_count": 164
        }
      ]
    },
    {
      "cell_type": "code",
      "source": [
        "nhanes_raw_lab_exam.columns[nhanes_raw_lab_exam.isnull().any()]"
      ],
      "metadata": {
        "colab": {
          "base_uri": "https://localhost:8080/"
        },
        "id": "HGEF0_x9d4Zu",
        "outputId": "12596579-61c4-432b-d765-089bc5875d65"
      },
      "execution_count": null,
      "outputs": [
        {
          "output_type": "execute_result",
          "data": {
            "text/plain": [
              "Index(['LBXGLU', 'LBXGLT'], dtype='object')"
            ]
          },
          "metadata": {},
          "execution_count": 165
        }
      ]
    },
    {
      "cell_type": "code",
      "source": [],
      "metadata": {
        "id": "iFRaXeZI4x-o"
      },
      "execution_count": null,
      "outputs": []
    },
    {
      "cell_type": "code",
      "source": [],
      "metadata": {
        "id": "_5rWtzMswUab"
      },
      "execution_count": null,
      "outputs": []
    },
    {
      "cell_type": "code",
      "source": [
        "# nul_cols = list(nhanes_raw_lab_exam.columns[nhanes_raw_lab_exam.isnull().any()])\n",
        "\n",
        "# WTS_list = [x for x in nul_cols if x[:3]=='WTS']\n",
        "\n",
        "\n",
        "\n",
        "# nhanes_raw_lab_exam = nhanes_raw_lab_exam.drop(WTS_list, axis = 1)"
      ],
      "metadata": {
        "id": "XaZBRVclEIs1"
      },
      "execution_count": null,
      "outputs": []
    },
    {
      "cell_type": "code",
      "source": [
        "nhanes_raw_lab_exam.to_csv('/content/drive/MyDrive/NHANES/merged_csv/selected_raw_lab_exam_data_merged.csv')"
      ],
      "metadata": {
        "id": "0dNxgYZ7Ea-s"
      },
      "execution_count": null,
      "outputs": []
    }
  ]
}