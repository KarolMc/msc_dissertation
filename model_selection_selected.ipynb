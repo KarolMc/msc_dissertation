{
  "cells": [
    {
      "cell_type": "markdown",
      "metadata": {
        "id": "view-in-github",
        "colab_type": "text"
      },
      "source": [
        "<a href=\"https://colab.research.google.com/github/KarolMc/msc_dissertation/blob/main/model_selection_selected.ipynb\" target=\"_parent\"><img src=\"https://colab.research.google.com/assets/colab-badge.svg\" alt=\"Open In Colab\"/></a>"
      ]
    },
    {
      "cell_type": "code",
      "execution_count": 1,
      "metadata": {
        "id": "PmdLniQ5sLAq"
      },
      "outputs": [],
      "source": [
        "import pandas as pd\n",
        "\n",
        "import numpy as np\n",
        "\n",
        "from numpy import mean\n",
        "\n",
        "# Import SVC from sklearn.svm and accuracy_score from sklearn.metrics\n",
        "from sklearn.svm import SVC\n",
        "from sklearn.metrics import accuracy_score\n",
        "\n",
        "import matplotlib.pyplot as plt\n",
        "\n",
        "import seaborn as sns\n",
        "\n",
        "from sklearn.model_selection import train_test_split\n",
        "\n",
        "from sklearn.preprocessing import StandardScaler\n",
        "\n",
        "from sklearn.model_selection import cross_val_score\n",
        "from sklearn.model_selection import RepeatedStratifiedKFold\n",
        "from sklearn.tree import DecisionTreeClassifier\n",
        "from imblearn.pipeline import Pipeline\n",
        "from imblearn.over_sampling import RandomOverSampler\n",
        "\n",
        "from sklearn.metrics import make_scorer\n",
        "\n",
        "import random\n",
        "\n",
        "random_seed = random.seed(42)\n",
        "\n",
        "from sklearn.preprocessing import LabelEncoder"
      ]
    },
    {
      "cell_type": "code",
      "execution_count": 2,
      "metadata": {
        "colab": {
          "base_uri": "https://localhost:8080/"
        },
        "id": "qzbM1bFQsLAr",
        "outputId": "4efc464b-aeed-40e6-d291-41c6d7b722d6"
      },
      "outputs": [
        {
          "output_type": "stream",
          "name": "stdout",
          "text": [
            "Looking in indexes: https://pypi.org/simple, https://us-python.pkg.dev/colab-wheels/public/simple/\n",
            "Requirement already satisfied: imblearn in /usr/local/lib/python3.8/dist-packages (0.0)\n",
            "Requirement already satisfied: imbalanced-learn in /usr/local/lib/python3.8/dist-packages (from imblearn) (0.8.1)\n",
            "Requirement already satisfied: numpy>=1.13.3 in /usr/local/lib/python3.8/dist-packages (from imbalanced-learn->imblearn) (1.21.6)\n",
            "Requirement already satisfied: joblib>=0.11 in /usr/local/lib/python3.8/dist-packages (from imbalanced-learn->imblearn) (1.2.0)\n",
            "Requirement already satisfied: scipy>=0.19.1 in /usr/local/lib/python3.8/dist-packages (from imbalanced-learn->imblearn) (1.7.3)\n",
            "Requirement already satisfied: scikit-learn>=0.24 in /usr/local/lib/python3.8/dist-packages (from imbalanced-learn->imblearn) (1.0.2)\n",
            "Requirement already satisfied: threadpoolctl>=2.0.0 in /usr/local/lib/python3.8/dist-packages (from scikit-learn>=0.24->imbalanced-learn->imblearn) (3.1.0)\n"
          ]
        }
      ],
      "source": [
        "!pip install imblearn"
      ]
    },
    {
      "cell_type": "markdown",
      "metadata": {
        "id": "wvP7t_Q9sLAs"
      },
      "source": [
        "## import data\n"
      ]
    },
    {
      "cell_type": "code",
      "execution_count": 4,
      "metadata": {
        "id": "4CD6NL_ssLAu"
      },
      "outputs": [],
      "source": [
        "X_train = pd.read_csv('/content/drive/MyDrive/NHANES/file_files/X_train_multiselected.csv', index_col=[0])\n",
        "y_train = pd.read_csv('/content/drive/MyDrive/NHANES/file_files/y_train_ROS.csv', index_col=[0])\n",
        "X_test = pd.read_csv('/content/drive/MyDrive/NHANES/file_files/X_test_multiselected.csv', index_col=[0])\n",
        "y_test = pd.read_csv('/content/drive/MyDrive/NHANES/file_files/y_test.csv', index_col=[0])"
      ]
    },
    {
      "cell_type": "code",
      "source": [
        "from google.colab import drive\n",
        "drive.mount('/content/drive')"
      ],
      "metadata": {
        "colab": {
          "base_uri": "https://localhost:8080/"
        },
        "id": "nmeLcMQ3sgVY",
        "outputId": "1ef954b8-fd17-449d-e2de-7a49d823635a"
      },
      "execution_count": 3,
      "outputs": [
        {
          "output_type": "stream",
          "name": "stdout",
          "text": [
            "Mounted at /content/drive\n"
          ]
        }
      ]
    },
    {
      "cell_type": "code",
      "execution_count": 6,
      "metadata": {
        "colab": {
          "base_uri": "https://localhost:8080/"
        },
        "id": "Bm33FS9fsLAu",
        "outputId": "ab3e6a57-eeb5-4a2e-f205-82f272f29b01"
      },
      "outputs": [
        {
          "output_type": "stream",
          "name": "stderr",
          "text": [
            "/usr/local/lib/python3.8/dist-packages/sklearn/preprocessing/_label.py:115: DataConversionWarning: A column-vector y was passed when a 1d array was expected. Please change the shape of y to (n_samples, ), for example using ravel().\n",
            "  y = column_or_1d(y, warn=True)\n"
          ]
        }
      ],
      "source": [
        "train_features = X_train.columns\n",
        "# X_train = X_train.drop('SEQN', axis = 1)\n",
        "# X_test = X_test.drop('SEQN', axis = 1)\n",
        "\n",
        "le = LabelEncoder()\n",
        "y_train = le.fit_transform(y_train)\n",
        "\n",
        "y_test = le.fit_transform(y_test)\n",
        "\n",
        "X_train_val, X_validation, y_train_val, y_validation = train_test_split(X_train, y_train, test_size=0.25, random_state = random_seed)"
      ]
    },
    {
      "cell_type": "code",
      "execution_count": 7,
      "metadata": {
        "id": "MfWDigdksLAu"
      },
      "outputs": [],
      "source": [
        "import matplotlib.pyplot as plt\n",
        "from sklearn.metrics import accuracy_score, f1_score\n",
        "from sklearn.model_selection import GridSearchCV\n",
        "#store data, all in numpy arrays\n",
        "training_data = {'X_train':X_train_val,'y_train':y_train_val,\n",
        "                'X_val': X_validation,'y_val':y_validation,\n",
        "                'X_test': X_test,'y_test':y_test}"
      ]
    },
    {
      "cell_type": "code",
      "execution_count": 8,
      "metadata": {
        "colab": {
          "base_uri": "https://localhost:8080/",
          "height": 300
        },
        "id": "WMcwuuphsLAv",
        "outputId": "34b23e13-8201-4d71-8d61-3bcfb5054b9e"
      },
      "outputs": [
        {
          "output_type": "execute_result",
          "data": {
            "text/plain": [
              "   Age_Years  Body_Mass_Index_kg_m2  Triglycerides_refrig_serum_mmol_L  \\\n",
              "0        2.0                  21.20                              1.264   \n",
              "1        2.0                  18.79                              1.264   \n",
              "2       15.0                  17.40                              0.452   \n",
              "3       21.0                  27.20                              0.745   \n",
              "4       36.0                  23.47                              0.519   \n",
              "\n",
              "   Triglyceride_mmol_l  Blood_Cadmium_umol_l  Gamma_Glutamyl_Transferase_U_l  \\\n",
              "0                1.073                   0.0                            18.0   \n",
              "1                1.073                   0.0                            18.0   \n",
              "2                0.485                   0.0                             9.0   \n",
              "3                1.073                   0.0                            14.0   \n",
              "4                0.621                   4.0                            17.0   \n",
              "\n",
              "   Blood_urea_nitrogen_mmol_L  Waist_Circumference_cm  Platelet_Count  \\\n",
              "0                        4.28                    56.7           224.0   \n",
              "1                        4.28                    49.8           346.0   \n",
              "2                        3.57                    66.5           265.0   \n",
              "3                        3.57                    84.6           208.0   \n",
              "4                        4.28                    86.4           316.0   \n",
              "\n",
              "   Lactate_Dehydrogenase_U_l  ...  BPCuff_Large  BMI_Underweight  \\\n",
              "0                      127.0  ...             0                0   \n",
              "1                      127.0  ...             0                0   \n",
              "2                      139.0  ...             0                1   \n",
              "3                      173.0  ...             1                0   \n",
              "4                      110.0  ...             0                0   \n",
              "\n",
              "   ChildEd_5thGrade_or_lower  BPCuff_Thigh  AdultEd_less9th_grade  \\\n",
              "0                          0             0                      0   \n",
              "1                          0             0                      0   \n",
              "2                          0             0                      0   \n",
              "3                          0             0                      0   \n",
              "4                          0             0                      0   \n",
              "\n",
              "   Marital_Status_Married  BMI_unknown  Household_size  Gum_disease  \\\n",
              "0                       0            0             7.0            0   \n",
              "1                       0            0             7.0            0   \n",
              "2                       0            0             5.0            0   \n",
              "3                       0            0             4.0            0   \n",
              "4                       0            0             2.0            0   \n",
              "\n",
              "   Marital_Status_Widowed  \n",
              "0                       0  \n",
              "1                       0  \n",
              "2                       0  \n",
              "3                       0  \n",
              "4                       0  \n",
              "\n",
              "[5 rows x 63 columns]"
            ],
            "text/html": [
              "\n",
              "  <div id=\"df-4fdd91a1-8adf-4434-ab5f-f3de28641462\">\n",
              "    <div class=\"colab-df-container\">\n",
              "      <div>\n",
              "<style scoped>\n",
              "    .dataframe tbody tr th:only-of-type {\n",
              "        vertical-align: middle;\n",
              "    }\n",
              "\n",
              "    .dataframe tbody tr th {\n",
              "        vertical-align: top;\n",
              "    }\n",
              "\n",
              "    .dataframe thead th {\n",
              "        text-align: right;\n",
              "    }\n",
              "</style>\n",
              "<table border=\"1\" class=\"dataframe\">\n",
              "  <thead>\n",
              "    <tr style=\"text-align: right;\">\n",
              "      <th></th>\n",
              "      <th>Age_Years</th>\n",
              "      <th>Body_Mass_Index_kg_m2</th>\n",
              "      <th>Triglycerides_refrig_serum_mmol_L</th>\n",
              "      <th>Triglyceride_mmol_l</th>\n",
              "      <th>Blood_Cadmium_umol_l</th>\n",
              "      <th>Gamma_Glutamyl_Transferase_U_l</th>\n",
              "      <th>Blood_urea_nitrogen_mmol_L</th>\n",
              "      <th>Waist_Circumference_cm</th>\n",
              "      <th>Platelet_Count</th>\n",
              "      <th>Lactate_Dehydrogenase_U_l</th>\n",
              "      <th>...</th>\n",
              "      <th>BPCuff_Large</th>\n",
              "      <th>BMI_Underweight</th>\n",
              "      <th>ChildEd_5thGrade_or_lower</th>\n",
              "      <th>BPCuff_Thigh</th>\n",
              "      <th>AdultEd_less9th_grade</th>\n",
              "      <th>Marital_Status_Married</th>\n",
              "      <th>BMI_unknown</th>\n",
              "      <th>Household_size</th>\n",
              "      <th>Gum_disease</th>\n",
              "      <th>Marital_Status_Widowed</th>\n",
              "    </tr>\n",
              "  </thead>\n",
              "  <tbody>\n",
              "    <tr>\n",
              "      <th>0</th>\n",
              "      <td>2.0</td>\n",
              "      <td>21.20</td>\n",
              "      <td>1.264</td>\n",
              "      <td>1.073</td>\n",
              "      <td>0.0</td>\n",
              "      <td>18.0</td>\n",
              "      <td>4.28</td>\n",
              "      <td>56.7</td>\n",
              "      <td>224.0</td>\n",
              "      <td>127.0</td>\n",
              "      <td>...</td>\n",
              "      <td>0</td>\n",
              "      <td>0</td>\n",
              "      <td>0</td>\n",
              "      <td>0</td>\n",
              "      <td>0</td>\n",
              "      <td>0</td>\n",
              "      <td>0</td>\n",
              "      <td>7.0</td>\n",
              "      <td>0</td>\n",
              "      <td>0</td>\n",
              "    </tr>\n",
              "    <tr>\n",
              "      <th>1</th>\n",
              "      <td>2.0</td>\n",
              "      <td>18.79</td>\n",
              "      <td>1.264</td>\n",
              "      <td>1.073</td>\n",
              "      <td>0.0</td>\n",
              "      <td>18.0</td>\n",
              "      <td>4.28</td>\n",
              "      <td>49.8</td>\n",
              "      <td>346.0</td>\n",
              "      <td>127.0</td>\n",
              "      <td>...</td>\n",
              "      <td>0</td>\n",
              "      <td>0</td>\n",
              "      <td>0</td>\n",
              "      <td>0</td>\n",
              "      <td>0</td>\n",
              "      <td>0</td>\n",
              "      <td>0</td>\n",
              "      <td>7.0</td>\n",
              "      <td>0</td>\n",
              "      <td>0</td>\n",
              "    </tr>\n",
              "    <tr>\n",
              "      <th>2</th>\n",
              "      <td>15.0</td>\n",
              "      <td>17.40</td>\n",
              "      <td>0.452</td>\n",
              "      <td>0.485</td>\n",
              "      <td>0.0</td>\n",
              "      <td>9.0</td>\n",
              "      <td>3.57</td>\n",
              "      <td>66.5</td>\n",
              "      <td>265.0</td>\n",
              "      <td>139.0</td>\n",
              "      <td>...</td>\n",
              "      <td>0</td>\n",
              "      <td>1</td>\n",
              "      <td>0</td>\n",
              "      <td>0</td>\n",
              "      <td>0</td>\n",
              "      <td>0</td>\n",
              "      <td>0</td>\n",
              "      <td>5.0</td>\n",
              "      <td>0</td>\n",
              "      <td>0</td>\n",
              "    </tr>\n",
              "    <tr>\n",
              "      <th>3</th>\n",
              "      <td>21.0</td>\n",
              "      <td>27.20</td>\n",
              "      <td>0.745</td>\n",
              "      <td>1.073</td>\n",
              "      <td>0.0</td>\n",
              "      <td>14.0</td>\n",
              "      <td>3.57</td>\n",
              "      <td>84.6</td>\n",
              "      <td>208.0</td>\n",
              "      <td>173.0</td>\n",
              "      <td>...</td>\n",
              "      <td>1</td>\n",
              "      <td>0</td>\n",
              "      <td>0</td>\n",
              "      <td>0</td>\n",
              "      <td>0</td>\n",
              "      <td>0</td>\n",
              "      <td>0</td>\n",
              "      <td>4.0</td>\n",
              "      <td>0</td>\n",
              "      <td>0</td>\n",
              "    </tr>\n",
              "    <tr>\n",
              "      <th>4</th>\n",
              "      <td>36.0</td>\n",
              "      <td>23.47</td>\n",
              "      <td>0.519</td>\n",
              "      <td>0.621</td>\n",
              "      <td>4.0</td>\n",
              "      <td>17.0</td>\n",
              "      <td>4.28</td>\n",
              "      <td>86.4</td>\n",
              "      <td>316.0</td>\n",
              "      <td>110.0</td>\n",
              "      <td>...</td>\n",
              "      <td>0</td>\n",
              "      <td>0</td>\n",
              "      <td>0</td>\n",
              "      <td>0</td>\n",
              "      <td>0</td>\n",
              "      <td>0</td>\n",
              "      <td>0</td>\n",
              "      <td>2.0</td>\n",
              "      <td>0</td>\n",
              "      <td>0</td>\n",
              "    </tr>\n",
              "  </tbody>\n",
              "</table>\n",
              "<p>5 rows × 63 columns</p>\n",
              "</div>\n",
              "      <button class=\"colab-df-convert\" onclick=\"convertToInteractive('df-4fdd91a1-8adf-4434-ab5f-f3de28641462')\"\n",
              "              title=\"Convert this dataframe to an interactive table.\"\n",
              "              style=\"display:none;\">\n",
              "        \n",
              "  <svg xmlns=\"http://www.w3.org/2000/svg\" height=\"24px\"viewBox=\"0 0 24 24\"\n",
              "       width=\"24px\">\n",
              "    <path d=\"M0 0h24v24H0V0z\" fill=\"none\"/>\n",
              "    <path d=\"M18.56 5.44l.94 2.06.94-2.06 2.06-.94-2.06-.94-.94-2.06-.94 2.06-2.06.94zm-11 1L8.5 8.5l.94-2.06 2.06-.94-2.06-.94L8.5 2.5l-.94 2.06-2.06.94zm10 10l.94 2.06.94-2.06 2.06-.94-2.06-.94-.94-2.06-.94 2.06-2.06.94z\"/><path d=\"M17.41 7.96l-1.37-1.37c-.4-.4-.92-.59-1.43-.59-.52 0-1.04.2-1.43.59L10.3 9.45l-7.72 7.72c-.78.78-.78 2.05 0 2.83L4 21.41c.39.39.9.59 1.41.59.51 0 1.02-.2 1.41-.59l7.78-7.78 2.81-2.81c.8-.78.8-2.07 0-2.86zM5.41 20L4 18.59l7.72-7.72 1.47 1.35L5.41 20z\"/>\n",
              "  </svg>\n",
              "      </button>\n",
              "      \n",
              "  <style>\n",
              "    .colab-df-container {\n",
              "      display:flex;\n",
              "      flex-wrap:wrap;\n",
              "      gap: 12px;\n",
              "    }\n",
              "\n",
              "    .colab-df-convert {\n",
              "      background-color: #E8F0FE;\n",
              "      border: none;\n",
              "      border-radius: 50%;\n",
              "      cursor: pointer;\n",
              "      display: none;\n",
              "      fill: #1967D2;\n",
              "      height: 32px;\n",
              "      padding: 0 0 0 0;\n",
              "      width: 32px;\n",
              "    }\n",
              "\n",
              "    .colab-df-convert:hover {\n",
              "      background-color: #E2EBFA;\n",
              "      box-shadow: 0px 1px 2px rgba(60, 64, 67, 0.3), 0px 1px 3px 1px rgba(60, 64, 67, 0.15);\n",
              "      fill: #174EA6;\n",
              "    }\n",
              "\n",
              "    [theme=dark] .colab-df-convert {\n",
              "      background-color: #3B4455;\n",
              "      fill: #D2E3FC;\n",
              "    }\n",
              "\n",
              "    [theme=dark] .colab-df-convert:hover {\n",
              "      background-color: #434B5C;\n",
              "      box-shadow: 0px 1px 3px 1px rgba(0, 0, 0, 0.15);\n",
              "      filter: drop-shadow(0px 1px 2px rgba(0, 0, 0, 0.3));\n",
              "      fill: #FFFFFF;\n",
              "    }\n",
              "  </style>\n",
              "\n",
              "      <script>\n",
              "        const buttonEl =\n",
              "          document.querySelector('#df-4fdd91a1-8adf-4434-ab5f-f3de28641462 button.colab-df-convert');\n",
              "        buttonEl.style.display =\n",
              "          google.colab.kernel.accessAllowed ? 'block' : 'none';\n",
              "\n",
              "        async function convertToInteractive(key) {\n",
              "          const element = document.querySelector('#df-4fdd91a1-8adf-4434-ab5f-f3de28641462');\n",
              "          const dataTable =\n",
              "            await google.colab.kernel.invokeFunction('convertToInteractive',\n",
              "                                                     [key], {});\n",
              "          if (!dataTable) return;\n",
              "\n",
              "          const docLinkHtml = 'Like what you see? Visit the ' +\n",
              "            '<a target=\"_blank\" href=https://colab.research.google.com/notebooks/data_table.ipynb>data table notebook</a>'\n",
              "            + ' to learn more about interactive tables.';\n",
              "          element.innerHTML = '';\n",
              "          dataTable['output_type'] = 'display_data';\n",
              "          await google.colab.output.renderOutput(dataTable, element);\n",
              "          const docLink = document.createElement('div');\n",
              "          docLink.innerHTML = docLinkHtml;\n",
              "          element.appendChild(docLink);\n",
              "        }\n",
              "      </script>\n",
              "    </div>\n",
              "  </div>\n",
              "  "
            ]
          },
          "metadata": {},
          "execution_count": 8
        }
      ],
      "source": [
        "X_train.head()"
      ]
    },
    {
      "cell_type": "code",
      "execution_count": 9,
      "metadata": {
        "colab": {
          "base_uri": "https://localhost:8080/",
          "height": 166
        },
        "id": "B0FAojT_sLAv",
        "outputId": "febaa6dd-20cf-4b41-dcc1-a7a055f0c0d5"
      },
      "outputs": [
        {
          "output_type": "error",
          "ename": "AttributeError",
          "evalue": "ignored",
          "traceback": [
            "\u001b[0;31m---------------------------------------------------------------------------\u001b[0m",
            "\u001b[0;31mAttributeError\u001b[0m                            Traceback (most recent call last)",
            "\u001b[0;32m<ipython-input-9-21e7fc29364a>\u001b[0m in \u001b[0;36m<module>\u001b[0;34m\u001b[0m\n\u001b[0;32m----> 1\u001b[0;31m \u001b[0my_train\u001b[0m\u001b[0;34m.\u001b[0m\u001b[0mhead\u001b[0m\u001b[0;34m(\u001b[0m\u001b[0;34m)\u001b[0m\u001b[0;34m\u001b[0m\u001b[0;34m\u001b[0m\u001b[0m\n\u001b[0m",
            "\u001b[0;31mAttributeError\u001b[0m: 'numpy.ndarray' object has no attribute 'head'"
          ]
        }
      ],
      "source": [
        "y_train.head()"
      ]
    },
    {
      "cell_type": "code",
      "execution_count": 10,
      "metadata": {
        "colab": {
          "base_uri": "https://localhost:8080/",
          "height": 184
        },
        "id": "onLQOLFWsLAv",
        "outputId": "e3b9f13f-a999-4215-bbc0-0c490f1b897c"
      },
      "outputs": [
        {
          "output_type": "error",
          "ename": "AttributeError",
          "evalue": "ignored",
          "traceback": [
            "\u001b[0;31m---------------------------------------------------------------------------\u001b[0m",
            "\u001b[0;31mAttributeError\u001b[0m                            Traceback (most recent call last)",
            "\u001b[0;32m<ipython-input-10-3465207ed901>\u001b[0m in \u001b[0;36m<module>\u001b[0;34m\u001b[0m\n\u001b[0;32m----> 1\u001b[0;31m \u001b[0my_train\u001b[0m \u001b[0;34m=\u001b[0m \u001b[0my_train\u001b[0m\u001b[0;34m.\u001b[0m\u001b[0mreplace\u001b[0m\u001b[0;34m(\u001b[0m\u001b[0;34m{\u001b[0m\u001b[0;34m'Normal'\u001b[0m\u001b[0;34m:\u001b[0m \u001b[0;36m1\u001b[0m\u001b[0;34m,\u001b[0m \u001b[0;34m'Prediabetes on one or more tests'\u001b[0m\u001b[0;34m:\u001b[0m \u001b[0;36m2\u001b[0m\u001b[0;34m,\u001b[0m \u001b[0;34m'Diabetes on one or more tests'\u001b[0m\u001b[0;34m:\u001b[0m \u001b[0;36m3\u001b[0m\u001b[0;34m}\u001b[0m\u001b[0;34m)\u001b[0m\u001b[0;34m\u001b[0m\u001b[0;34m\u001b[0m\u001b[0m\n\u001b[0m",
            "\u001b[0;31mAttributeError\u001b[0m: 'numpy.ndarray' object has no attribute 'replace'"
          ]
        }
      ],
      "source": [
        "y_train = y_train.replace({'Normal': 1, 'Prediabetes on one or more tests': 2, 'Diabetes on one or more tests': 3})"
      ]
    },
    {
      "cell_type": "code",
      "execution_count": 11,
      "metadata": {
        "colab": {
          "base_uri": "https://localhost:8080/",
          "height": 166
        },
        "id": "skSWlYXlsLAw",
        "outputId": "4f4f8897-9537-4112-f06b-608d47ceb1c1"
      },
      "outputs": [
        {
          "output_type": "error",
          "ename": "AttributeError",
          "evalue": "ignored",
          "traceback": [
            "\u001b[0;31m---------------------------------------------------------------------------\u001b[0m",
            "\u001b[0;31mAttributeError\u001b[0m                            Traceback (most recent call last)",
            "\u001b[0;32m<ipython-input-11-e20da9714e8d>\u001b[0m in \u001b[0;36m<module>\u001b[0;34m\u001b[0m\n\u001b[0;32m----> 1\u001b[0;31m \u001b[0my_train\u001b[0m\u001b[0;34m.\u001b[0m\u001b[0mvalue_counts\u001b[0m\u001b[0;34m(\u001b[0m\u001b[0;34m)\u001b[0m\u001b[0;34m\u001b[0m\u001b[0;34m\u001b[0m\u001b[0m\n\u001b[0m",
            "\u001b[0;31mAttributeError\u001b[0m: 'numpy.ndarray' object has no attribute 'value_counts'"
          ]
        }
      ],
      "source": [
        "\n",
        "y_train.value_counts()\n"
      ]
    },
    {
      "cell_type": "code",
      "execution_count": null,
      "metadata": {
        "id": "36wg-YLPsLAw"
      },
      "outputs": [],
      "source": []
    },
    {
      "cell_type": "code",
      "execution_count": 12,
      "metadata": {
        "colab": {
          "base_uri": "https://localhost:8080/",
          "height": 184
        },
        "id": "JnV9ekWbsLAw",
        "outputId": "3d0b6bfd-ccbf-4589-b5f0-9e0433c8b828"
      },
      "outputs": [
        {
          "output_type": "error",
          "ename": "AttributeError",
          "evalue": "ignored",
          "traceback": [
            "\u001b[0;31m---------------------------------------------------------------------------\u001b[0m",
            "\u001b[0;31mAttributeError\u001b[0m                            Traceback (most recent call last)",
            "\u001b[0;32m<ipython-input-12-d07930c6411a>\u001b[0m in \u001b[0;36m<module>\u001b[0;34m\u001b[0m\n\u001b[0;32m----> 1\u001b[0;31m \u001b[0my_test\u001b[0m \u001b[0;34m=\u001b[0m \u001b[0my_test\u001b[0m\u001b[0;34m.\u001b[0m\u001b[0mreplace\u001b[0m\u001b[0;34m(\u001b[0m\u001b[0;34m{\u001b[0m\u001b[0;34m'Normal'\u001b[0m\u001b[0;34m:\u001b[0m \u001b[0;36m1\u001b[0m\u001b[0;34m,\u001b[0m \u001b[0;34m'Prediabetes on one or more tests'\u001b[0m\u001b[0;34m:\u001b[0m \u001b[0;36m2\u001b[0m\u001b[0;34m,\u001b[0m \u001b[0;34m'Diabetes on one or more tests'\u001b[0m\u001b[0;34m:\u001b[0m \u001b[0;36m3\u001b[0m\u001b[0;34m}\u001b[0m\u001b[0;34m)\u001b[0m\u001b[0;34m\u001b[0m\u001b[0;34m\u001b[0m\u001b[0m\n\u001b[0m",
            "\u001b[0;31mAttributeError\u001b[0m: 'numpy.ndarray' object has no attribute 'replace'"
          ]
        }
      ],
      "source": [
        "y_test = y_test.replace({'Normal': 1, 'Prediabetes on one or more tests': 2, 'Diabetes on one or more tests': 3})"
      ]
    },
    {
      "cell_type": "code",
      "execution_count": 13,
      "metadata": {
        "id": "B76Nr6xisLAw"
      },
      "outputs": [],
      "source": [
        "import random\n",
        "\n",
        "random_seed = random.seed(42)"
      ]
    },
    {
      "cell_type": "markdown",
      "metadata": {
        "id": "e7V6jdvpsLAw"
      },
      "source": [
        "## standardising\n"
      ]
    },
    {
      "cell_type": "code",
      "execution_count": 14,
      "metadata": {
        "id": "Pm5Aw4ZCsLAx"
      },
      "outputs": [],
      "source": [
        "scaler = StandardScaler()\n",
        "\n",
        "X_train_std = scaler.fit_transform(X_train)\n",
        "\n",
        "X_train_std = pd.DataFrame(X_train_std, columns = X_train.columns)"
      ]
    },
    {
      "cell_type": "code",
      "execution_count": 15,
      "metadata": {
        "id": "V_f6gQjcsLAx"
      },
      "outputs": [],
      "source": [
        "# check for NaN\n",
        "\n",
        "X_train_std_nan = X_train_std.columns[X_train_std.isna().any()].tolist()"
      ]
    },
    {
      "cell_type": "code",
      "execution_count": 16,
      "metadata": {
        "colab": {
          "base_uri": "https://localhost:8080/"
        },
        "id": "MQQNWcUAsLAx",
        "outputId": "d606315b-0051-4a1b-8c9b-4ece277b5d16"
      },
      "outputs": [
        {
          "output_type": "execute_result",
          "data": {
            "text/plain": [
              "[]"
            ]
          },
          "metadata": {},
          "execution_count": 16
        }
      ],
      "source": [
        "X_train_std_nan"
      ]
    },
    {
      "cell_type": "code",
      "execution_count": 17,
      "metadata": {
        "id": "1osJJGtFsLAx"
      },
      "outputs": [],
      "source": [
        "X_test_std = scaler.fit_transform(X_test)\n",
        "\n",
        "\n",
        "X_test_std = pd.DataFrame(X_test_std, columns = X_test.columns)"
      ]
    },
    {
      "cell_type": "markdown",
      "metadata": {
        "id": "LRjLpDjqsLAx"
      },
      "source": [
        "## Model comparison\n"
      ]
    },
    {
      "cell_type": "code",
      "source": [
        "!pip install catboost"
      ],
      "metadata": {
        "colab": {
          "base_uri": "https://localhost:8080/"
        },
        "id": "w7re6ShrtIuF",
        "outputId": "eb9e6bb4-1aa7-48a6-9f2e-ea8bfb6ab2dc"
      },
      "execution_count": 19,
      "outputs": [
        {
          "output_type": "stream",
          "name": "stdout",
          "text": [
            "Looking in indexes: https://pypi.org/simple, https://us-python.pkg.dev/colab-wheels/public/simple/\n",
            "Collecting catboost\n",
            "  Downloading catboost-1.1.1-cp38-none-manylinux1_x86_64.whl (76.6 MB)\n",
            "\u001b[2K     \u001b[90m━━━━━━━━━━━━━━━━━━━━━━━━━━━━━━━━━━━━━━━━\u001b[0m \u001b[32m76.6/76.6 MB\u001b[0m \u001b[31m24.0 MB/s\u001b[0m eta \u001b[36m0:00:00\u001b[0m\n",
            "\u001b[?25hRequirement already satisfied: numpy>=1.16.0 in /usr/local/lib/python3.8/dist-packages (from catboost) (1.21.6)\n",
            "Requirement already satisfied: six in /usr/local/lib/python3.8/dist-packages (from catboost) (1.15.0)\n",
            "Requirement already satisfied: plotly in /usr/local/lib/python3.8/dist-packages (from catboost) (5.5.0)\n",
            "Requirement already satisfied: pandas>=0.24.0 in /usr/local/lib/python3.8/dist-packages (from catboost) (1.3.5)\n",
            "Requirement already satisfied: matplotlib in /usr/local/lib/python3.8/dist-packages (from catboost) (3.2.2)\n",
            "Requirement already satisfied: scipy in /usr/local/lib/python3.8/dist-packages (from catboost) (1.7.3)\n",
            "Requirement already satisfied: graphviz in /usr/local/lib/python3.8/dist-packages (from catboost) (0.10.1)\n",
            "Requirement already satisfied: python-dateutil>=2.7.3 in /usr/local/lib/python3.8/dist-packages (from pandas>=0.24.0->catboost) (2.8.2)\n",
            "Requirement already satisfied: pytz>=2017.3 in /usr/local/lib/python3.8/dist-packages (from pandas>=0.24.0->catboost) (2022.7.1)\n",
            "Requirement already satisfied: cycler>=0.10 in /usr/local/lib/python3.8/dist-packages (from matplotlib->catboost) (0.11.0)\n",
            "Requirement already satisfied: kiwisolver>=1.0.1 in /usr/local/lib/python3.8/dist-packages (from matplotlib->catboost) (1.4.4)\n",
            "Requirement already satisfied: pyparsing!=2.0.4,!=2.1.2,!=2.1.6,>=2.0.1 in /usr/local/lib/python3.8/dist-packages (from matplotlib->catboost) (3.0.9)\n",
            "Requirement already satisfied: tenacity>=6.2.0 in /usr/local/lib/python3.8/dist-packages (from plotly->catboost) (8.1.0)\n",
            "Installing collected packages: catboost\n",
            "Successfully installed catboost-1.1.1\n"
          ]
        }
      ]
    },
    {
      "cell_type": "code",
      "execution_count": 20,
      "metadata": {
        "id": "AwefwMKrsLAy"
      },
      "outputs": [],
      "source": [
        "from sklearn.metrics import accuracy_score, confusion_matrix\n",
        "from sklearn import svm, tree\n",
        "import xgboost\n",
        "import catboost\n",
        "import lightgbm\n",
        "from sklearn.naive_bayes import MultinomialNB\n",
        "from sklearn.neural_network import MLPClassifier\n",
        "from sklearn.multiclass import OneVsRestClassifier\n",
        "from sklearn.ensemble import RandomForestClassifier"
      ]
    },
    {
      "cell_type": "code",
      "execution_count": 29,
      "metadata": {
        "id": "Sh4yJQ70sLAy"
      },
      "outputs": [],
      "source": [
        "classifiers = []"
      ]
    },
    {
      "cell_type": "code",
      "execution_count": 30,
      "metadata": {
        "id": "i_aMZtpOsLAy"
      },
      "outputs": [],
      "source": [
        "model1 = xgboost.XGBClassifier(tree_method='gpu_hist', \n",
        "                     eta = 0.0,\n",
        "                     learning_rate=0.1,\n",
        "                     early_stopping_rounds = 10,\n",
        "                    n_estimators=1000,\n",
        "                    max_depth=20,\n",
        "                    min_child_weight=3,\n",
        "                    reg_alpha = 1e-05,\n",
        "                    gamma=0,\n",
        "                    subsample=0.8,\n",
        "                    colsample_bytree=0.7,\n",
        "                    colsample_bylevel = 0.9,\n",
        "                    objective='multi:softmax',\n",
        "                    nthread=4,\n",
        "                    num_class=9,\n",
        "                    seed=42)\n",
        "classifiers.append(model1)\n",
        "model2 = svm.SVC(decision_function_shape='ovo')\n",
        "classifiers.append(model2)\n",
        "model3 = tree.DecisionTreeClassifier()\n",
        "classifiers.append(model3)\n",
        "model4 = RandomForestClassifier(max_depth=25, min_samples_leaf=2, min_samples_split=10,\n",
        "                       n_estimators=500, random_state=random_seed)\n",
        "classifiers.append(model4)\n",
        "model5 = svm.LinearSVC()\n",
        "classifiers.append(model5)\n",
        "model6 = MLPClassifier(solver='sgd', alpha=1e-5, hidden_layer_sizes=(10, 3), random_state=random_seed)\n",
        "classifiers.append(model6)\n",
        "model7 = OneVsRestClassifier(MLPClassifier(solver='sgd', alpha=1e-5, hidden_layer_sizes=(10, 3), random_state=random_seed))\n",
        "classifiers.append(model7)"
      ]
    },
    {
      "cell_type": "code",
      "execution_count": 31,
      "metadata": {
        "colab": {
          "base_uri": "https://localhost:8080/"
        },
        "id": "0rrc2DVwsLAy",
        "outputId": "d58a41ec-dbb2-47ee-d763-a34bddbf8c1d"
      },
      "outputs": [
        {
          "output_type": "stream",
          "name": "stdout",
          "text": [
            "Accuracy of XGBClassifier(colsample_bylevel=0.9, colsample_bytree=0.7,\n",
            "              early_stopping_rounds=10, eta=0.0, max_depth=20,\n",
            "              min_child_weight=3, n_estimators=1000, nthread=4, num_class=9,\n",
            "              objective='multi:softprob', reg_alpha=1e-05, seed=42,\n",
            "              subsample=0.8, tree_method='gpu_hist') is 0.469370996879619\n",
            "Confusion Matrix of XGBClassifier(colsample_bylevel=0.9, colsample_bytree=0.7,\n",
            "              early_stopping_rounds=10, eta=0.0, max_depth=20,\n",
            "              min_child_weight=3, n_estimators=1000, nthread=4, num_class=9,\n",
            "              objective='multi:softprob', reg_alpha=1e-05, seed=42,\n",
            "              subsample=0.8, tree_method='gpu_hist') is [[3336 2012 3071]\n",
            " [ 228 1454 1010]\n",
            " [   7  134  926]]\n",
            "Accuracy of SVC(decision_function_shape='ovo') is 0.6418131056002627\n",
            "Confusion Matrix of SVC(decision_function_shape='ovo') is [[5279 2503  637]\n",
            " [ 185 1705  802]\n",
            " [  26  209  832]]\n",
            "Accuracy of DecisionTreeClassifier() is 0.6078994908852028\n",
            "Confusion Matrix of DecisionTreeClassifier() is [[5604 2020  795]\n",
            " [ 859 1227  606]\n",
            " [ 198  297  572]]\n",
            "Accuracy of RandomForestClassifier(max_depth=25, min_samples_leaf=2, min_samples_split=10,\n",
            "                       n_estimators=500) is 0.6386927245853178\n",
            "Confusion Matrix of RandomForestClassifier(max_depth=25, min_samples_leaf=2, min_samples_split=10,\n",
            "                       n_estimators=500) is [[5202 2907  310]\n",
            " [ 229 1833  630]\n",
            " [   8  316  743]]\n"
          ]
        },
        {
          "output_type": "stream",
          "name": "stderr",
          "text": [
            "/usr/local/lib/python3.8/dist-packages/sklearn/svm/_base.py:1206: ConvergenceWarning: Liblinear failed to converge, increase the number of iterations.\n",
            "  warnings.warn(\n"
          ]
        },
        {
          "output_type": "stream",
          "name": "stdout",
          "text": [
            "Accuracy of LinearSVC() is 0.5977171949416982\n",
            "Confusion Matrix of LinearSVC() is [[4948 2372 1099]\n",
            " [ 142 1343 1207]\n",
            " [   2   77  988]]\n"
          ]
        },
        {
          "output_type": "stream",
          "name": "stderr",
          "text": [
            "/usr/local/lib/python3.8/dist-packages/sklearn/neural_network/_multilayer_perceptron.py:692: ConvergenceWarning: Stochastic Optimizer: Maximum iterations (200) reached and the optimization hasn't converged yet.\n",
            "  warnings.warn(\n"
          ]
        },
        {
          "output_type": "stream",
          "name": "stdout",
          "text": [
            "Accuracy of MLPClassifier(alpha=1e-05, hidden_layer_sizes=(10, 3), solver='sgd') is 0.5559205123994088\n",
            "Confusion Matrix of MLPClassifier(alpha=1e-05, hidden_layer_sizes=(10, 3), solver='sgd') is [[4493 2755 1171]\n",
            " [  74 1302 1316]\n",
            " [   4   88  975]]\n"
          ]
        },
        {
          "output_type": "stream",
          "name": "stderr",
          "text": [
            "/usr/local/lib/python3.8/dist-packages/sklearn/neural_network/_multilayer_perceptron.py:692: ConvergenceWarning: Stochastic Optimizer: Maximum iterations (200) reached and the optimization hasn't converged yet.\n",
            "  warnings.warn(\n",
            "/usr/local/lib/python3.8/dist-packages/sklearn/neural_network/_multilayer_perceptron.py:692: ConvergenceWarning: Stochastic Optimizer: Maximum iterations (200) reached and the optimization hasn't converged yet.\n",
            "  warnings.warn(\n"
          ]
        },
        {
          "output_type": "stream",
          "name": "stdout",
          "text": [
            "Accuracy of OneVsRestClassifier(estimator=MLPClassifier(alpha=1e-05,\n",
            "                                            hidden_layer_sizes=(10, 3),\n",
            "                                            solver='sgd')) is 0.5943504680571522\n",
            "Confusion Matrix of OneVsRestClassifier(estimator=MLPClassifier(alpha=1e-05,\n",
            "                                            hidden_layer_sizes=(10, 3),\n",
            "                                            solver='sgd')) is [[4746 2703  970]\n",
            " [  85 1540 1067]\n",
            " [   5  110  952]]\n"
          ]
        },
        {
          "output_type": "stream",
          "name": "stderr",
          "text": [
            "/usr/local/lib/python3.8/dist-packages/sklearn/neural_network/_multilayer_perceptron.py:692: ConvergenceWarning: Stochastic Optimizer: Maximum iterations (200) reached and the optimization hasn't converged yet.\n",
            "  warnings.warn(\n"
          ]
        }
      ],
      "source": [
        "for clf in classifiers:\n",
        "    clf.fit(X_train_std, y_train)\n",
        "    y_pred= clf.predict(X_test_std)\n",
        "    acc = accuracy_score(y_test, y_pred)\n",
        "    print(\"Accuracy of %s is %s\"%(clf, acc))\n",
        "    cm = confusion_matrix(y_test, y_pred)\n",
        "    print(\"Confusion Matrix of %s is %s\"%(clf, cm))"
      ]
    },
    {
      "cell_type": "code",
      "execution_count": 32,
      "metadata": {
        "id": "5OWOE-cnsLAy"
      },
      "outputs": [],
      "source": [
        "from sklearn.metrics import confusion_matrix, ConfusionMatrixDisplay, classification_report\n",
        "import matplotlib.pyplot as plt"
      ]
    },
    {
      "cell_type": "code",
      "execution_count": 33,
      "metadata": {
        "colab": {
          "base_uri": "https://localhost:8080/",
          "height": 1000
        },
        "id": "2tgDiascsLAz",
        "outputId": "27a99df2-fa3f-47c1-b3c5-63986274d726"
      },
      "outputs": [
        {
          "output_type": "stream",
          "name": "stdout",
          "text": [
            "Accuracy of XGBClassifier(colsample_bylevel=0.9, colsample_bytree=0.7,\n",
            "              early_stopping_rounds=10, eta=0.0, max_depth=20,\n",
            "              min_child_weight=3, n_estimators=1000, nthread=4, num_class=9,\n",
            "              objective='multi:softprob', reg_alpha=1e-05, seed=42,\n",
            "              subsample=0.8, tree_method='gpu_hist') is 0.8059615700443422\n",
            "              precision    recall  f1-score   support\n",
            "\n",
            "     class 1       0.89      0.89      0.89      8419\n",
            "     class 2       0.57      0.62      0.60      2692\n",
            "     class 3       0.79      0.57      0.66      1067\n",
            "\n",
            "    accuracy                           0.81     12178\n",
            "   macro avg       0.75      0.69      0.72     12178\n",
            "weighted avg       0.81      0.81      0.81     12178\n",
            "\n"
          ]
        },
        {
          "output_type": "display_data",
          "data": {
            "text/plain": [
              "<Figure size 432x288 with 2 Axes>"
            ],
            "image/png": "[encoded data removed]"
          },
          "metadata": {
            "needs_background": "light"
          }
        },
        {
          "output_type": "stream",
          "name": "stdout",
          "text": [
            "Accuracy of SVC(decision_function_shape='ovo') is 0.5998521924782394\n",
            "              precision    recall  f1-score   support\n",
            "\n",
            "     class 1       0.88      0.63      0.73      8419\n",
            "     class 2       0.33      0.57      0.42      2692\n",
            "     class 3       0.30      0.44      0.36      1067\n",
            "\n",
            "    accuracy                           0.60     12178\n",
            "   macro avg       0.51      0.55      0.50     12178\n",
            "weighted avg       0.71      0.60      0.63     12178\n",
            "\n"
          ]
        },
        {
          "output_type": "display_data",
          "data": {
            "text/plain": [
              "<Figure size 432x288 with 2 Axes>"
            ],
            "image/png": "[encoded data removed]"
          },
          "metadata": {
            "needs_background": "light"
          }
        },
        {
          "output_type": "stream",
          "name": "stdout",
          "text": [
            "Accuracy of DecisionTreeClassifier() is 0.7152241747413368\n",
            "              precision    recall  f1-score   support\n",
            "\n",
            "     class 1       0.83      0.84      0.83      8419\n",
            "     class 2       0.45      0.45      0.45      2692\n",
            "     class 3       0.45      0.42      0.43      1067\n",
            "\n",
            "    accuracy                           0.72     12178\n",
            "   macro avg       0.58      0.57      0.57     12178\n",
            "weighted avg       0.71      0.72      0.71     12178\n",
            "\n"
          ]
        },
        {
          "output_type": "display_data",
          "data": {
            "text/plain": [
              "<Figure size 432x288 with 2 Axes>"
            ],
            "image/png": "[encoded data removed]"
          },
          "metadata": {
            "needs_background": "light"
          }
        },
        {
          "output_type": "stream",
          "name": "stdout",
          "text": [
            "Accuracy of RandomForestClassifier(max_depth=25, min_samples_leaf=2, min_samples_split=10,\n",
            "                       n_estimators=500) is 0.7739366069962227\n",
            "              precision    recall  f1-score   support\n",
            "\n",
            "     class 1       0.91      0.83      0.87      8419\n",
            "     class 2       0.50      0.73      0.60      2692\n",
            "     class 3       0.77      0.42      0.55      1067\n",
            "\n",
            "    accuracy                           0.77     12178\n",
            "   macro avg       0.73      0.66      0.67     12178\n",
            "weighted avg       0.81      0.77      0.78     12178\n",
            "\n"
          ]
        },
        {
          "output_type": "display_data",
          "data": {
            "text/plain": [
              "<Figure size 432x288 with 2 Axes>"
            ],
            "image/png": "[encoded data removed]"
          },
          "metadata": {
            "needs_background": "light"
          }
        },
        {
          "output_type": "stream",
          "name": "stderr",
          "text": [
            "/usr/local/lib/python3.8/dist-packages/sklearn/svm/_base.py:1206: ConvergenceWarning: Liblinear failed to converge, increase the number of iterations.\n",
            "  warnings.warn(\n"
          ]
        },
        {
          "output_type": "stream",
          "name": "stdout",
          "text": [
            "Accuracy of LinearSVC() is 0.30571522417474134\n",
            "              precision    recall  f1-score   support\n",
            "\n",
            "     class 1       1.00      0.10      0.18      8419\n",
            "     class 2       0.24      0.98      0.39      2692\n",
            "     class 3       0.75      0.21      0.32      1067\n",
            "\n",
            "    accuracy                           0.31     12178\n",
            "   macro avg       0.66      0.43      0.30     12178\n",
            "weighted avg       0.81      0.31      0.24     12178\n",
            "\n"
          ]
        },
        {
          "output_type": "display_data",
          "data": {
            "text/plain": [
              "<Figure size 432x288 with 2 Axes>"
            ],
            "image/png": "[encoded data removed]"
          },
          "metadata": {
            "needs_background": "light"
          }
        },
        {
          "output_type": "stream",
          "name": "stdout",
          "text": [
            "Accuracy of MLPClassifier(alpha=1e-05, hidden_layer_sizes=(10, 3), solver='sgd') is 0.22105436032189194\n",
            "              precision    recall  f1-score   support\n",
            "\n",
            "     class 1       0.00      0.00      0.00      8419\n",
            "     class 2       0.22      1.00      0.36      2692\n",
            "     class 3       0.00      0.00      0.00      1067\n",
            "\n",
            "    accuracy                           0.22     12178\n",
            "   macro avg       0.07      0.33      0.12     12178\n",
            "weighted avg       0.05      0.22      0.08     12178\n",
            "\n"
          ]
        },
        {
          "output_type": "stream",
          "name": "stderr",
          "text": [
            "/usr/local/lib/python3.8/dist-packages/sklearn/metrics/_classification.py:1318: UndefinedMetricWarning: Precision and F-score are ill-defined and being set to 0.0 in labels with no predicted samples. Use `zero_division` parameter to control this behavior.\n",
            "  _warn_prf(average, modifier, msg_start, len(result))\n",
            "/usr/local/lib/python3.8/dist-packages/sklearn/metrics/_classification.py:1318: UndefinedMetricWarning: Precision and F-score are ill-defined and being set to 0.0 in labels with no predicted samples. Use `zero_division` parameter to control this behavior.\n",
            "  _warn_prf(average, modifier, msg_start, len(result))\n",
            "/usr/local/lib/python3.8/dist-packages/sklearn/metrics/_classification.py:1318: UndefinedMetricWarning: Precision and F-score are ill-defined and being set to 0.0 in labels with no predicted samples. Use `zero_division` parameter to control this behavior.\n",
            "  _warn_prf(average, modifier, msg_start, len(result))\n"
          ]
        },
        {
          "output_type": "display_data",
          "data": {
            "text/plain": [
              "<Figure size 432x288 with 2 Axes>"
            ],
            "image/png": "[encoded data removed]"
          },
          "metadata": {
            "needs_background": "light"
          }
        },
        {
          "output_type": "stream",
          "name": "stdout",
          "text": [
            "Accuracy of OneVsRestClassifier(estimator=MLPClassifier(alpha=1e-05,\n",
            "                                            hidden_layer_sizes=(10, 3),\n",
            "                                            solver='sgd')) is 0.687058630316965\n",
            "              precision    recall  f1-score   support\n",
            "\n",
            "     class 1       0.69      0.99      0.81      8419\n",
            "     class 2       0.23      0.01      0.02      2692\n",
            "     class 3       0.50      0.00      0.00      1067\n",
            "\n",
            "    accuracy                           0.69     12178\n",
            "   macro avg       0.47      0.33      0.28     12178\n",
            "weighted avg       0.57      0.69      0.57     12178\n",
            "\n"
          ]
        },
        {
          "output_type": "display_data",
          "data": {
            "text/plain": [
              "<Figure size 432x288 with 2 Axes>"
            ],
            "image/png": "[encoded data removed]"
          },
          "metadata": {
            "needs_background": "light"
          }
        }
      ],
      "source": [
        "for clf in classifiers:\n",
        "    clf.fit(X_train, y_train)\n",
        "    y_pred= clf.predict(X_test)\n",
        "    acc = accuracy_score(y_test, y_pred)\n",
        "    print(\"Accuracy of %s is %s\"%(clf, acc))\n",
        "    target_names = ['class 1', 'class 2', 'class 3']\n",
        "    print(classification_report(y_test, y_pred, target_names=target_names))\n",
        "    cm = confusion_matrix(y_test, y_pred, labels=clf.classes_)\n",
        "    disp = ConfusionMatrixDisplay(confusion_matrix=cm, display_labels=clf.classes_).plot()\n",
        "    plt.show()"
      ]
    },
    {
      "cell_type": "code",
      "source": [],
      "metadata": {
        "id": "RZQH98CE86zQ"
      },
      "execution_count": null,
      "outputs": []
    }
  ],
  "metadata": {
    "kernelspec": {
      "display_name": "Python 3 (ipykernel)",
      "language": "python",
      "name": "python3"
    },
    "language_info": {
      "codemirror_mode": {
        "name": "ipython",
        "version": 3
      },
      "file_extension": ".py",
      "mimetype": "text/x-python",
      "name": "python",
      "nbconvert_exporter": "python",
      "pygments_lexer": "ipython3",
      "version": "3.9.13"
    },
    "colab": {
      "provenance": [],
      "include_colab_link": true
    },
    "accelerator": "GPU",
    "gpuClass": "premium"
  },
  "nbformat": 4,
  "nbformat_minor": 0
}